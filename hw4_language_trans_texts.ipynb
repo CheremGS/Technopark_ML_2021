{
  "nbformat": 4,
  "nbformat_minor": 0,
  "metadata": {
    "kernelspec": {
      "display_name": "Python 3",
      "language": "python",
      "name": "python3"
    },
    "language_info": {
      "codemirror_mode": {
        "name": "ipython",
        "version": 3
      },
      "file_extension": ".py",
      "mimetype": "text/x-python",
      "name": "python",
      "nbconvert_exporter": "python",
      "pygments_lexer": "ipython3",
      "version": "3.6.8"
    },
    "toc": {
      "base_numbering": 1,
      "nav_menu": {},
      "number_sections": true,
      "sideBar": true,
      "skip_h1_title": false,
      "title_cell": "Table of Contents",
      "title_sidebar": "Contents",
      "toc_cell": true,
      "toc_position": {},
      "toc_section_display": true,
      "toc_window_display": false
    },
    "colab": {
      "name": "language_tranc_Cherem.ipynb",
      "provenance": [],
      "collapsed_sections": [],
      "toc_visible": true
    }
  },
  "cells": [
    {
      "cell_type": "markdown",
      "metadata": {
        "toc": true,
        "id": "ugyK6YIBVFvJ"
      },
      "source": [
        "<h1>Table of Contents<span class=\"tocSkip\"></span></h1>\n",
        "<div class=\"toc\"><ul class=\"toc-item\"><li><span><a href=\"#Exploratory-Data-Analysis-and-Metric\" data-toc-modified-id=\"Exploratory-Data-Analysis-and-Metric-1\"><span class=\"toc-item-num\">1&nbsp;&nbsp;</span>Exploratory Data Analysis and Metric</a></span></li><li><span><a href=\"#Model\" data-toc-modified-id=\"Model-2\"><span class=\"toc-item-num\">2&nbsp;&nbsp;</span>Model</a></span></li><li><span><a href=\"#Submit\" data-toc-modified-id=\"Submit-3\"><span class=\"toc-item-num\">3&nbsp;&nbsp;</span>Submit</a></span></li><li><span><a href=\"#Homework\" data-toc-modified-id=\"Homework-4\"><span class=\"toc-item-num\">4&nbsp;&nbsp;</span>Homework</a></span></li></ul></div>"
      ]
    },
    {
      "cell_type": "code",
      "metadata": {
        "ExecuteTime": {
          "end_time": "2021-04-14T09:20:04.248094Z",
          "start_time": "2021-04-14T09:20:01.514286Z"
        },
        "id": "gxRZQ_nvVFvV"
      },
      "source": [
        "import numpy as np\n",
        "import pandas as pd\n",
        "import matplotlib.pyplot as plt\n",
        "plt.style.use('ggplot')\n",
        "\n",
        "from sklearn.preprocessing  import LabelEncoder\n",
        "from sklearn.feature_extraction.text import TfidfVectorizer\n",
        "from sklearn.linear_model import SGDClassifier, LogisticRegression\n",
        "from sklearn.svm import LinearSVC\n",
        "from sklearn.pipeline import Pipeline\n",
        "from sklearn.metrics import balanced_accuracy_score\n",
        "import gensim"
      ],
      "execution_count": null,
      "outputs": []
    },
    {
      "cell_type": "markdown",
      "metadata": {
        "id": "6NZ6tlxvV1CR"
      },
      "source": [
        "!!! Если уже есть архивы с обучающей и тестовой выборкой, то пропустить до пункта \"Exploratory Data Analysis and Metric\""
      ]
    },
    {
      "cell_type": "code",
      "metadata": {
        "id": "EMmvZtwJiQyr",
        "colab": {
          "resources": {
            "http://localhost:8080/nbextensions/google.colab/files.js": {
              "data": "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",
              "ok": true,
              "headers": [
                [
                  "content-type",
                  "application/javascript"
                ]
              ],
              "status": 200,
              "status_text": ""
            }
          },
          "base_uri": "https://localhost:8080/",
          "height": 91
        },
        "outputId": "a7156be2-e441-4106-a85e-62273f380cf3"
      },
      "source": [
        "from google.colab import files\n",
        "files.upload()"
      ],
      "execution_count": null,
      "outputs": [
        {
          "output_type": "display_data",
          "data": {
            "text/html": [
              "\n",
              "     <input type=\"file\" id=\"files-d0e783f4-1fe3-4fc4-898e-47bed627ec0f\" name=\"files[]\" multiple disabled\n",
              "        style=\"border:none\" />\n",
              "     <output id=\"result-d0e783f4-1fe3-4fc4-898e-47bed627ec0f\">\n",
              "      Upload widget is only available when the cell has been executed in the\n",
              "      current browser session. Please rerun this cell to enable.\n",
              "      </output>\n",
              "      <script src=\"/nbextensions/google.colab/files.js\"></script> "
            ],
            "text/plain": [
              "<IPython.core.display.HTML object>"
            ]
          },
          "metadata": {
            "tags": []
          }
        },
        {
          "output_type": "stream",
          "text": [
            "Saving kaggle.json to kaggle (1).json\n"
          ],
          "name": "stdout"
        },
        {
          "output_type": "execute_result",
          "data": {
            "text/plain": [
              "{'kaggle.json': b'{\"username\":\"cheremgena\",\"key\":\"612804349bee7f5ec4bff977ed4ea76a\"}'}"
            ]
          },
          "metadata": {
            "tags": []
          },
          "execution_count": 2
        }
      ]
    },
    {
      "cell_type": "code",
      "metadata": {
        "id": "esQmCcMHkNPp"
      },
      "source": [
        "!pip install -q kaggle"
      ],
      "execution_count": null,
      "outputs": []
    },
    {
      "cell_type": "code",
      "metadata": {
        "id": "WeBLg_Vbk87n"
      },
      "source": [
        "# The Kaggle API client expects this file to be in ~/.kaggle,\n",
        "# so move it there.\n",
        "!mkdir -p ~/.kaggle\n",
        "!cp kaggle.json ~/.kaggle/\n",
        "\n",
        "# This permissions change avoids a warning on Kaggle tool startup.\n",
        "!chmod 600 ~/.kaggle/kaggle.json"
      ],
      "execution_count": null,
      "outputs": []
    },
    {
      "cell_type": "code",
      "metadata": {
        "id": "I3-Kc0XglENK"
      },
      "source": [
        "# List available datasets.\n",
        "!kaggle datasets list"
      ],
      "execution_count": null,
      "outputs": []
    },
    {
      "cell_type": "code",
      "metadata": {
        "id": "QfId_nbYlXPX",
        "colab": {
          "base_uri": "https://localhost:8080/"
        },
        "outputId": "3409b0cb-7d36-44c8-e362-9ec92020c7d6"
      },
      "source": [
        "# Copy the stackoverflow data set locally.\n",
        "!kaggle competitions download -c language-detection"
      ],
      "execution_count": null,
      "outputs": [
        {
          "output_type": "stream",
          "text": [
            "Traceback (most recent call last):\n",
            "  File \"/usr/local/bin/kaggle\", line 5, in <module>\n",
            "    from kaggle.cli import main\n",
            "  File \"/usr/local/lib/python2.7/dist-packages/kaggle/__init__.py\", line 23, in <module>\n",
            "    api.authenticate()\n",
            "  File \"/usr/local/lib/python2.7/dist-packages/kaggle/api/kaggle_api_extended.py\", line 146, in authenticate\n",
            "    self.config_file, self.config_dir))\n",
            "IOError: Could not find kaggle.json. Make sure it's located in /root/.kaggle. Or use the environment method.\n"
          ],
          "name": "stdout"
        }
      ]
    },
    {
      "cell_type": "code",
      "metadata": {
        "ExecuteTime": {
          "end_time": "2021-04-14T09:20:04.825956Z",
          "start_time": "2021-04-14T09:20:04.823335Z"
        },
        "id": "DwcPmaKOVFvX"
      },
      "source": [
        "SEED = 42"
      ],
      "execution_count": null,
      "outputs": []
    },
    {
      "cell_type": "markdown",
      "metadata": {
        "id": "08CwOTRvVFvY"
      },
      "source": [
        "**[Kaggle InClass: Language Detection](https://www.kaggle.com/t/bb11ace54b1a465e91b8c3f46a840ce0)**"
      ]
    },
    {
      "cell_type": "markdown",
      "metadata": {
        "ExecuteTime": {
          "end_time": "2020-10-30T12:22:00.913789Z",
          "start_time": "2020-10-30T12:22:00.909736Z"
        },
        "id": "I93RjqvfVFvZ"
      },
      "source": [
        "# Exploratory Data Analysis and Metric"
      ]
    },
    {
      "cell_type": "code",
      "metadata": {
        "ExecuteTime": {
          "end_time": "2021-04-14T09:21:10.272384Z",
          "start_time": "2021-04-14T09:20:53.723570Z"
        },
        "id": "1BZFnOEFVFvZ"
      },
      "source": [
        "#DATA_PATH = './data/competition_data'\n",
        "train_df = pd.read_csv('train.csv.zip')\n",
        "test_df = pd.read_csv('test.csv.zip')"
      ],
      "execution_count": null,
      "outputs": []
    },
    {
      "cell_type": "code",
      "metadata": {
        "ExecuteTime": {
          "end_time": "2021-04-14T09:21:16.634662Z",
          "start_time": "2021-04-14T09:21:16.627193Z"
        },
        "id": "pPZY2jIhVFva",
        "colab": {
          "base_uri": "https://localhost:8080/"
        },
        "outputId": "371ba50a-238b-4a88-fdb2-9a064002bfee"
      },
      "source": [
        "train_df.shape, test_df.shape"
      ],
      "execution_count": null,
      "outputs": [
        {
          "output_type": "execute_result",
          "data": {
            "text/plain": [
              "((3159633, 2), (2784634, 2))"
            ]
          },
          "metadata": {
            "tags": []
          },
          "execution_count": 91
        }
      ]
    },
    {
      "cell_type": "code",
      "metadata": {
        "ExecuteTime": {
          "end_time": "2021-04-14T09:21:25.547200Z",
          "start_time": "2021-04-14T09:21:25.511656Z"
        },
        "id": "Gm8DfKOyVFvc",
        "colab": {
          "base_uri": "https://localhost:8080/",
          "height": 487
        },
        "outputId": "4e9e419c-027c-4058-9b18-6e18c7d83a89"
      },
      "source": [
        "train_df.head(15)"
      ],
      "execution_count": null,
      "outputs": [
        {
          "output_type": "execute_result",
          "data": {
            "text/html": [
              "<div>\n",
              "<style scoped>\n",
              "    .dataframe tbody tr th:only-of-type {\n",
              "        vertical-align: middle;\n",
              "    }\n",
              "\n",
              "    .dataframe tbody tr th {\n",
              "        vertical-align: top;\n",
              "    }\n",
              "\n",
              "    .dataframe thead th {\n",
              "        text-align: right;\n",
              "    }\n",
              "</style>\n",
              "<table border=\"1\" class=\"dataframe\">\n",
              "  <thead>\n",
              "    <tr style=\"text-align: right;\">\n",
              "      <th></th>\n",
              "      <th>sentence</th>\n",
              "      <th>language</th>\n",
              "    </tr>\n",
              "  </thead>\n",
              "  <tbody>\n",
              "    <tr>\n",
              "      <th>0</th>\n",
              "      <td>Pensez à la communication , le discours , les ...</td>\n",
              "      <td>fr</td>\n",
              "    </tr>\n",
              "    <tr>\n",
              "      <th>1</th>\n",
              "      <td>Můžete si ji pronajmout , vzít na splátky , ko...</td>\n",
              "      <td>cs</td>\n",
              "    </tr>\n",
              "    <tr>\n",
              "      <th>2</th>\n",
              "      <td>Každý starosta pochopil , že když mají tyto fo...</td>\n",
              "      <td>cs</td>\n",
              "    </tr>\n",
              "    <tr>\n",
              "      <th>3</th>\n",
              "      <td>Det är ytterligare bevis , men ändå — Jag krit...</td>\n",
              "      <td>sv</td>\n",
              "    </tr>\n",
              "    <tr>\n",
              "      <th>4</th>\n",
              "      <td>كان الأمر لا يصدق .</td>\n",
              "      <td>ar</td>\n",
              "    </tr>\n",
              "    <tr>\n",
              "      <th>5</th>\n",
              "      <td>Na primjer , pjesnik ga opisuje ovako .</td>\n",
              "      <td>hr</td>\n",
              "    </tr>\n",
              "    <tr>\n",
              "      <th>6</th>\n",
              "      <td>Semua rerumputan itu sekarang menutupi tanah s...</td>\n",
              "      <td>id</td>\n",
              "    </tr>\n",
              "    <tr>\n",
              "      <th>7</th>\n",
              "      <td>Det är en enorm utmaning för oss att göra det .</td>\n",
              "      <td>sv</td>\n",
              "    </tr>\n",
              "    <tr>\n",
              "      <th>8</th>\n",
              "      <td>Ono što ćete vidjeti - trebat ćete skočiti ovd...</td>\n",
              "      <td>hr</td>\n",
              "    </tr>\n",
              "    <tr>\n",
              "      <th>9</th>\n",
              "      <td>( Alqışlar ) Excel-dən istifadə etmişəm .</td>\n",
              "      <td>az</td>\n",
              "    </tr>\n",
              "    <tr>\n",
              "      <th>10</th>\n",
              "      <td>После увольнения я решил собрать своих друзей ...</td>\n",
              "      <td>ru</td>\n",
              "    </tr>\n",
              "    <tr>\n",
              "      <th>11</th>\n",
              "      <td>יכולתי בקלות למצוא את עצמי שם או ברחוב .</td>\n",
              "      <td>he</td>\n",
              "    </tr>\n",
              "    <tr>\n",
              "      <th>12</th>\n",
              "      <td>この過去の遺産と決別することが これまで以上に急務です 互いを深く隔てる社会的不平等を終わら...</td>\n",
              "      <td>ja</td>\n",
              "    </tr>\n",
              "    <tr>\n",
              "      <th>13</th>\n",
              "      <td>Ты знаешь , что это не гнев заставил моё сердц...</td>\n",
              "      <td>ru</td>\n",
              "    </tr>\n",
              "    <tr>\n",
              "      <th>14</th>\n",
              "      <td>Wie gehen wir so etwas also an ?</td>\n",
              "      <td>de</td>\n",
              "    </tr>\n",
              "  </tbody>\n",
              "</table>\n",
              "</div>"
            ],
            "text/plain": [
              "                                             sentence language\n",
              "0   Pensez à la communication , le discours , les ...       fr\n",
              "1   Můžete si ji pronajmout , vzít na splátky , ko...       cs\n",
              "2   Každý starosta pochopil , že když mají tyto fo...       cs\n",
              "3   Det är ytterligare bevis , men ändå — Jag krit...       sv\n",
              "4                                 كان الأمر لا يصدق .       ar\n",
              "5             Na primjer , pjesnik ga opisuje ovako .       hr\n",
              "6   Semua rerumputan itu sekarang menutupi tanah s...       id\n",
              "7     Det är en enorm utmaning för oss att göra det .       sv\n",
              "8   Ono što ćete vidjeti - trebat ćete skočiti ovd...       hr\n",
              "9           ( Alqışlar ) Excel-dən istifadə etmişəm .       az\n",
              "10  После увольнения я решил собрать своих друзей ...       ru\n",
              "11           יכולתי בקלות למצוא את עצמי שם או ברחוב .       he\n",
              "12  この過去の遺産と決別することが これまで以上に急務です 互いを深く隔てる社会的不平等を終わら...       ja\n",
              "13  Ты знаешь , что это не гнев заставил моё сердц...       ru\n",
              "14                   Wie gehen wir so etwas also an ?       de"
            ]
          },
          "metadata": {
            "tags": []
          },
          "execution_count": 92
        }
      ]
    },
    {
      "cell_type": "code",
      "metadata": {
        "ExecuteTime": {
          "end_time": "2021-04-14T09:21:35.736651Z",
          "start_time": "2021-04-14T09:21:35.417248Z"
        },
        "id": "jlrjkHJfVFvd",
        "colab": {
          "base_uri": "https://localhost:8080/",
          "height": 194
        },
        "outputId": "d2273f38-5284-4574-da89-071b0514de18"
      },
      "source": [
        "lang_count = (\n",
        "    train_df.language.value_counts()\n",
        "    .to_frame()\n",
        "    .reset_index()\n",
        ")\n",
        "\n",
        "lang_count.head()"
      ],
      "execution_count": null,
      "outputs": [
        {
          "output_type": "execute_result",
          "data": {
            "text/html": [
              "<div>\n",
              "<style scoped>\n",
              "    .dataframe tbody tr th:only-of-type {\n",
              "        vertical-align: middle;\n",
              "    }\n",
              "\n",
              "    .dataframe tbody tr th {\n",
              "        vertical-align: top;\n",
              "    }\n",
              "\n",
              "    .dataframe thead th {\n",
              "        text-align: right;\n",
              "    }\n",
              "</style>\n",
              "<table border=\"1\" class=\"dataframe\">\n",
              "  <thead>\n",
              "    <tr style=\"text-align: right;\">\n",
              "      <th></th>\n",
              "      <th>index</th>\n",
              "      <th>language</th>\n",
              "    </tr>\n",
              "  </thead>\n",
              "  <tbody>\n",
              "    <tr>\n",
              "      <th>0</th>\n",
              "      <td>ru</td>\n",
              "      <td>181970</td>\n",
              "    </tr>\n",
              "    <tr>\n",
              "      <th>1</th>\n",
              "      <td>en</td>\n",
              "      <td>157655</td>\n",
              "    </tr>\n",
              "    <tr>\n",
              "      <th>2</th>\n",
              "      <td>fr</td>\n",
              "      <td>148585</td>\n",
              "    </tr>\n",
              "    <tr>\n",
              "      <th>3</th>\n",
              "      <td>vi</td>\n",
              "      <td>113193</td>\n",
              "    </tr>\n",
              "    <tr>\n",
              "      <th>4</th>\n",
              "      <td>ar</td>\n",
              "      <td>110032</td>\n",
              "    </tr>\n",
              "  </tbody>\n",
              "</table>\n",
              "</div>"
            ],
            "text/plain": [
              "  index  language\n",
              "0    ru    181970\n",
              "1    en    157655\n",
              "2    fr    148585\n",
              "3    vi    113193\n",
              "4    ar    110032"
            ]
          },
          "metadata": {
            "tags": []
          },
          "execution_count": 93
        }
      ]
    },
    {
      "cell_type": "code",
      "metadata": {
        "ExecuteTime": {
          "end_time": "2021-04-14T09:21:43.580282Z",
          "start_time": "2021-04-14T09:21:42.649761Z"
        },
        "id": "pC_fjDAhVFvd",
        "colab": {
          "base_uri": "https://localhost:8080/",
          "height": 1000
        },
        "outputId": "e143fbe6-7938-44f4-eeaf-541f0026db24"
      },
      "source": [
        "fig, ax = plt.subplots(figsize=(8,25))\n",
        "\n",
        "ax.barh(lang_count['index'], lang_count['language'])\n",
        "ax.invert_yaxis();"
      ],
      "execution_count": null,
      "outputs": [
        {
          "output_type": "display_data",
          "data": {
            "image/png": "[encoded data removed]",
            "text/plain": [
              "<Figure size 576x1800 with 1 Axes>"
            ]
          },
          "metadata": {
            "tags": []
          }
        }
      ]
    },
    {
      "cell_type": "code",
      "metadata": {
        "ExecuteTime": {
          "end_time": "2021-04-14T09:21:53.532174Z",
          "start_time": "2021-04-14T09:21:53.520559Z"
        },
        "id": "h6MFq4VhVFve",
        "colab": {
          "base_uri": "https://localhost:8080/",
          "height": 106
        },
        "outputId": "5d1a0f6e-0a0c-4196-a0cd-2b7c1bed0818"
      },
      "source": [
        "lang_count[lang_count['index'].apply(lambda x: x in {\"en\", \"kk\"})]"
      ],
      "execution_count": null,
      "outputs": [
        {
          "output_type": "execute_result",
          "data": {
            "text/html": [
              "<div>\n",
              "<style scoped>\n",
              "    .dataframe tbody tr th:only-of-type {\n",
              "        vertical-align: middle;\n",
              "    }\n",
              "\n",
              "    .dataframe tbody tr th {\n",
              "        vertical-align: top;\n",
              "    }\n",
              "\n",
              "    .dataframe thead th {\n",
              "        text-align: right;\n",
              "    }\n",
              "</style>\n",
              "<table border=\"1\" class=\"dataframe\">\n",
              "  <thead>\n",
              "    <tr style=\"text-align: right;\">\n",
              "      <th></th>\n",
              "      <th>index</th>\n",
              "      <th>language</th>\n",
              "    </tr>\n",
              "  </thead>\n",
              "  <tbody>\n",
              "    <tr>\n",
              "      <th>1</th>\n",
              "      <td>en</td>\n",
              "      <td>157655</td>\n",
              "    </tr>\n",
              "    <tr>\n",
              "      <th>58</th>\n",
              "      <td>kk</td>\n",
              "      <td>2046</td>\n",
              "    </tr>\n",
              "  </tbody>\n",
              "</table>\n",
              "</div>"
            ],
            "text/plain": [
              "   index  language\n",
              "1     en    157655\n",
              "58    kk      2046"
            ]
          },
          "metadata": {
            "tags": []
          },
          "execution_count": 95
        }
      ]
    },
    {
      "cell_type": "markdown",
      "metadata": {
        "id": "A6nveR7bVFvf"
      },
      "source": [
        "Датасет сильно не сбалансирован по классам, а требуется хорошее качество для всех языков, поэтому метрика в данном соревновании — взвешенная доля правильных ответов:\n",
        "\n",
        "$$ \n",
        "\\text{WeightedAccuracy}\\left(y, \\hat{y}, w\\right) = \\frac{\\displaystyle{\\sum_{i=1}^{n}} w_i \\cdot \\left(y_i == \\hat{y}_i\\right)}{\\displaystyle\\sum_{i=1}^{n} w_i } \n",
        "$$\n",
        "\n",
        "Веса выбирались обратно пропорционально количеству примеров соответствующего языка:\n",
        "$$\n",
        "w\\left(\\text{\"en\"}\\right) \\sim \\frac{1}{157655}\n",
        "$$\n",
        "$$ \\dots $$\n",
        "$$\n",
        "w\\left(\\text{\"kk\"}\\right) \\sim \\frac{1}{2046}\n",
        "$$\n",
        "\n",
        "Поэтому для валидации можно использовать [sklearn.metrics.balanced_accuracy_score](https://scikit-learn.org/stable/modules/model_evaluation.html#balanced-accuracy-score)"
      ]
    },
    {
      "cell_type": "markdown",
      "metadata": {
        "id": "m0N2nnNaVFvf"
      },
      "source": [
        "# Model"
      ]
    },
    {
      "cell_type": "code",
      "metadata": {
        "ExecuteTime": {
          "end_time": "2021-04-14T09:22:23.147917Z",
          "start_time": "2021-04-14T09:22:22.689929Z"
        },
        "id": "d1KleU-YVFvg"
      },
      "source": [
        "x = train_df.values[:, 0]\n",
        "label_encoder = LabelEncoder().fit(train_df.values[:, 1])\n",
        "y = label_encoder.transform(train_df.values[:, 1])"
      ],
      "execution_count": null,
      "outputs": []
    },
    {
      "cell_type": "code",
      "metadata": {
        "ExecuteTime": {
          "end_time": "2021-04-14T09:22:30.060126Z",
          "start_time": "2021-04-14T09:22:30.056241Z"
        },
        "id": "lN5Ab1rXVFvg"
      },
      "source": [
        "pipe = Pipeline([\n",
        "    ('vectorizer', TfidfVectorizer()),\n",
        "    ('model', SGDClassifier(random_state=SEED, loss='log'))\n",
        "])"
      ],
      "execution_count": null,
      "outputs": []
    },
    {
      "cell_type": "code",
      "metadata": {
        "ExecuteTime": {
          "end_time": "2021-04-14T09:34:06.384563Z",
          "start_time": "2021-04-14T09:23:02.093410Z"
        },
        "id": "PAd6ugNcVFvh",
        "colab": {
          "base_uri": "https://localhost:8080/"
        },
        "outputId": "5cdeee14-41fb-45b1-811d-c0f94defbcaf"
      },
      "source": [
        "pipe.fit(x, y)"
      ],
      "execution_count": null,
      "outputs": [
        {
          "output_type": "execute_result",
          "data": {
            "text/plain": [
              "Pipeline(memory=None,\n",
              "         steps=[('vectorizer',\n",
              "                 TfidfVectorizer(analyzer='word', binary=False,\n",
              "                                 decode_error='strict',\n",
              "                                 dtype=<class 'numpy.float64'>,\n",
              "                                 encoding='utf-8', input='content',\n",
              "                                 lowercase=True, max_df=1.0, max_features=None,\n",
              "                                 min_df=1, ngram_range=(1, 1), norm='l2',\n",
              "                                 preprocessor=None, smooth_idf=True,\n",
              "                                 stop_words=None, strip_accents=None,\n",
              "                                 sublinear_tf=False,\n",
              "                                 token_patt...\n",
              "                ('model',\n",
              "                 SGDClassifier(alpha=0.0001, average=False, class_weight=None,\n",
              "                               early_stopping=False, epsilon=0.1, eta0=0.0,\n",
              "                               fit_intercept=True, l1_ratio=0.15,\n",
              "                               learning_rate='optimal', loss='log',\n",
              "                               max_iter=1000, n_iter_no_change=5, n_jobs=None,\n",
              "                               penalty='l2', power_t=0.5, random_state=42,\n",
              "                               shuffle=True, tol=0.001, validation_fraction=0.1,\n",
              "                               verbose=0, warm_start=False))],\n",
              "         verbose=False)"
            ]
          },
          "metadata": {
            "tags": []
          },
          "execution_count": 19
        }
      ]
    },
    {
      "cell_type": "code",
      "metadata": {
        "ExecuteTime": {
          "end_time": "2021-04-14T09:36:01.447281Z",
          "start_time": "2021-04-14T09:34:06.394501Z"
        },
        "id": "a3tYGd75VFvi"
      },
      "source": [
        "predictions = pipe.predict(x)"
      ],
      "execution_count": null,
      "outputs": []
    },
    {
      "cell_type": "code",
      "metadata": {
        "ExecuteTime": {
          "end_time": "2021-04-14T09:36:04.250176Z",
          "start_time": "2021-04-14T09:36:01.466775Z"
        },
        "id": "YYlaVbcrVFvi",
        "colab": {
          "base_uri": "https://localhost:8080/"
        },
        "outputId": "b0e71755-0d1e-479d-ceee-eca4be17a2af"
      },
      "source": [
        "balanced_accuracy_score(y, predictions)"
      ],
      "execution_count": null,
      "outputs": [
        {
          "output_type": "execute_result",
          "data": {
            "text/plain": [
              "0.4716591038583872"
            ]
          },
          "metadata": {
            "tags": []
          },
          "execution_count": 21
        }
      ]
    },
    {
      "cell_type": "markdown",
      "metadata": {
        "id": "93gZ_2R9VFvj"
      },
      "source": [
        "# Submit"
      ]
    },
    {
      "cell_type": "code",
      "metadata": {
        "ExecuteTime": {
          "end_time": "2021-04-14T09:37:56.096959Z",
          "start_time": "2021-04-14T09:36:08.364057Z"
        },
        "id": "RODf1FSNVFvj"
      },
      "source": [
        "submit_predictions = pipe.predict(test_df.sentence.values)"
      ],
      "execution_count": null,
      "outputs": []
    },
    {
      "cell_type": "code",
      "metadata": {
        "ExecuteTime": {
          "end_time": "2021-04-14T09:37:56.332183Z",
          "start_time": "2021-04-14T09:37:56.107040Z"
        },
        "id": "nrKGyRUmVFvj"
      },
      "source": [
        "test_df['language'] = label_encoder.classes_[submit_predictions]\n",
        "\n",
        "test_df.head()"
      ],
      "execution_count": null,
      "outputs": []
    },
    {
      "cell_type": "code",
      "metadata": {
        "ExecuteTime": {
          "end_time": "2021-04-14T09:38:02.684073Z",
          "start_time": "2021-04-14T09:37:56.338439Z"
        },
        "id": "z0zgK1QCVFvk"
      },
      "source": [
        "(\n",
        "    test_df[['index', 'language']]\n",
        "    .to_csv('sample_submission.csv', index=False)\n",
        ")"
      ],
      "execution_count": null,
      "outputs": []
    },
    {
      "cell_type": "code",
      "metadata": {
        "ExecuteTime": {
          "end_time": "2021-04-14T09:38:02.856262Z",
          "start_time": "2021-04-14T09:38:02.686534Z"
        },
        "id": "hw9BFYDdVFvk"
      },
      "source": [
        "!head $DATA_PATH/sample_submission.csv"
      ],
      "execution_count": null,
      "outputs": []
    },
    {
      "cell_type": "markdown",
      "metadata": {
        "id": "xehswoFRVFvl"
      },
      "source": [
        "# Homework\n",
        "\n",
        "- выбить хороший score на private leaderboard'е (8 баллов)\n",
        "- совет: поищите ошибки в train-части датасета"
      ]
    },
    {
      "cell_type": "code",
      "metadata": {
        "colab": {
          "base_uri": "https://localhost:8080/"
        },
        "id": "m8LrIBk581V9",
        "outputId": "254c776d-8b16-49c4-83ef-6b520ebc937b"
      },
      "source": [
        "train_df.language.apply(lambda x: ('ja' in x) or ('zh' in x) or ('ko' in x))\n",
        "#['ja', 'ko', 'zh']"
      ],
      "execution_count": null,
      "outputs": [
        {
          "output_type": "execute_result",
          "data": {
            "text/plain": [
              "0          False\n",
              "1          False\n",
              "2          False\n",
              "3          False\n",
              "4          False\n",
              "           ...  \n",
              "3159628     True\n",
              "3159629    False\n",
              "3159630    False\n",
              "3159631    False\n",
              "3159632    False\n",
              "Name: language, Length: 3159633, dtype: bool"
            ]
          },
          "metadata": {
            "tags": []
          },
          "execution_count": 23
        }
      ]
    },
    {
      "cell_type": "code",
      "metadata": {
        "id": "7zoChP7UVFvl",
        "colab": {
          "base_uri": "https://localhost:8080/"
        },
        "outputId": "bcd722e2-506a-41ab-a307-6b045e8ea27a"
      },
      "source": [
        "little_sentenses = train_df.sentence.apply(lambda x: len(x))[(train_df.sentence.apply(lambda x: len(x)) < 3)].index\n",
        "train_df.iloc[little_sentenses, :].language.value_counts()"
      ],
      "execution_count": null,
      "outputs": [
        {
          "output_type": "execute_result",
          "data": {
            "text/plain": [
              "zh-tw    208\n",
              "zh-cn    191\n",
              "ja        44\n",
              "ko        30\n",
              "zh        24\n",
              "fr        18\n",
              "nl         8\n",
              "cs         5\n",
              "he         4\n",
              "vi         3\n",
              "es         2\n",
              "ar         2\n",
              "hu         2\n",
              "fa         1\n",
              "hi         1\n",
              "nb         1\n",
              "pl         1\n",
              "mk         1\n",
              "ro         1\n",
              "id         1\n",
              "th         1\n",
              "it         1\n",
              "sr         1\n",
              "sv         1\n",
              "sl         1\n",
              "pt-br      1\n",
              "bg         1\n",
              "hr         1\n",
              "bn         1\n",
              "ru         1\n",
              "Name: language, dtype: int64"
            ]
          },
          "metadata": {
            "tags": []
          },
          "execution_count": 24
        }
      ]
    },
    {
      "cell_type": "code",
      "metadata": {
        "colab": {
          "base_uri": "https://localhost:8080/"
        },
        "id": "ua2vDei5_AeZ",
        "outputId": "23c12ec5-4326-4fab-fcac-9eff5f1c787e"
      },
      "source": [
        "n_lang = train_df.language.apply(lambda x: ('ja' in x) or ('zh' in x) or ('ko' in x))\n",
        "little_sentenses_not_east = n_lang[n_lang == 1].index\n",
        "little_sentenses_not_east"
      ],
      "execution_count": null,
      "outputs": [
        {
          "output_type": "execute_result",
          "data": {
            "text/plain": [
              "Int64Index([     12,      18,      19,      20,      21,      33,      36,\n",
              "                 49,      58,      60,\n",
              "            ...\n",
              "            3159572, 3159573, 3159577, 3159589, 3159594, 3159616, 3159620,\n",
              "            3159621, 3159625, 3159628],\n",
              "           dtype='int64', length=420043)"
            ]
          },
          "metadata": {
            "tags": []
          },
          "execution_count": 25
        }
      ]
    },
    {
      "cell_type": "code",
      "metadata": {
        "id": "Noi1EDKDGlTD",
        "colab": {
          "base_uri": "https://localhost:8080/",
          "height": 399
        },
        "outputId": "c45afbab-8501-4bba-dbaf-16360e3ca9b1"
      },
      "source": [
        "train_df.iloc[little_sentenses, :]"
      ],
      "execution_count": null,
      "outputs": [
        {
          "output_type": "execute_result",
          "data": {
            "text/html": [
              "<div>\n",
              "<style scoped>\n",
              "    .dataframe tbody tr th:only-of-type {\n",
              "        vertical-align: middle;\n",
              "    }\n",
              "\n",
              "    .dataframe tbody tr th {\n",
              "        vertical-align: top;\n",
              "    }\n",
              "\n",
              "    .dataframe thead th {\n",
              "        text-align: right;\n",
              "    }\n",
              "</style>\n",
              "<table border=\"1\" class=\"dataframe\">\n",
              "  <thead>\n",
              "    <tr style=\"text-align: right;\">\n",
              "      <th></th>\n",
              "      <th>sentence</th>\n",
              "      <th>language</th>\n",
              "    </tr>\n",
              "  </thead>\n",
              "  <tbody>\n",
              "    <tr>\n",
              "      <th>13324</th>\n",
              "      <td>谢谢</td>\n",
              "      <td>zh-cn</td>\n",
              "    </tr>\n",
              "    <tr>\n",
              "      <th>16764</th>\n",
              "      <td>好啦</td>\n",
              "      <td>zh</td>\n",
              "    </tr>\n",
              "    <tr>\n",
              "      <th>16903</th>\n",
              "      <td>うん</td>\n",
              "      <td>ja</td>\n",
              "    </tr>\n",
              "    <tr>\n",
              "      <th>17066</th>\n",
              "      <td>开拍</td>\n",
              "      <td>zh-cn</td>\n",
              "    </tr>\n",
              "    <tr>\n",
              "      <th>46789</th>\n",
              "      <td>-</td>\n",
              "      <td>cs</td>\n",
              "    </tr>\n",
              "    <tr>\n",
              "      <th>...</th>\n",
              "      <td>...</td>\n",
              "      <td>...</td>\n",
              "    </tr>\n",
              "    <tr>\n",
              "      <th>3100234</th>\n",
              "      <td>さて</td>\n",
              "      <td>ja</td>\n",
              "    </tr>\n",
              "    <tr>\n",
              "      <th>3103575</th>\n",
              "      <td>谢谢</td>\n",
              "      <td>zh-cn</td>\n",
              "    </tr>\n",
              "    <tr>\n",
              "      <th>3117811</th>\n",
              "      <td>好</td>\n",
              "      <td>zh-tw</td>\n",
              "    </tr>\n",
              "    <tr>\n",
              "      <th>3123797</th>\n",
              "      <td>其實</td>\n",
              "      <td>zh-tw</td>\n",
              "    </tr>\n",
              "    <tr>\n",
              "      <th>3153001</th>\n",
              "      <td>鼓掌</td>\n",
              "      <td>zh-cn</td>\n",
              "    </tr>\n",
              "  </tbody>\n",
              "</table>\n",
              "<p>558 rows × 2 columns</p>\n",
              "</div>"
            ],
            "text/plain": [
              "        sentence language\n",
              "13324         谢谢    zh-cn\n",
              "16764         好啦       zh\n",
              "16903         うん       ja\n",
              "17066         开拍    zh-cn\n",
              "46789          -       cs\n",
              "...          ...      ...\n",
              "3100234       さて       ja\n",
              "3103575       谢谢    zh-cn\n",
              "3117811        好    zh-tw\n",
              "3123797       其實    zh-tw\n",
              "3153001       鼓掌    zh-cn\n",
              "\n",
              "[558 rows x 2 columns]"
            ]
          },
          "metadata": {
            "tags": []
          },
          "execution_count": 26
        }
      ]
    },
    {
      "cell_type": "markdown",
      "metadata": {
        "id": "9z05ydk_AKEX"
      },
      "source": [
        "##1 Поиск выбросов"
      ]
    },
    {
      "cell_type": "markdown",
      "metadata": {
        "id": "0b4YxA2ZA-FT"
      },
      "source": [
        "###1.1 Русский язык"
      ]
    },
    {
      "cell_type": "code",
      "metadata": {
        "id": "RcybywDVYNT7"
      },
      "source": [
        "import re"
      ],
      "execution_count": null,
      "outputs": []
    },
    {
      "cell_type": "code",
      "metadata": {
        "id": "ZRR4rR5KBOQG"
      },
      "source": [
        "rus = train_df[train_df.language == 'ru'].sentence"
      ],
      "execution_count": null,
      "outputs": []
    },
    {
      "cell_type": "code",
      "metadata": {
        "colab": {
          "base_uri": "https://localhost:8080/",
          "height": 36
        },
        "id": "ze2jFFHHaaYE",
        "outputId": "8ad8f834-5991-4d6a-b7f4-d909b784d7dc"
      },
      "source": [
        "# Тест регулярного выражения\n",
        "display(rus[13])\n",
        "\n",
        "s = re.findall('[^а-яёА-ЯЁ0-9\\s,.:!?\\\"-=_+()[][%/\\\\@#$^&*|€<>;]?', rus[13])\n",
        "if s:\n",
        "    print(s.group())\n",
        "else:\n",
        "    print(\"сравнений не обнаружено\")"
      ],
      "execution_count": null,
      "outputs": [
        {
          "output_type": "execute_result",
          "data": {
            "application/vnd.google.colaboratory.intrinsic+json": {
              "type": "string"
            },
            "text/plain": [
              "'Ты знаешь , что это не гнев заставил моё сердце остановиться прежде чем молот упал .'"
            ]
          },
          "metadata": {
            "tags": []
          },
          "execution_count": 13
        }
      ]
    },
    {
      "cell_type": "code",
      "metadata": {
        "id": "rWEyLvhq0HXn"
      },
      "source": [
        "outs_rus = rus.apply(lambda x: 1 if re.search('[^а-яёА-ЯЁ0-9\\s,.:!?\\\"-=_+()[][%/\\\\@#$^&*|€<>;]?', x) else 0)\n",
        "outs = rus[outs_rus == 1]"
      ],
      "execution_count": null,
      "outputs": []
    },
    {
      "cell_type": "code",
      "metadata": {
        "colab": {
          "base_uri": "https://localhost:8080/"
        },
        "id": "IDp9XLS13VTw",
        "outputId": "f945745c-63dd-4742-eaf7-56b1315d5173"
      },
      "source": [
        "outs.value_counts()"
      ],
      "execution_count": null,
      "outputs": [
        {
          "output_type": "execute_result",
          "data": {
            "text/plain": [
              "гэта што калі мы не яны як але ён каб дзякуй больш пра на вы                                                                                                                                                                                                                                                                                                                                                                                                                                    50000\n",
              "що це тому ми чи дуже які щоб дякую якщо було вона від мене ось                                                                                                                                                                                                                                                                                                                                                                                                                                 25000\n",
              "Надежда на милость , в мечтах — свобода .                                                                                                                                                                                                                                                                                                                                                                                                                                                           3\n",
              "« Хмм » .                                                                                                                                                                                                                                                                                                                                                                                                                                                                                           2\n",
              "Ведь это всё , что у меня есть , — песни искупления .                                                                                                                                                                                                                                                                                                                                                                                                                                               2\n",
              "                                                                                                                                                                                                                                                                                                                                                                                                                                                                                                ...  \n",
              "Вот устройство , разработанное компанией Medtronic , по размеру оно меньше монетки .                                                                                                                                                                                                                                                                                                                                                                                                                1\n",
              "Моя публика — это любой , кто готов меня слушать , даже те , кто не знаком с классической музыкой .                                                                                                                                                                                                                                                                                                                                                                                                 1\n",
              "Аарон посмотрел на меня с нетерпением и спросил : « Так как же ты собираешься решить проблемы , о которых говоришь ?                                                                                                                                                                                                                                                                                                                                                                                1\n",
              "Отказ от голосования — для неудачников .                                                                                                                                                                                                                                                                                                                                                                                                                                                            1\n",
              "♫ Хорошее должно быть здесь — прямо здесь ♫ ♫ Здесь , прямо здесь , прямо здесь ♫ ♫ Я не буду жить этой жизнью вечно ♫ ♫ Один раз — это всё , что дано ♫ ♫ Жутко надоела « может в другой раз » ♫ ♫ Жизнь в стиле « прими , притворись , сделай , оставь » ♫ ♫ Я должна просто сказать , просто потребовать ♫ ♫ Я должна просто взять ♫ ♫ О да , да , да , да , обрадуй меня ♫ ♫ Я хочу то , что не могу иметь , мне нужно то , что не могу хотеть ♫ ♫ У меня есть , но не то , что я хочу ♫        1\n",
              "Name: sentence, Length: 21135, dtype: int64"
            ]
          },
          "metadata": {
            "tags": []
          },
          "execution_count": 16
        }
      ]
    },
    {
      "cell_type": "code",
      "metadata": {
        "colab": {
          "base_uri": "https://localhost:8080/"
        },
        "id": "5mCtohrb5e7s",
        "outputId": "2f5dcfb0-04da-4fa9-88fd-1b656e6ee00e"
      },
      "source": [
        "outs.shape"
      ],
      "execution_count": null,
      "outputs": [
        {
          "output_type": "execute_result",
          "data": {
            "text/plain": [
              "(96141,)"
            ]
          },
          "metadata": {
            "tags": []
          },
          "execution_count": 17
        }
      ]
    },
    {
      "cell_type": "markdown",
      "metadata": {
        "id": "ELV1uBwiAP9o"
      },
      "source": [
        "Тут видно, что 50 000 предложений сверху это белорусский язык, а вторые 25 000 - это украинский язык. Остальные содержат либо одно слово или букву на англ или другом языке, но в целом это русский язык. Также некоторые в списке выше содержат дефис или кавычки потому и попали в исключения."
      ]
    },
    {
      "cell_type": "markdown",
      "metadata": {
        "id": "3LYNAnIFBDpo"
      },
      "source": [
        "###1.2 Англ язык"
      ]
    },
    {
      "cell_type": "code",
      "metadata": {
        "id": "HMeSFlnvHC4t"
      },
      "source": [
        "english = train_df[train_df.language == 'en'].sentence"
      ],
      "execution_count": null,
      "outputs": []
    },
    {
      "cell_type": "code",
      "metadata": {
        "colab": {
          "base_uri": "https://localhost:8080/"
        },
        "id": "7Yi79j3JHFlE",
        "outputId": "90b5b0f6-75cb-4d06-bf84-4d25d35ea55d"
      },
      "source": [
        "english"
      ],
      "execution_count": null,
      "outputs": [
        {
          "output_type": "execute_result",
          "data": {
            "text/plain": [
              "24         Our Fred Astaires , our Gene Kellys our Michae...\n",
              "103        Tell your daughters of this year , how we woke...\n",
              "144        Nowadays , high school students can build robo...\n",
              "170        A somatic cell , a body cell , was taken from ...\n",
              "196        You know what , let them use their mobile phon...\n",
              "                                 ...                        \n",
              "3159540    So this is a story of Napoleon III in the mid-...\n",
              "3159556    The first thing I want to do is start with a g...\n",
              "3159567    We &apos;re ethically precluded from even usin...\n",
              "3159606               Well , I became a tapestry historian .\n",
              "3159611    I traveled with the Arhuacos , and the wonderf...\n",
              "Name: sentence, Length: 157655, dtype: object"
            ]
          },
          "metadata": {
            "tags": []
          },
          "execution_count": 19
        }
      ]
    },
    {
      "cell_type": "code",
      "metadata": {
        "id": "zsQw2biPI8NY"
      },
      "source": [
        "outs_eng = english.apply(lambda x: 1 if re.search('[^a-zA-Z0-9\\s,.:!?\\\"-=_+()[][%/\\\\@#$^&*|€<>;]?', x) else 0)\n",
        "outs_en = english[outs_eng == 1]"
      ],
      "execution_count": null,
      "outputs": []
    },
    {
      "cell_type": "code",
      "metadata": {
        "colab": {
          "base_uri": "https://localhost:8080/"
        },
        "id": "hipUQxGUBwnL",
        "outputId": "cc5dde66-675a-4e9b-cc2b-6821244812ed"
      },
      "source": [
        "outs_en.value_counts()"
      ],
      "execution_count": null,
      "outputs": [
        {
          "output_type": "execute_result",
          "data": {
            "text/plain": [
              "що це тому ми чи дуже які щоб дякую якщо було вона від мене ось                                                                                                                                                                  25000\n",
              "&apos;Cause all I ever had — redemption songs .                                                                                                                                                                                      4\n",
              "Here &apos;s a passage — it &apos;s very much what he said , anyway : &quot; &quot; If there was no God we would all be accidents , the result of astronomical random chance in the Universe .                                       1\n",
              "And the tea is sitting in this stuff to the right — the tea is to the right of this line .                                                                                                                                           1\n",
              "First question : If I want to ask them to call up — because they do hear them through the ear .                                                                                                                                      1\n",
              "                                                                                                                                                                                                                                 ...  \n",
              "So they have the slide , and they even have a fireman ’ s pole .                                                                                                                                                                     1\n",
              "We have one in Kathmandu , Nepal ; Dharamsala , India ; Takaungu , Kenya — Takaungu is one-third Christian , one-third Muslim and one-third animist , the community is — Ollantaytambo , Peru , and Arctic Village , Alaska .        1\n",
              "A magician promises to deceive you — and he does .                                                                                                                                                                                   1\n",
              "As he often did , Velázquez put himself in this painting too .                                                                                                                                                                       1\n",
              "And I spent 30 days eating nothing but this — fun in the beginning , little difficult in the middle , very dangerous in the end .                                                                                                    1\n",
              "Name: sentence, Length: 9703, dtype: int64"
            ]
          },
          "metadata": {
            "tags": []
          },
          "execution_count": 21
        }
      ]
    },
    {
      "cell_type": "markdown",
      "metadata": {
        "id": "IaC1qsGcB_t2"
      },
      "source": [
        "Здесь проскочило тоже предложение на украинском языке на 25 000 обьектов, остальные сдержат только дефисы. Видимо это предложение есть во многих языках как выброс, мб и то предложение на белорусском тоже в нескольких языках есть."
      ]
    },
    {
      "cell_type": "markdown",
      "metadata": {
        "id": "0FnfRFBJCuOR"
      },
      "source": [
        "###1.3 Французский"
      ]
    },
    {
      "cell_type": "code",
      "metadata": {
        "colab": {
          "base_uri": "https://localhost:8080/"
        },
        "id": "oav_T61tBxz7",
        "outputId": "885b35f4-f26c-4d51-fc5d-3a4dc63319db"
      },
      "source": [
        "franch = train_df[train_df.language == 'fr'].sentence\n",
        "outs_fr = franch.apply(lambda x: 1 if re.search('[^a-zA-Z0-9\\s,.:!?\\\"-=_+()[][%/\\\\@#$^&*|€<>;]?', x) else 0)\n",
        "outs_fr = franch[outs_fr == 1]\n",
        "outs_fr.value_counts()"
      ],
      "execution_count": null,
      "outputs": [
        {
          "output_type": "execute_result",
          "data": {
            "text/plain": [
              "это что мы не как на вы они но из то он так для аплодисменты                                                                                                                                                                                                 50000\n",
              "Voilà .                                                                                                                                                                                                                                                          6\n",
              "Qu&apos; est-ce que ça veut dire ?                                                                                                                                                                                                                               6\n",
              "C&apos; est inévitable .                                                                                                                                                                                                                                         4\n",
              "C&apos; est aussi simple que ça .                                                                                                                                                                                                                                4\n",
              "                                                                                                                                                                                                                                                             ...  \n",
              "Combien avons-nous dépensé en Afghanistan cette année ?                                                                                                                                                                                                          1\n",
              "J&apos; ai juste mentionné le diabète . On a parlé aussi des troubles cardiaques . L&apos; hypertension : 74 millions de personnes pourraient avoir une surveillance continue de leur pression artérielle pour en améliorer la gestion et la prévention .        1\n",
              "Une espèce presque éteinte originaire de Xochimilco , Mexique , qu&apos; on appelle un axolotl qui peut régénérer ses membres .                                                                                                                                  1\n",
              "Pour commencer , quand tu vas te coucher le soir , tu dois te remémorer la journée passée et être sûr que tu as contribué à quelque chose au cours de cette journée et que tu as fait de ton mieux tout ce que tu as pu .                                        1\n",
              "Il attendait que vous vous connectiez à votre compte bancaire .                                                                                                                                                                                                  1\n",
              "Name: sentence, Length: 80802, dtype: int64"
            ]
          },
          "metadata": {
            "tags": []
          },
          "execution_count": 22
        }
      ]
    },
    {
      "cell_type": "code",
      "metadata": {
        "colab": {
          "base_uri": "https://localhost:8080/"
        },
        "id": "VDBBie70C-7t",
        "outputId": "9f27871e-3b91-4746-c02b-c7fd19780902"
      },
      "source": [
        "train_df[train_df.language == 'fr'].sentence.value_counts()"
      ],
      "execution_count": null,
      "outputs": [
        {
          "output_type": "execute_result",
          "data": {
            "text/plain": [
              "это что мы не как на вы они но из то он так для аплодисменты                                                                                                                                                                    50000\n",
              "( Applaudissements )                                                                                                                                                                                                              544\n",
              "Merci .                                                                                                                                                                                                                           346\n",
              "Merci beaucoup .                                                                                                                                                                                                                  180\n",
              "Pourquoi ?                                                                                                                                                                                                                         31\n",
              "                                                                                                                                                                                                                                ...  \n",
              "Il y a une tendance dans tout ça .                                                                                                                                                                                                  1\n",
              "Malheureusement , alors que cette société est , sans aucun doute , la plus prospère et dynamique que le monde ait jamais créé , elle a des énormes , énormes défauts .                                                              1\n",
              "Ces innovations et ses copies , comme Weibo et le microblogging , quand ils sont apparus en Chine en 2009 , sont immédiatement devenus de vrais sites d&apos; information .                                                         1\n",
              "Diagnostiquer un cancer assez tôt , dès son apparition , est un des facteurs critiques d&apos; amélioration des différents traitements , réduction des conséquences émotionnelles et diminution du coût de ces traitements .        1\n",
              "Mais je pense qu&apos; il y a quelque chose de vraiment poétique dans l&apos; utilisation de l&apos; énergie nucléaire pour nous propulser vers les étoiles , parce que les étoiles sont des réacteurs à fusion géants .            1\n",
              "Name: sentence, Length: 96951, dtype: int64"
            ]
          },
          "metadata": {
            "tags": []
          },
          "execution_count": 23
        }
      ]
    },
    {
      "cell_type": "markdown",
      "metadata": {
        "id": "pvAuXsepDYwu"
      },
      "source": [
        "Опять есть выброс на 50 000, видимо такая картина будет наблюдаться сразу у нескольких языков."
      ]
    },
    {
      "cell_type": "markdown",
      "metadata": {
        "id": "B0mT6TW3DlZc"
      },
      "source": [
        "### 1.4 Прочие языки"
      ]
    },
    {
      "cell_type": "code",
      "metadata": {
        "colab": {
          "base_uri": "https://localhost:8080/"
        },
        "id": "dsue04wmDOXB",
        "outputId": "acc4b22b-473d-4894-8870-3ef787f1e434"
      },
      "source": [
        "for lang in train_df.language.unique():\n",
        "  print('\\n', lang)\n",
        "  print(train_df[train_df.language == lang].sentence.value_counts()[:5])"
      ],
      "execution_count": null,
      "outputs": [
        {
          "output_type": "stream",
          "text": [
            "\n",
            " fr\n",
            "это что мы не как на вы они но из то он так для аплодисменты    50000\n",
            "( Applaudissements )                                              544\n",
            "Merci .                                                           346\n",
            "Merci beaucoup .                                                  180\n",
            "Pourquoi ?                                                         31\n",
            "Name: sentence, dtype: int64\n",
            "\n",
            " cs\n",
            "( Potlesk )     256\n",
            "Děkuji .        121\n",
            "Děkuji vám .     88\n",
            "( potlesk )      58\n",
            "Proč ?           18\n",
            "Name: sentence, dtype: int64\n",
            "\n",
            " sv\n",
            "( Applåder )        205\n",
            "Tack .               87\n",
            "Tack så mycket .     64\n",
            "Varför ?             12\n",
            "Tack !               12\n",
            "Name: sentence, dtype: int64\n",
            "\n",
            " ar\n",
            "( تصفيق )           643\n",
            "شكرا لكم .           91\n",
            "شكراً لكم .          61\n",
            "شكرا جزيلا لكم .     38\n",
            "شكراً لكم            38\n",
            "Name: sentence, dtype: int64\n",
            "\n",
            " hr\n",
            "( Pljesak )         424\n",
            "Hvala vam .         177\n",
            "Hvala .              73\n",
            "Hvala vam puno .     41\n",
            "Puno vam hvala .     36\n",
            "Name: sentence, dtype: int64\n",
            "\n",
            " id\n",
            "( Tepuk tangan )                                    308\n",
            "Terima kasih .                                      202\n",
            "Terima kasih banyak .                                71\n",
            "( Tepuk tangan ) Terima kasih . ( Tepuk tangan )     13\n",
            "( Tepuk Tangan )                                     12\n",
            "Name: sentence, dtype: int64\n",
            "\n",
            " az\n",
            "( Alqış )            17\n",
            "( Alqışlar )         12\n",
            "Təşəkkürlər .         8\n",
            "Çox sağ olun .        7\n",
            "Təşəkkür edirəm .     6\n",
            "Name: sentence, dtype: int64\n",
            "\n",
            " ru\n",
            "гэта што калі мы не яны як але ён каб дзякуй больш пра на вы       50000\n",
            "що це тому ми чи дуже які щоб дякую якщо було вона від мене ось    25000\n",
            "( Аплодисменты )                                                     603\n",
            "Спасибо .                                                            349\n",
            "Большое спасибо .                                                    109\n",
            "Name: sentence, dtype: int64\n",
            "\n",
            " he\n",
            "( מחיאות כפיים )    551\n",
            "תודה לכם .          197\n",
            "תודה רבה לכם .      134\n",
            "תודה רבה .          121\n",
            "תודה .              103\n",
            "Name: sentence, dtype: int64\n",
            "\n",
            " ja\n",
            "（ 拍手 ）            507\n",
            "ありがとうございました       355\n",
            "( 拍手 )            184\n",
            "ありがとう              88\n",
            "どうもありがとうございました     40\n",
            "Name: sentence, dtype: int64\n",
            "\n",
            " de\n",
            "( Applaus )      455\n",
            "Vielen Dank .    240\n",
            "Danke .          150\n",
            "( Beifall )       67\n",
            "Dankeschön .      17\n",
            "Name: sentence, dtype: int64\n",
            "\n",
            " nl\n",
            "( Applaus )      552\n",
            "Dank je wel .     74\n",
            "Bedankt .         70\n",
            "Dankjewel .       67\n",
            "Dank u .          59\n",
            "Name: sentence, dtype: int64\n",
            "\n",
            " zh-tw\n",
            "（ 掌聲 ）    323\n",
            "( 掌聲 )    192\n",
            "謝謝 。      150\n",
            "謝謝        116\n",
            "謝謝大家       63\n",
            "Name: sentence, dtype: int64\n",
            "\n",
            " ko\n",
            "( 박수 )         631\n",
            "감사합니다 .        444\n",
            "대단히 감사합니다 .     74\n",
            "고맙습니다 .         23\n",
            "정말 감사합니다 .      22\n",
            "Name: sentence, dtype: int64\n",
            "\n",
            " it\n",
            "( Applausi )         558\n",
            "Grazie .             388\n",
            "Grazie mille .        89\n",
            "Grazie infinite .     45\n",
            "( Applauso )          30\n",
            "Name: sentence, dtype: int64\n",
            "\n",
            " hu\n",
            "( Taps )                    478\n",
            "Köszönöm .                  283\n",
            "Köszönöm szépen .            50\n",
            "Nagyon köszönöm .            49\n",
            "Nagyon szépen köszönöm .     27\n",
            "Name: sentence, dtype: int64\n",
            "\n",
            " en\n",
            "що це тому ми чи дуже які щоб дякую якщо було вона від мене ось    25000\n",
            "( Applause )                                                         822\n",
            "Thank you .                                                          479\n",
            "Thank you very much .                                                189\n",
            "Why ?                                                                 33\n",
            "Name: sentence, dtype: int64\n",
            "\n",
            " fa\n",
            "( تشویق )              212\n",
            "متشکرم .               163\n",
            "( تشویق حضار )         110\n",
            "( تشویق تماشاگران )     90\n",
            "سپاسگزارم .             78\n",
            "Name: sentence, dtype: int64\n",
            "\n",
            " vi\n",
            "笑聲 掌聲 謝謝 所以 現在 事實上 當然 因此 謝謝大家 對吧 但是 鼓掌 謝謝各位 他說 我說    25000\n",
            "( Vỗ tay )                                             420\n",
            "Cảm ơn .                                                98\n",
            "Xin cảm ơn .                                            94\n",
            "( Tiếng vỗ tay )                                        48\n",
            "Name: sentence, dtype: int64\n",
            "\n",
            " bg\n",
            "( Аплодисменти )        380\n",
            "Благодаря ви .          220\n",
            "Благодаря .              76\n",
            "( Ръкопляскания )        69\n",
            "Много ви благодаря .     58\n",
            "Name: sentence, dtype: int64\n",
            "\n",
            " th\n",
            "笑声 掌声 谢谢 现在 所以 事实上 当然 鼓掌 但是 因此 那么 非常感谢 谢谢大家 是的 好吧                  25000\n",
            "що це тому ми чи дуже які щоб дякую якщо було вона від мене ось    25000\n",
            "( เสียงปรบมือ )                                                      329\n",
            "ขอบคุณครับ                                                           151\n",
            "ขอบคุณมากครับ                                                         77\n",
            "Name: sentence, dtype: int64\n",
            "\n",
            " zh-cn\n",
            "（ 掌声 ）    381\n",
            "谢谢 。      176\n",
            "谢谢        102\n",
            "（ 鼓掌 ）     96\n",
            "非常感谢 。     61\n",
            "Name: sentence, dtype: int64\n",
            "\n",
            " ku\n",
            "бұл мен біз бір үшін ол деп және емес бар керек бірақ олар қол осы    50000\n",
            "سوپاس                                                                    13\n",
            "چەپڵە                                                                     7\n",
            "زۆر سوپاس                                                                 7\n",
            "چه ‌ پڵه ‌ لێدان                                                          5\n",
            "Name: sentence, dtype: int64\n",
            "\n",
            " tr\n",
            "( Alkışlar )             292\n",
            "( Alkış )                254\n",
            "Teşekkürler .            210\n",
            "Teşekkür ederim .        136\n",
            "Çok teşekkür ederim .    105\n",
            "Name: sentence, dtype: int64\n",
            "\n",
            " el\n",
            "( Χειροκρότημα )        399\n",
            "Σας ευχαριστώ .         197\n",
            "Ευχαριστώ .             105\n",
            "Σας ευχαριστώ πολύ .     95\n",
            "( Χειροκροτήματα )       27\n",
            "Name: sentence, dtype: int64\n",
            "\n",
            " nb\n",
            "( Applaus )            54\n",
            "Takk .                 25\n",
            "Tusen takk .           16\n",
            "Takk skal dere ha .     5\n",
            "( Applause )            4\n",
            "Name: sentence, dtype: int64\n",
            "\n",
            " es\n",
            "( Aplausos )                           575\n",
            "Gracias .                              380\n",
            "Muchas gracias .                       164\n",
            "¿ Por qué ?                             25\n",
            "( Aplausos ) Gracias . ( Aplausos )     24\n",
            "Name: sentence, dtype: int64\n",
            "\n",
            " pl\n",
            "( Brawa )            352\n",
            "Dziękuję .           286\n",
            "( Oklaski )          156\n",
            "Dziękuję bardzo .    115\n",
            "Dlaczego ?            35\n",
            "Name: sentence, dtype: int64\n",
            "\n",
            " et\n",
            "що це ми не як на вони та але ви до про він оплески коли    50000\n",
            "( Aplaus )                                                     32\n",
            "Tänan teid .                                                    6\n",
            "Tänan .                                                         5\n",
            "Tänan teid väga .                                               5\n",
            "Name: sentence, dtype: int64\n",
            "\n",
            " ro\n",
            "( Aplauze )       545\n",
            "Mulțumesc .        92\n",
            "Vă mulțumesc .     90\n",
            "Vă mulţumesc .     72\n",
            "Mulţumesc .        66\n",
            "Name: sentence, dtype: int64\n",
            "\n",
            " sr\n",
            "( Aplauz )     380\n",
            "Hvala vam .    214\n",
            "Hvala .         79\n",
            "( Аплауз )      62\n",
            "Хвала вам .     51\n",
            "Name: sentence, dtype: int64\n",
            "\n",
            " da\n",
            "( Bifald )        110\n",
            "Tak .              73\n",
            "Mange tak .        48\n",
            "( Klapsalver )     16\n",
            "Okay .              8\n",
            "Name: sentence, dtype: int64\n",
            "\n",
            " uk\n",
            "( Оплески )         392\n",
            "Дякую .             205\n",
            "Дякую за увагу .     24\n",
            "Дуже вам дякую .     23\n",
            "Дуже дякую .         23\n",
            "Name: sentence, dtype: int64\n",
            "\n",
            " pt-br\n",
            "( Aplausos )        479\n",
            "Obrigado .          206\n",
            "Muito obrigado .    143\n",
            "Obrigada .          116\n",
            "Muito obrigada .     32\n",
            "Name: sentence, dtype: int64\n",
            "\n",
            " ka\n",
            "( აპლოდისმენტები )    46\n",
            "მადლობა .             16\n",
            "დიდი მადლობა .         9\n",
            "გმადლობთ .             8\n",
            "მადლობა                3\n",
            "Name: sentence, dtype: int64\n",
            "\n",
            " ta\n",
            "the and of it that you to apos we this is in they so are    50000\n",
            "நன ் றி.                                                       12\n",
            "( கைதட ் டல ் )                                                 6\n",
            "( கைத ் தட ் டல ் )                                             4\n",
            "( கரவொலி )                                                      4\n",
            "Name: sentence, dtype: int64\n",
            "\n",
            " zh\n",
            "（ 掌聲 ）    15\n",
            "多謝         9\n",
            "（ 鼓掌 ）     3\n",
            "點解呢 ?      2\n",
            "（ 掌声 ）     2\n",
            "Name: sentence, dtype: int64\n",
            "\n",
            " sl\n",
            "( Aplavz )          66\n",
            "Hvala .             46\n",
            "( aplavz )          22\n",
            "Hvala lepa .        10\n",
            "Najlepša hvala .     7\n",
            "Name: sentence, dtype: int64\n",
            "\n",
            " sk\n",
            "( Potlesk )              145\n",
            "Ďakujem .                115\n",
            "( potlesk )               71\n",
            "Ďakujem veľmi pekne .     20\n",
            "Ďakujem vám .             12\n",
            "Name: sentence, dtype: int64\n",
            "\n",
            " lt\n",
            "( Plojimai )      125\n",
            "Ačiū .             82\n",
            "( Plojimai . )     46\n",
            "Ačiū jums .        17\n",
            "Dėkoju .           13\n",
            "Name: sentence, dtype: int64\n",
            "\n",
            " my\n",
            "( လက ် ခုပ ် သံများ )                                               102\n",
            "ကျေးဇူးတင ် ပါတယ ် ။                                                 75\n",
            "( လက ် ခုပ ် တီးသံများ )                                             11\n",
            "( လက ် ခုပ ် သံများ ) ကျေးဇူးတင ် ပါတယ ် ။                            8\n",
            "( လက ် ခုပ ် သံများ ) ကျေးဇူးတင ် ပါတယ ် ။ ( လက ် ခုပ ် သံများ )      5\n",
            "Name: sentence, dtype: int64\n",
            "\n",
            " mn\n",
            "( Алга ташилт )       30\n",
            "Баярлалаа .           22\n",
            "Маш их баярлалаа .    10\n",
            "( алга ташилт )        4\n",
            "УK : Тийм .            3\n",
            "Name: sentence, dtype: int64\n",
            "\n",
            " fr-ca\n",
            "( Applaudissements )                                 67\n",
            "Merci .                                              47\n",
            "Merci beaucoup .                                     15\n",
            "( Applaudissement )                                   6\n",
            "( Applaudissements ) Merci . ( Applaudissements )     4\n",
            "Name: sentence, dtype: int64\n",
            "\n",
            " mk\n",
            "( Аплауз )               62\n",
            "Ви благодарам .          29\n",
            "( аплауз )               16\n",
            "Ви благодарам многу .    11\n",
            "Благодарам .              7\n",
            "Name: sentence, dtype: int64\n",
            "\n",
            " fi\n",
            "Kiitos .                 42\n",
            "( Aplodeja )             36\n",
            "( Suosionosoituksia )    30\n",
            "( Taputuksia )            9\n",
            "Miksi ?                   7\n",
            "Name: sentence, dtype: int64\n",
            "\n",
            " sq\n",
            "( Duartrokitje )        165\n",
            "Faleminderit .           66\n",
            "Faliminderit .           12\n",
            "Ju falemnderit .         10\n",
            "Faleminderit shume .     10\n",
            "Name: sentence, dtype: int64\n",
            "\n",
            " pt\n",
            "( Aplausos )        192\n",
            "Obrigado .           84\n",
            "Obrigada .           65\n",
            "Muito obrigado .     39\n",
            "Muito obrigada .     18\n",
            "Name: sentence, dtype: int64\n",
            "\n",
            " eu\n",
            "( Txaloak )                                                                                     23\n",
            "Eskerrik asko .                                                                                  5\n",
            "Mila esker .                                                                                     4\n",
            "Zergatik ?                                                                                       3\n",
            "Gure buruzagi politiko eta militarrek gauza bat esaten ziguten eta argazkilariek beste bat .     2\n",
            "Name: sentence, dtype: int64\n",
            "\n",
            " hy\n",
            "( Ծափահարություններ )    70\n",
            "Շնորհակալություն :       34\n",
            "Շնորհակալություն         11\n",
            "Շնորհակալություն ։       10\n",
            "Շատ շնորհակալ եմ :        9\n",
            "Name: sentence, dtype: int64\n",
            "\n",
            " hi\n",
            "( तालियाँ )         44\n",
            "धन ् यवाद ।         20\n",
            "( अभिवादन )         19\n",
            "धन ् यवाद &#124;    18\n",
            "धन ् यवाद .         11\n",
            "Name: sentence, dtype: int64\n",
            "\n",
            " gl\n",
            "( Aplausos )                          33\n",
            "Grazas .                              29\n",
            "Moitas grazas .                        9\n",
            "( Aplauso )                            6\n",
            "( Aplausos ) Grazas . ( Aplausos )     3\n",
            "Name: sentence, dtype: int64\n",
            "\n",
            " bn\n",
            "( হাততালি )                                                                                                                                           18\n",
            "ধন ্ যবাদ ।                                                                                                                                           14\n",
            "( করতালি )                                                                                                                                             5\n",
            "মেরী হ ্ যাড আ লিটল ল ্ যাম ্ ব হুজ ফ ্ লীচ ওয়াজ হোয়াইট এজ স ্ নোও এন ্ ড এভরিহোয়ার দ ্ যাট মেরী ওয়েন ্ ট , দ ্ যাট ল ্ যাম ্ ব ওয়াজ শিওর টু গোও ।     2\n",
            "অনেক ধন ্ যবাদ ।                                                                                                                                       2\n",
            "Name: sentence, dtype: int64\n",
            "\n",
            " mr\n",
            "( टाळ ् या )    40\n",
            "धन ् यवाद .     12\n",
            "धन ् यवाद        6\n",
            "आभारी आहे .      5\n",
            "आभारी आहे        3\n",
            "Name: sentence, dtype: int64\n",
            "\n",
            " bs\n",
            "( Aplauz )           23\n",
            "Hvala vam .           8\n",
            "Hvala .               6\n",
            "Hvala vam mnogo .     4\n",
            "Hvala puno .          3\n",
            "Name: sentence, dtype: int64\n",
            "\n",
            " be\n",
            "Дзякуй .            14\n",
            "( Воплескі )        13\n",
            "( Апладысменты )    11\n",
            "Чаму ?               3\n",
            "Вялікі дзякуй .      3\n",
            "Name: sentence, dtype: int64\n",
            "\n",
            " ms\n",
            "( Tepukan )                                                      19\n",
            "Terima kasih .                                                   13\n",
            "Terima kasih banyak-banyak .                                      4\n",
            "( Tepuk tangan )                                                  4\n",
            "Orang ramai risaukan gantung tanpa perbicaraan , pengeboman .     2\n",
            "Name: sentence, dtype: int64\n",
            "\n",
            " eo\n",
            "( Aplaŭdoj )          19\n",
            "Dankon .              12\n",
            "( Aplaŭdo )            7\n",
            "WK : Jes .             5\n",
            "&lt; aplaŭdoj &gt;     4\n",
            "Name: sentence, dtype: int64\n",
            "\n",
            " ur\n",
            "( تالیاں )              29\n",
            "شکریہ ۔                  5\n",
            "شکریہ                    3\n",
            "بہت بہت شکریہ -          2\n",
            "نہیں ، وہ بھی نہیں ۔     2\n",
            "Name: sentence, dtype: int64\n",
            "\n",
            " kk\n",
            "( Қол соғу )          8\n",
            "( Қол шапалақтау )    7\n",
            "Рақмет .              6\n",
            "( Қол шапалақ )       4\n",
            "Көп рақмет .          3\n",
            "Name: sentence, dtype: int64\n"
          ],
          "name": "stdout"
        }
      ]
    },
    {
      "cell_type": "code",
      "metadata": {
        "colab": {
          "base_uri": "https://localhost:8080/"
        },
        "id": "iW758_8oDx9f",
        "outputId": "a332843b-2b7d-46b7-b683-519c7a8403cd"
      },
      "source": [
        "train_df[train_df.language == 'ur'].sentence.value_counts()"
      ],
      "execution_count": null,
      "outputs": [
        {
          "output_type": "execute_result",
          "data": {
            "text/plain": [
              "( تالیاں )                                                                                                                                                                                                                        29\n",
              "شکریہ ۔                                                                                                                                                                                                                            5\n",
              "شکریہ                                                                                                                                                                                                                              3\n",
              "بہت بہت شکریہ -                                                                                                                                                                                                                    2\n",
              "نہیں ، وہ بھی نہیں ۔                                                                                                                                                                                                               2\n",
              "                                                                                                                                                                                                                                  ..\n",
              "انہوں نے اپنا مواد نہں بدلہ وہ ویسے ہی tweet کرتے رہے ، لیکن اچانک ہی ، انگریز مردوں نے غور کیا کہ انہیں nigger کہا جا رہا ہے انہں بدترین آن لائن تضحیک کا سامنا ہوا اسکے برعکس سیاہ فام عورتوں کہ لیے سب کچھ بہت بہترہو گیا ۔     1\n",
              "اس ملک کی ہرچیز کا تعلق عظیم لیڈر سے جوڑ دیا گیا ھے                                                                                                                                                                                1\n",
              "میرا دماغ ابھی &quot; &quot; amyloid-beta &quot; &quot; بنا رہا ہے ۔ اوراسطرح اپکا بھی                                                                                                                                             1\n",
              "اکتیس فیصد یعنی تین نوجوانوں میں ایک کتراتا ہے کلاس میں بولنے سے ۔ وہ کلاس میں بحث میں حصہ لینے سے کتراتے ہیں کیونکہ وہ نہں چاہتے کہ کوئی انکی شکل و صورت پر توجہ دے ۔                                                             1\n",
              "مادری زبان میں تخلیق کرنا آپکا راستہ ہے ۔                                                                                                                                                                                         1\n",
              "Name: sentence, Length: 3453, dtype: int64"
            ]
          },
          "metadata": {
            "tags": []
          },
          "execution_count": 25
        }
      ]
    },
    {
      "cell_type": "code",
      "metadata": {
        "colab": {
          "base_uri": "https://localhost:8080/",
          "height": 194
        },
        "id": "-Excc95IHL29",
        "outputId": "16814da0-2c28-4183-ef44-07642be2cdca"
      },
      "source": [
        "train_df[(train_df.language == 'ur') & (train_df.sentence == 'شکریہ ۔')]"
      ],
      "execution_count": null,
      "outputs": [
        {
          "output_type": "execute_result",
          "data": {
            "text/html": [
              "<div>\n",
              "<style scoped>\n",
              "    .dataframe tbody tr th:only-of-type {\n",
              "        vertical-align: middle;\n",
              "    }\n",
              "\n",
              "    .dataframe tbody tr th {\n",
              "        vertical-align: top;\n",
              "    }\n",
              "\n",
              "    .dataframe thead th {\n",
              "        text-align: right;\n",
              "    }\n",
              "</style>\n",
              "<table border=\"1\" class=\"dataframe\">\n",
              "  <thead>\n",
              "    <tr style=\"text-align: right;\">\n",
              "      <th></th>\n",
              "      <th>sentence</th>\n",
              "      <th>language</th>\n",
              "    </tr>\n",
              "  </thead>\n",
              "  <tbody>\n",
              "    <tr>\n",
              "      <th>631113</th>\n",
              "      <td>شکریہ ۔</td>\n",
              "      <td>ur</td>\n",
              "    </tr>\n",
              "    <tr>\n",
              "      <th>1896826</th>\n",
              "      <td>شکریہ ۔</td>\n",
              "      <td>ur</td>\n",
              "    </tr>\n",
              "    <tr>\n",
              "      <th>2207585</th>\n",
              "      <td>شکریہ ۔</td>\n",
              "      <td>ur</td>\n",
              "    </tr>\n",
              "    <tr>\n",
              "      <th>2243004</th>\n",
              "      <td>شکریہ ۔</td>\n",
              "      <td>ur</td>\n",
              "    </tr>\n",
              "    <tr>\n",
              "      <th>2900474</th>\n",
              "      <td>شکریہ ۔</td>\n",
              "      <td>ur</td>\n",
              "    </tr>\n",
              "  </tbody>\n",
              "</table>\n",
              "</div>"
            ],
            "text/plain": [
              "        sentence language\n",
              "631113   شکریہ ۔       ur\n",
              "1896826  شکریہ ۔       ur\n",
              "2207585  شکریہ ۔       ur\n",
              "2243004  شکریہ ۔       ur\n",
              "2900474  شکریہ ۔       ur"
            ]
          },
          "metadata": {
            "tags": []
          },
          "execution_count": 26
        }
      ]
    },
    {
      "cell_type": "markdown",
      "metadata": {
        "id": "VY7AoC-tbRxX"
      },
      "source": [
        "Стоит замететь, что довольно часто во многих языках встречается конструкция '&quos' и '&apos'. Скорее всего, они заменяют какие-то знаки пунктуации, поэтому их нужно удалить. "
      ]
    },
    {
      "cell_type": "markdown",
      "metadata": {
        "id": "hpvCoR5QfIiJ"
      },
      "source": [
        "##2 Подготовка данных и модель"
      ]
    },
    {
      "cell_type": "code",
      "metadata": {
        "id": "ZmoJAmKFHg1v"
      },
      "source": [
        "# удаление выбросов на 50к и 25к\n",
        "list_inf_for_del = np.array([])\n",
        "for lang in ['ru', 'th', 'ta', 'et', 'ku', 'vi', 'en', 'fr']:\n",
        "  if lang in ['ru', 'th']:\n",
        "    del_v = list(train_df[train_df.language == 'ru'].sentence.value_counts().index)[:2]\n",
        "    list_inf_for_del = np.hstack([list_inf_for_del, \n",
        "                                  np.array(train_df[(train_df.language == 'ru') & \n",
        "                                                    ((train_df.sentence == del_v[0]) | \n",
        "                                                          (train_df.sentence == del_v[1]))].index)])\n",
        "  else:\n",
        "    del_v = list(train_df[train_df.language == lang].sentence.value_counts().index)[0]\n",
        "    list_inf_for_del = np.hstack([list_inf_for_del, train_df[(train_df.language == lang) & (train_df.sentence == del_v)].index])"
      ],
      "execution_count": null,
      "outputs": []
    },
    {
      "cell_type": "code",
      "metadata": {
        "colab": {
          "base_uri": "https://localhost:8080/"
        },
        "id": "cPSza--SSdNn",
        "outputId": "68a374db-c1f6-4d33-e0d8-d801a1ea2bd3"
      },
      "source": [
        "train_df.iloc[list_inf_for_del, :].sentence.value_counts()"
      ],
      "execution_count": null,
      "outputs": [
        {
          "output_type": "execute_result",
          "data": {
            "text/plain": [
              "гэта што калі мы не яны як але ён каб дзякуй больш пра на вы          100000\n",
              "що це тому ми чи дуже які щоб дякую якщо було вона від мене ось        75000\n",
              "the and of it that you to apos we this is in they so are               50000\n",
              "бұл мен біз бір үшін ол деп және емес бар керек бірақ олар қол осы     50000\n",
              "это что мы не как на вы они но из то он так для аплодисменты           50000\n",
              "що це ми не як на вони та але ви до про він оплески коли               50000\n",
              "笑聲 掌聲 謝謝 所以 現在 事實上 當然 因此 謝謝大家 對吧 但是 鼓掌 謝謝各位 他說 我說                      25000\n",
              "Name: sentence, dtype: int64"
            ]
          },
          "metadata": {
            "tags": []
          },
          "execution_count": 11
        }
      ]
    },
    {
      "cell_type": "code",
      "metadata": {
        "id": "uqRHwHVHVyZ6"
      },
      "source": [
        "train_df_not_outs = train_df.drop(list_inf_for_del, axis = 0)"
      ],
      "execution_count": null,
      "outputs": []
    },
    {
      "cell_type": "code",
      "metadata": {
        "colab": {
          "base_uri": "https://localhost:8080/",
          "height": 399
        },
        "id": "_LUsCoSuazJx",
        "outputId": "3985ac15-8be9-44c1-c307-3b2e8a7c0098"
      },
      "source": [
        "train_df_not_outs"
      ],
      "execution_count": null,
      "outputs": [
        {
          "output_type": "execute_result",
          "data": {
            "text/html": [
              "<div>\n",
              "<style scoped>\n",
              "    .dataframe tbody tr th:only-of-type {\n",
              "        vertical-align: middle;\n",
              "    }\n",
              "\n",
              "    .dataframe tbody tr th {\n",
              "        vertical-align: top;\n",
              "    }\n",
              "\n",
              "    .dataframe thead th {\n",
              "        text-align: right;\n",
              "    }\n",
              "</style>\n",
              "<table border=\"1\" class=\"dataframe\">\n",
              "  <thead>\n",
              "    <tr style=\"text-align: right;\">\n",
              "      <th></th>\n",
              "      <th>sentence</th>\n",
              "      <th>language</th>\n",
              "    </tr>\n",
              "  </thead>\n",
              "  <tbody>\n",
              "    <tr>\n",
              "      <th>0</th>\n",
              "      <td>Pensez à la communication , le discours , les ...</td>\n",
              "      <td>fr</td>\n",
              "    </tr>\n",
              "    <tr>\n",
              "      <th>1</th>\n",
              "      <td>Můžete si ji pronajmout , vzít na splátky , ko...</td>\n",
              "      <td>cs</td>\n",
              "    </tr>\n",
              "    <tr>\n",
              "      <th>2</th>\n",
              "      <td>Každý starosta pochopil , že když mají tyto fo...</td>\n",
              "      <td>cs</td>\n",
              "    </tr>\n",
              "    <tr>\n",
              "      <th>3</th>\n",
              "      <td>Det är ytterligare bevis , men ändå — Jag krit...</td>\n",
              "      <td>sv</td>\n",
              "    </tr>\n",
              "    <tr>\n",
              "      <th>4</th>\n",
              "      <td>كان الأمر لا يصدق .</td>\n",
              "      <td>ar</td>\n",
              "    </tr>\n",
              "    <tr>\n",
              "      <th>...</th>\n",
              "      <td>...</td>\n",
              "      <td>...</td>\n",
              "    </tr>\n",
              "    <tr>\n",
              "      <th>3159628</th>\n",
              "      <td>そんな所で捕まっている片手は 70億の人々と繫がる命綱なのです</td>\n",
              "      <td>ja</td>\n",
              "    </tr>\n",
              "    <tr>\n",
              "      <th>3159629</th>\n",
              "      <td>Първоначално се опитах да направя думите &amp;quot...</td>\n",
              "      <td>bg</td>\n",
              "    </tr>\n",
              "    <tr>\n",
              "      <th>3159630</th>\n",
              "      <td>Ho appreso che ha a che fare con l&amp;apos; atten...</td>\n",
              "      <td>it</td>\n",
              "    </tr>\n",
              "    <tr>\n",
              "      <th>3159631</th>\n",
              "      <td>E os edifícios não se limitam a apenas evocar ...</td>\n",
              "      <td>pt-br</td>\n",
              "    </tr>\n",
              "    <tr>\n",
              "      <th>3159632</th>\n",
              "      <td>La « Danse d ’ entrée du mariage JK » est deve...</td>\n",
              "      <td>fr-ca</td>\n",
              "    </tr>\n",
              "  </tbody>\n",
              "</table>\n",
              "<p>2834633 rows × 2 columns</p>\n",
              "</div>"
            ],
            "text/plain": [
              "                                                  sentence language\n",
              "0        Pensez à la communication , le discours , les ...       fr\n",
              "1        Můžete si ji pronajmout , vzít na splátky , ko...       cs\n",
              "2        Každý starosta pochopil , že když mají tyto fo...       cs\n",
              "3        Det är ytterligare bevis , men ändå — Jag krit...       sv\n",
              "4                                      كان الأمر لا يصدق .       ar\n",
              "...                                                    ...      ...\n",
              "3159628                    そんな所で捕まっている片手は 70億の人々と繫がる命綱なのです       ja\n",
              "3159629  Първоначално се опитах да направя думите &quot...       bg\n",
              "3159630  Ho appreso che ha a che fare con l&apos; atten...       it\n",
              "3159631  E os edifícios não se limitam a apenas evocar ...    pt-br\n",
              "3159632  La « Danse d ’ entrée du mariage JK » est deve...    fr-ca\n",
              "\n",
              "[2834633 rows x 2 columns]"
            ]
          },
          "metadata": {
            "tags": []
          },
          "execution_count": 13
        }
      ]
    },
    {
      "cell_type": "code",
      "metadata": {
        "colab": {
          "base_uri": "https://localhost:8080/"
        },
        "id": "lCpS-hWzc3Og",
        "outputId": "a8200404-2711-492e-82c6-d84ac93a41cc"
      },
      "source": [
        "train_df_not_outs[train_df_not_outs.language == 'fr'].sentence.value_counts()"
      ],
      "execution_count": null,
      "outputs": [
        {
          "output_type": "execute_result",
          "data": {
            "text/plain": [
              "( Applaudissements )                                                                                                                                                                                                                                                                                                          544\n",
              "Merci .                                                                                                                                                                                                                                                                                                                       346\n",
              "Merci beaucoup .                                                                                                                                                                                                                                                                                                              180\n",
              "Pourquoi ?                                                                                                                                                                                                                                                                                                                     31\n",
              "Merci . ( Applaudissements )                                                                                                                                                                                                                                                                                                   19\n",
              "                                                                                                                                                                                                                                                                                                                             ... \n",
              "Ensemble , ils ne représentent que 15 années de nos besoins .                                                                                                                                                                                                                                                                   1\n",
              "Nous l&apos; ignorons .                                                                                                                                                                                                                                                                                                         1\n",
              "Cela n&apos; est pas nouveau . Ce n&apos; est pratiquement pas nouveau pour les habitués de TED .                                                                                                                                                                                                                               1\n",
              "Alors pourquoi ne pas manger d&apos; insectes ?                                                                                                                                                                                                                                                                                 1\n",
              "Je veux aider mon gouvernement , mais le fait qu&apos; il soit disposé à ignorer complètement la procédure régulière , qu&apos; il soit prêt à déclarer la culpabilité sans tenir un procès , voilà les choses contre lesquelles nous devons nous battre en tant que société , et dire que ce n&apos; est pas convenable .      1\n",
              "Name: sentence, Length: 96950, dtype: int64"
            ]
          },
          "metadata": {
            "tags": []
          },
          "execution_count": 14
        }
      ]
    },
    {
      "cell_type": "code",
      "metadata": {
        "id": "bNX9jYhJa3JE"
      },
      "source": [
        "x = train_df_not_outs.values[:, 0]\n",
        "label_encoder = LabelEncoder().fit(train_df_not_outs.values[:, 1])\n",
        "y = label_encoder.transform(train_df_not_outs.values[:, 1])"
      ],
      "execution_count": null,
      "outputs": []
    },
    {
      "cell_type": "code",
      "metadata": {
        "id": "35fADiavfV3q"
      },
      "source": [
        "pipe = Pipeline([\n",
        "    ('vectorizer', TfidfVectorizer(stop_words=('apos', 'quot'), \n",
        "                                   min_df = 5, max_df = 0.99)),\n",
        "    ('model', SGDClassifier(random_state=SEED, loss='log', \n",
        "                            alpha = 1e-7,\n",
        "                            class_weight = 'balanced', \n",
        "                            n_jobs=-1, \n",
        "                            average = True))])"
      ],
      "execution_count": null,
      "outputs": []
    },
    {
      "cell_type": "markdown",
      "metadata": {
        "id": "3NKZDyGe0uPf"
      },
      "source": [
        "##3 Тренировка по батчам и по всей выборке"
      ]
    },
    {
      "cell_type": "code",
      "metadata": {
        "id": "XbJ3MLpy4TnF"
      },
      "source": [
        "# для генерации батчей\n",
        "def batch_generator(X, y, batch_size = 100000):\n",
        "  np.random.seed(50)\n",
        "  perm = np.random.permutation(X.shape[0])\n",
        "  n_batches = X.shape[0]//batch_size\n",
        "\n",
        "  for i in range(n_batches):\n",
        "    if i < n_batches-1:\n",
        "      X_ = X[perm[i*batch_size:(i+1)*batch_size]]\n",
        "      y_ = y[perm[i*batch_size:(i+1)*batch_size]]\n",
        "    else:\n",
        "      X_ = X[perm[i*batch_size:]]\n",
        "      y_ = y[perm[i*batch_size:]]\n",
        "\n",
        "    yield X_, y_"
      ],
      "execution_count": null,
      "outputs": []
    },
    {
      "cell_type": "code",
      "metadata": {
        "id": "TJyGrM74QwwQ"
      },
      "source": [
        "# для обучения по батчам\n",
        "def train(X_train, y_train, batch_size, model):\n",
        "  train_loss = []\n",
        "\n",
        "  for X_batch, y_batch in batch_generator(X_train, y_train, batch_size):\n",
        "    model.fit(X_batch, y_batch)\n",
        "    preds = model.predict(X_batch)\n",
        "\n",
        "    metr = balanced_accuracy_score(y_batch, preds)\n",
        "    train_loss.append(metr)\n",
        "    print(metr)\n",
        "  return train_loss"
      ],
      "execution_count": null,
      "outputs": []
    },
    {
      "cell_type": "code",
      "metadata": {
        "id": "Lw4G0KFGS3k7"
      },
      "source": [
        "lo = train(x, y, 300000, pipe)"
      ],
      "execution_count": null,
      "outputs": []
    },
    {
      "cell_type": "code",
      "metadata": {
        "colab": {
          "base_uri": "https://localhost:8080/"
        },
        "id": "jI_GbvSDX6ET",
        "outputId": "07c61e71-18f5-49b5-b007-be7f9523aeb6"
      },
      "source": [
        "pipe.fit(x[:2500000], y[:2500000])"
      ],
      "execution_count": null,
      "outputs": [
        {
          "output_type": "execute_result",
          "data": {
            "text/plain": [
              "Pipeline(memory=None,\n",
              "         steps=[('vectorizer',\n",
              "                 TfidfVectorizer(analyzer='word', binary=False,\n",
              "                                 decode_error='strict',\n",
              "                                 dtype=<class 'numpy.float64'>,\n",
              "                                 encoding='utf-8', input='content',\n",
              "                                 lowercase=True, max_df=0.99, max_features=None,\n",
              "                                 min_df=5, ngram_range=(1, 1), norm='l2',\n",
              "                                 preprocessor=None, smooth_idf=True,\n",
              "                                 stop_words=('apos', 'quot'),\n",
              "                                 strip_accents=None, sublinear_tf=Fals...\n",
              "                ('model',\n",
              "                 SGDClassifier(alpha=1e-07, average=True,\n",
              "                               class_weight='balanced', early_stopping=False,\n",
              "                               epsilon=0.1, eta0=0.0, fit_intercept=True,\n",
              "                               l1_ratio=0.15, learning_rate='optimal',\n",
              "                               loss='log', max_iter=1000, n_iter_no_change=5,\n",
              "                               n_jobs=-1, penalty='l2', power_t=0.5,\n",
              "                               random_state=42, shuffle=True, tol=0.001,\n",
              "                               validation_fraction=0.1, verbose=0,\n",
              "                               warm_start=False))],\n",
              "         verbose=False)"
            ]
          },
          "metadata": {
            "tags": []
          },
          "execution_count": 45
        }
      ]
    },
    {
      "cell_type": "code",
      "metadata": {
        "colab": {
          "base_uri": "https://localhost:8080/"
        },
        "id": "hNMRqsodX6mR",
        "outputId": "ce0447ea-303a-419d-dfd9-3dad9d541fe4"
      },
      "source": [
        "predictions = pipe.predict(x[2500000:])\n",
        "balanced_accuracy_score(y[2500000:], predictions)"
      ],
      "execution_count": null,
      "outputs": [
        {
          "output_type": "execute_result",
          "data": {
            "text/plain": [
              "0.883256388472344"
            ]
          },
          "metadata": {
            "tags": []
          },
          "execution_count": 46
        }
      ]
    },
    {
      "cell_type": "markdown",
      "metadata": {
        "id": "S6plB9uXxrF9"
      },
      "source": [
        "##4 Выгрузка на каггл"
      ]
    },
    {
      "cell_type": "code",
      "metadata": {
        "id": "mkAUseSImMTj",
        "colab": {
          "base_uri": "https://localhost:8080/"
        },
        "outputId": "c024bc80-753c-447a-b7b0-0398896887d1"
      },
      "source": [
        "test_df.sentence.value_counts()"
      ],
      "execution_count": null,
      "outputs": [
        {
          "output_type": "execute_result",
          "data": {
            "text/plain": [
              "( Aplausos )                                                                                                                         1367\n",
              "( Applaus )                                                                                                                          1150\n",
              "( Applause )                                                                                                                          826\n",
              "( Applaudissements )                                                                                                                  674\n",
              "( تصفيق )                                                                                                                             653\n",
              "                                                                                                                                     ... \n",
              "Baby &apos; s reageren op niet veel .                                                                                                   1\n",
              "We can load up all the neurons , each one on to its processor , and fire it up , and see what happens .                                 1\n",
              "In Gruppen so groß wie 150 und so klein wie drei entdeckten diese jungen Menschen neue Orte , neue Gedanken , neue Perspektiven .       1\n",
              "C ’ est une expérimentation remarquablement ambitieuse , et elle aura une sensibilité très avancée dans les prochaines années .         1\n",
              "カリフォルニア大学デービス校では プロバイオティクスを使用して 未熟児における壊死性腸炎を治療または防止する というプロジェクトが進行中です                                                                  1\n",
              "Name: sentence, Length: 2738613, dtype: int64"
            ]
          },
          "metadata": {
            "tags": []
          },
          "execution_count": 27
        }
      ]
    },
    {
      "cell_type": "code",
      "metadata": {
        "id": "NC-d13fexwgV"
      },
      "source": [
        "x_test = test_df.sentence.values"
      ],
      "execution_count": null,
      "outputs": []
    },
    {
      "cell_type": "code",
      "metadata": {
        "id": "fxo2rOveyddE"
      },
      "source": [
        "y_kag = pipe.predict(x_test)"
      ],
      "execution_count": null,
      "outputs": []
    },
    {
      "cell_type": "code",
      "metadata": {
        "colab": {
          "base_uri": "https://localhost:8080/",
          "height": 194
        },
        "id": "Y-lsFLkIyq_F",
        "outputId": "33100125-016e-41c2-b195-d1c6bcf725d2"
      },
      "source": [
        "test_df['language'] = label_encoder.classes_[y_kag]\n",
        "\n",
        "test_df.head()"
      ],
      "execution_count": null,
      "outputs": [
        {
          "output_type": "execute_result",
          "data": {
            "text/html": [
              "<div>\n",
              "<style scoped>\n",
              "    .dataframe tbody tr th:only-of-type {\n",
              "        vertical-align: middle;\n",
              "    }\n",
              "\n",
              "    .dataframe tbody tr th {\n",
              "        vertical-align: top;\n",
              "    }\n",
              "\n",
              "    .dataframe thead th {\n",
              "        text-align: right;\n",
              "    }\n",
              "</style>\n",
              "<table border=\"1\" class=\"dataframe\">\n",
              "  <thead>\n",
              "    <tr style=\"text-align: right;\">\n",
              "      <th></th>\n",
              "      <th>index</th>\n",
              "      <th>sentence</th>\n",
              "      <th>language</th>\n",
              "    </tr>\n",
              "  </thead>\n",
              "  <tbody>\n",
              "    <tr>\n",
              "      <th>0</th>\n",
              "      <td>0</td>\n",
              "      <td>תודה לכם .</td>\n",
              "      <td>he</td>\n",
              "    </tr>\n",
              "    <tr>\n",
              "      <th>1</th>\n",
              "      <td>1</td>\n",
              "      <td>Precisamos de compaixão para começar , e auto-...</td>\n",
              "      <td>pt-br</td>\n",
              "    </tr>\n",
              "    <tr>\n",
              "      <th>2</th>\n",
              "      <td>2</td>\n",
              "      <td>這個增長相當大 ， 並且它將引發經濟的增長 。</td>\n",
              "      <td>zh-tw</td>\n",
              "    </tr>\n",
              "    <tr>\n",
              "      <th>3</th>\n",
              "      <td>3</td>\n",
              "      <td>시애틀에서 자란 제가 처음 가난을 보게 되던 때를 기억해요 .</td>\n",
              "      <td>ko</td>\n",
              "    </tr>\n",
              "    <tr>\n",
              "      <th>4</th>\n",
              "      <td>4</td>\n",
              "      <td>これをロボットに組み込みました</td>\n",
              "      <td>zh-tw</td>\n",
              "    </tr>\n",
              "  </tbody>\n",
              "</table>\n",
              "</div>"
            ],
            "text/plain": [
              "   index                                           sentence language\n",
              "0      0                                         תודה לכם .       he\n",
              "1      1  Precisamos de compaixão para começar , e auto-...    pt-br\n",
              "2      2                            這個增長相當大 ， 並且它將引發經濟的增長 。    zh-tw\n",
              "3      3                 시애틀에서 자란 제가 처음 가난을 보게 되던 때를 기억해요 .       ko\n",
              "4      4                                    これをロボットに組み込みました    zh-tw"
            ]
          },
          "metadata": {
            "tags": []
          },
          "execution_count": 30
        }
      ]
    },
    {
      "cell_type": "code",
      "metadata": {
        "id": "AGbJ3GAS1kek"
      },
      "source": [
        "(\n",
        "    test_df[['index', 'language']]\n",
        "    .to_csv('sample_submission.csv', index=False)\n",
        ")"
      ],
      "execution_count": null,
      "outputs": []
    },
    {
      "cell_type": "code",
      "metadata": {
        "id": "118L5OUJnxsD"
      },
      "source": [
        ""
      ],
      "execution_count": null,
      "outputs": []
    }
  ]
}