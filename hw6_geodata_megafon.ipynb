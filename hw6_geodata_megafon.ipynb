{
  "nbformat": 4,
  "nbformat_minor": 0,
  "metadata": {
    "colab": {
      "name": "megafon_geo_hw.ipynb",
      "provenance": [],
      "collapsed_sections": [],
      "toc_visible": true
    },
    "kernelspec": {
      "display_name": "Python 3",
      "language": "python",
      "name": "python3"
    },
    "language_info": {
      "codemirror_mode": {
        "name": "ipython",
        "version": 3
      },
      "file_extension": ".py",
      "mimetype": "text/x-python",
      "name": "python",
      "nbconvert_exporter": "python",
      "pygments_lexer": "ipython3",
      "version": "3.8.5"
    }
  },
  "cells": [
    {
      "cell_type": "code",
      "metadata": {
        "id": "rQBrQRoHfZCP",
        "colab": {
          "base_uri": "https://localhost:8080/"
        },
        "outputId": "8ae14dc8-97f6-406c-9db7-d2d3f8af20cb"
      },
      "source": [
        "!pip install geopandas"
      ],
      "execution_count": null,
      "outputs": [
        {
          "output_type": "stream",
          "text": [
            "Requirement already satisfied: geopandas in /usr/local/lib/python3.7/dist-packages (0.9.0)\n",
            "Requirement already satisfied: pyproj>=2.2.0 in /usr/local/lib/python3.7/dist-packages (from geopandas) (3.1.0)\n",
            "Requirement already satisfied: pandas>=0.24.0 in /usr/local/lib/python3.7/dist-packages (from geopandas) (1.1.5)\n",
            "Requirement already satisfied: fiona>=1.8 in /usr/local/lib/python3.7/dist-packages (from geopandas) (1.8.19)\n",
            "Requirement already satisfied: shapely>=1.6 in /usr/local/lib/python3.7/dist-packages (from geopandas) (1.7.1)\n",
            "Requirement already satisfied: certifi in /usr/local/lib/python3.7/dist-packages (from pyproj>=2.2.0->geopandas) (2020.12.5)\n",
            "Requirement already satisfied: numpy>=1.15.4 in /usr/local/lib/python3.7/dist-packages (from pandas>=0.24.0->geopandas) (1.19.5)\n",
            "Requirement already satisfied: pytz>=2017.2 in /usr/local/lib/python3.7/dist-packages (from pandas>=0.24.0->geopandas) (2018.9)\n",
            "Requirement already satisfied: python-dateutil>=2.7.3 in /usr/local/lib/python3.7/dist-packages (from pandas>=0.24.0->geopandas) (2.8.1)\n",
            "Requirement already satisfied: attrs>=17 in /usr/local/lib/python3.7/dist-packages (from fiona>=1.8->geopandas) (21.2.0)\n",
            "Requirement already satisfied: cligj>=0.5 in /usr/local/lib/python3.7/dist-packages (from fiona>=1.8->geopandas) (0.7.1)\n",
            "Requirement already satisfied: six>=1.7 in /usr/local/lib/python3.7/dist-packages (from fiona>=1.8->geopandas) (1.15.0)\n",
            "Requirement already satisfied: munch in /usr/local/lib/python3.7/dist-packages (from fiona>=1.8->geopandas) (2.5.0)\n",
            "Requirement already satisfied: click-plugins>=1.0 in /usr/local/lib/python3.7/dist-packages (from fiona>=1.8->geopandas) (1.1.1)\n",
            "Requirement already satisfied: click<8,>=4.0 in /usr/local/lib/python3.7/dist-packages (from fiona>=1.8->geopandas) (7.1.2)\n"
          ],
          "name": "stdout"
        }
      ]
    },
    {
      "cell_type": "code",
      "metadata": {
        "id": "yMA5sF8VeP2F"
      },
      "source": [
        "import warnings\n",
        "warnings.filterwarnings('ignore')\n",
        "\n",
        "import pandas as pd\n",
        "import numpy as np\n",
        "import geopandas as gpd\n",
        "import requests\n",
        "from time import sleep\n",
        "\n",
        "from shapely.geometry import Point\n",
        "from geopy import distance \n",
        "from geopy.geocoders import Nominatim\n",
        "from sklearn.model_selection import train_test_split\n",
        "from sklearn.metrics import mean_absolute_error\n",
        "from sklearn.linear_model import LinearRegression"
      ],
      "execution_count": null,
      "outputs": []
    },
    {
      "cell_type": "markdown",
      "metadata": {
        "id": "XFBtFS9seP2R"
      },
      "source": [
        "### Задача:\n",
        "\n",
        "Прогноз продаж одной из популярных моделей [фичерфонов](https://ru.wikipedia.org/wiki/%D0%A4%D0%B8%D1%87%D0%B5%D1%80%D1%84%D0%BE%D0%BD) (на картинке ниже пример похожего устройства) в салонах МегаФона\n",
        "![](https://39.img.avito.st/640x480/8468720439.jpg)"
      ]
    },
    {
      "cell_type": "markdown",
      "metadata": {
        "id": "J1OJPBkheP2S"
      },
      "source": [
        "### Исходные данные:\n",
        "\n",
        "Датасет содержит следующие поля:\n",
        "\n",
        "1. `point_id` - Индентификатор салона\n",
        "2. `lon` - Долгота точки\n",
        "3. `lat` - Широта точки\n",
        "4. `target` - Значение таргета, усредненное за несколько месяцев и отнормированное"
      ]
    },
    {
      "cell_type": "markdown",
      "metadata": {
        "id": "gqs1xO3JeP2T"
      },
      "source": [
        "### Требования к решению и советы:\n",
        "\n",
        "Ниже приведен список из нескольких важных пунктов, необходимых для решения задания. Выполнение каждого из пунктов влияет на итоговую оценку. Вы можете выполнить каждый из пунктов разными способами, самым лучшим будет считаться вариант, когда всё получение и обработка данных будут реализованы на Питоне (пример: вы можете скачать данные из OSM через интерфейс на сайте overpass-turbo или с помощью библиотек `overpass`/`requests`. Оба варианта будут зачтены, но больше баллов можно заработать во втором случае)\n",
        "\n",
        "\n",
        "\n",
        "1. Салоны расположены в нескольких разных городах, вам необходимо **определить город для каждого салона** (это понадобится во многих частях задания). К этому есть разные подходы. Вы можете провести [обратное геокодирование](https://en.wikipedia.org/wiki/Reverse_geocoding) с помощью геокодера [Nominatim](https://nominatim.org/), доступного через библиотеку `geopy` примерно вот так:\n",
        "```python\n",
        "from geopy.geocoders import Nominatim\n",
        "geolocator = Nominatim(user_agent=\"specify_your_app_name_here\")\n",
        "location = geolocator.reverse(\"52.509669, 13.376294\")\n",
        "print(location.address)\n",
        "```\n",
        "В таком случае, вам придется обрабатывать полученную строку адреса, чтобы извлечь название города. Также вы можете скачать из OSM или найти в любом другом источнике границы административно территориальных границ России и пересечь с ними датасет с помощью `geopandas.sjoin` (этот вариант более надежный, но нужно будет разобраться с тем, как устроены границы АТД в OSM, обратите внимание на [этот тег](https://wiki.openstreetmap.org/wiki/Key:admin_level))"
      ]
    },
    {
      "cell_type": "markdown",
      "metadata": {
        "id": "Qtz0fmqjeP2U"
      },
      "source": [
        "\n",
        "2. **Используйте данные OSM**: подумайте, какие объекты могут влиять на продажи фичерфонов. Гипотеза: такие телефоны покупают люди, приезжающие в город или страну ненадолго, чтобы вставить туда отдельную симкарту для роуминга. Можно попробовать использовать местоположения железнодорожных вокзалов (изучите [этот тег](https://wiki.openstreetmap.org/wiki/Tag:railway%3Dstation)). Необходимо использовать хотя бы 5 разных типов объектов из OSM. Скорее всего, вам придется качать данные OSM отдельно для разных городов (см. пример для Нью-Йорка из лекции)\n",
        "\n",
        "\n",
        "3. **Используйте разные способы генерации признаков**: описать положение салона МегаФона относительно станций метро можно разными способами - найти ***расстояние до ближайшей станции***, или же посчитать, сколько станций попадает в ***500 метровую буферную зону*** вокруг салона. Такие признаки будут нести разную информацию. Так же попробуйте поэкспериментировать с размерами буферных зон (представьте, что значат в реальности радиусы 100, 500, 1000 метров). Попробуйте посчитать расстояние до центра города, до других объектов."
      ]
    },
    {
      "cell_type": "markdown",
      "metadata": {
        "id": "K4EemJ0PeP2V"
      },
      "source": [
        "4. **Сделайте визуализации**: постройте 2-3 карты для какого нибудь из городов - как распределен в пространстве таргет, где находятся объекты, полученные вами из OSM. Можете использовать любой инструмент - обычный `plot()`, `folium`, `keplergl`. Если выберете Кеплер, обязательно сохраните в файл конфиг карты, чтобы ее можно было воспроизвести. Сделать это можно вот так:\n",
        "\n",
        "```python\n",
        "import json\n",
        "json_data = kepler_map.config\n",
        "with open('kepler_config.json', 'w') as outfile:\n",
        "    json.dump(json_data, outfile)\n",
        "```\n",
        "5. Задание не ограничено приведенными выше пунктами, попробуйте нагенерировать интересных признаков, найти в интернете дополнительные данные (в таком случае в комментарии к коду укажите ссылку на ресурс, откуда взяли данные)\n",
        "\n",
        "\n",
        "\n",
        "6. Это довольно сложная задача - датасет очень маленький, данные по своей природе довольно случайны. Поэтому место и скор на Kaggle не будут играть решающую роль в оценке, но позволят заработать дополнительные баллы"
      ]
    },
    {
      "cell_type": "markdown",
      "metadata": {
        "id": "8txlsSl5fpqM"
      },
      "source": [
        "Это часть кода для загрузки данных с каггл без скачивания данных на локальный компьютер. Пропустить до Read data, если уже есть эти данные."
      ]
    },
    {
      "cell_type": "code",
      "metadata": {
        "id": "ihrAr6QBerYA",
        "colab": {
          "resources": {
            "http://localhost:8080/nbextensions/google.colab/files.js": {
              "data": "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",
              "ok": true,
              "headers": [
                [
                  "content-type",
                  "application/javascript"
                ]
              ],
              "status": 200,
              "status_text": ""
            }
          },
          "base_uri": "https://localhost:8080/",
          "height": 91
        },
        "outputId": "099527c7-0cdc-4de7-f217-d9ab34902a14"
      },
      "source": [
        "from google.colab import files\n",
        "files.upload()"
      ],
      "execution_count": null,
      "outputs": [
        {
          "output_type": "display_data",
          "data": {
            "text/html": [
              "\n",
              "     <input type=\"file\" id=\"files-52bdc50a-21fa-4bb6-87fc-d6a560ee7363\" name=\"files[]\" multiple disabled\n",
              "        style=\"border:none\" />\n",
              "     <output id=\"result-52bdc50a-21fa-4bb6-87fc-d6a560ee7363\">\n",
              "      Upload widget is only available when the cell has been executed in the\n",
              "      current browser session. Please rerun this cell to enable.\n",
              "      </output>\n",
              "      <script src=\"/nbextensions/google.colab/files.js\"></script> "
            ],
            "text/plain": [
              "<IPython.core.display.HTML object>"
            ]
          },
          "metadata": {
            "tags": []
          }
        },
        {
          "output_type": "stream",
          "text": [
            "Saving kaggle.json to kaggle (1).json\n"
          ],
          "name": "stdout"
        },
        {
          "output_type": "execute_result",
          "data": {
            "text/plain": [
              "{'kaggle.json': b'{\"username\":\"cheremgena\",\"key\":\"971a5f79d9ba73479f2d6e406318adc0\"}'}"
            ]
          },
          "metadata": {
            "tags": []
          },
          "execution_count": 55
        }
      ]
    },
    {
      "cell_type": "code",
      "metadata": {
        "id": "k22mw4U4e3U1"
      },
      "source": [
        "!pip install -q kaggle"
      ],
      "execution_count": null,
      "outputs": []
    },
    {
      "cell_type": "code",
      "metadata": {
        "id": "ncn6mzEBe8g4"
      },
      "source": [
        "# The Kaggle API client expects this file to be in ~/.kaggle,\n",
        "# so move it there.\n",
        "!mkdir -p ~/.kaggle\n",
        "!cp kaggle.json ~/.kaggle/\n",
        "\n",
        "# This permissions change avoids a warning on Kaggle tool startup.\n",
        "!chmod 600 ~/.kaggle/kaggle.json"
      ],
      "execution_count": null,
      "outputs": []
    },
    {
      "cell_type": "code",
      "metadata": {
        "id": "mOOd2aq_e9gZ",
        "colab": {
          "base_uri": "https://localhost:8080/"
        },
        "outputId": "078b1a01-ce4e-4964-b262-02bbfb606bfb"
      },
      "source": [
        "# List available datasets.\n",
        "!kaggle datasets list"
      ],
      "execution_count": null,
      "outputs": [
        {
          "output_type": "stream",
          "text": [
            "Warning: Looks like you're using an outdated API Version, please consider updating (server 1.5.12 / client 1.5.4)\n",
            "ref                                                         title                                              size  lastUpdated          downloadCount  \n",
            "----------------------------------------------------------  ------------------------------------------------  -----  -------------------  -------------  \n",
            "gpreda/reddit-vaccine-myths                                 Reddit Vaccine Myths                              229KB  2021-05-26 21:13:45           6156  \n",
            "crowww/a-large-scale-fish-dataset                           A Large Scale Fish Dataset                          3GB  2021-04-28 17:03:01           3498  \n",
            "imsparsh/musicnet-dataset                                   MusicNet Dataset                                   22GB  2021-02-18 14:12:19           1230  \n",
            "dhruvildave/wikibooks-dataset                               Wikibooks Dataset                                   1GB  2021-02-18 10:08:27           1970  \n",
            "promptcloud/careerbuilder-job-listing-2020                  Careerbuilder Job Listing 2020                     42MB  2021-03-05 06:59:52            870  \n",
            "mathurinache/twitter-edge-nodes                             Twitter Edge Nodes                                342MB  2021-03-08 06:43:04            414  \n",
            "alsgroup/end-als                                            End ALS Kaggle Challenge                           12GB  2021-04-08 12:16:37            643  \n",
            "fatiimaezzahra/famous-iconic-women                          Famous Iconic Women                               838MB  2021-02-28 14:56:00            635  \n",
            "simiotic/github-code-snippets                               GitHub Code Snippets                                7GB  2021-03-03 11:34:39            127  \n",
            "nickuzmenkov/nih-chest-xrays-tfrecords                      NIH Chest X-rays TFRecords                         11GB  2021-03-09 04:49:23            521  \n",
            "coloradokb/dandelionimages                                  DandelionImages                                     4GB  2021-02-19 20:03:47            340  \n",
            "mathurinache/the-lj-speech-dataset                          The LJ Speech Dataset                               3GB  2021-02-15 09:19:54            155  \n",
            "stuartjames/lights                                          LightS: Light Specularity Dataset                  18GB  2021-02-18 14:32:26             57  \n",
            "landrykezebou/lvzhdr-tone-mapping-benchmark-dataset-tmonet  LVZ-HDR Tone Mapping Benchmark Dataset (TMO-Net)   24GB  2021-03-01 05:03:40             72  \n",
            "imsparsh/accentdb-core-extended                             AccentDB - Core & Extended                          6GB  2021-02-17 14:22:54             65  \n",
            "nickuzmenkov/ranzcr-clip-kfold-tfrecords                    RANZCR CLiP KFold TFRecords                         2GB  2021-02-21 13:29:51             79  \n",
            "datasnaek/youtube-new                                       Trending YouTube Video Statistics                 201MB  2019-06-03 00:56:47         140903  \n",
            "zynicide/wine-reviews                                       Wine Reviews                                       51MB  2017-11-27 17:08:04         137130  \n",
            "datasnaek/chess                                             Chess Game Dataset (Lichess)                        3MB  2017-09-04 03:09:09          18558  \n",
            "residentmario/ramen-ratings                                 Ramen Ratings                                      40KB  2018-01-11 16:04:39          23313  \n"
          ],
          "name": "stdout"
        }
      ]
    },
    {
      "cell_type": "code",
      "metadata": {
        "id": "4toreWOWfER5",
        "colab": {
          "base_uri": "https://localhost:8080/"
        },
        "outputId": "cc21b069-0209-418b-ff85-2e7f4e791b93"
      },
      "source": [
        "!kaggle competitions download -c mf-geo-hw-april"
      ],
      "execution_count": null,
      "outputs": [
        {
          "output_type": "stream",
          "text": [
            "Warning: Looks like you're using an outdated API Version, please consider updating (server 1.5.12 / client 1.5.4)\n",
            "mf_geo_train.csv: Skipping, found more recently modified local copy (use --force to force download)\n",
            "sample_submission.csv: Skipping, found more recently modified local copy (use --force to force download)\n",
            "mf_geo_test.csv: Skipping, found more recently modified local copy (use --force to force download)\n"
          ],
          "name": "stdout"
        }
      ]
    },
    {
      "cell_type": "markdown",
      "metadata": {
        "id": "QWq99fsAeP2W"
      },
      "source": [
        "### Read data"
      ]
    },
    {
      "cell_type": "code",
      "metadata": {
        "id": "FFdrm-F_eP2X"
      },
      "source": [
        "train = pd.read_csv('mf_geo_train.csv')\n",
        "test = pd.read_csv('mf_geo_test.csv')\n",
        "\n",
        "# если в папке data разкомментить след строки и закоментить предудыщ строки\n",
        "\n",
        "#train = pd.read_csv('data/mf_geo_train.csv')\n",
        "#test = pd.read_csv('data/mf_geo_test.csv')"
      ],
      "execution_count": null,
      "outputs": []
    },
    {
      "cell_type": "code",
      "metadata": {
        "id": "aM9nIgnkeP2X",
        "colab": {
          "base_uri": "https://localhost:8080/",
          "height": 135
        },
        "outputId": "4b3ac761-48e3-4847-cc2e-fd0c323cbe83"
      },
      "source": [
        "train.head(3)"
      ],
      "execution_count": null,
      "outputs": [
        {
          "output_type": "execute_result",
          "data": {
            "text/html": [
              "<div>\n",
              "<style scoped>\n",
              "    .dataframe tbody tr th:only-of-type {\n",
              "        vertical-align: middle;\n",
              "    }\n",
              "\n",
              "    .dataframe tbody tr th {\n",
              "        vertical-align: top;\n",
              "    }\n",
              "\n",
              "    .dataframe thead th {\n",
              "        text-align: right;\n",
              "    }\n",
              "</style>\n",
              "<table border=\"1\" class=\"dataframe\">\n",
              "  <thead>\n",
              "    <tr style=\"text-align: right;\">\n",
              "      <th></th>\n",
              "      <th>point_id</th>\n",
              "      <th>lon</th>\n",
              "      <th>lat</th>\n",
              "      <th>target</th>\n",
              "    </tr>\n",
              "  </thead>\n",
              "  <tbody>\n",
              "    <tr>\n",
              "      <th>0</th>\n",
              "      <td>ommNZCUV</td>\n",
              "      <td>37.590776</td>\n",
              "      <td>55.848630</td>\n",
              "      <td>-0.348157</td>\n",
              "    </tr>\n",
              "    <tr>\n",
              "      <th>1</th>\n",
              "      <td>nMe2LHPb</td>\n",
              "      <td>37.784210</td>\n",
              "      <td>55.750271</td>\n",
              "      <td>1.294206</td>\n",
              "    </tr>\n",
              "    <tr>\n",
              "      <th>2</th>\n",
              "      <td>ZgodVRqB</td>\n",
              "      <td>39.635721</td>\n",
              "      <td>47.213330</td>\n",
              "      <td>-1.039679</td>\n",
              "    </tr>\n",
              "  </tbody>\n",
              "</table>\n",
              "</div>"
            ],
            "text/plain": [
              "   point_id        lon        lat    target\n",
              "0  ommNZCUV  37.590776  55.848630 -0.348157\n",
              "1  nMe2LHPb  37.784210  55.750271  1.294206\n",
              "2  ZgodVRqB  39.635721  47.213330 -1.039679"
            ]
          },
          "metadata": {
            "tags": []
          },
          "execution_count": 61
        }
      ]
    },
    {
      "cell_type": "code",
      "metadata": {
        "id": "0nzHfQFoeP2Z",
        "colab": {
          "base_uri": "https://localhost:8080/",
          "height": 106
        },
        "outputId": "4ef37db2-b8ea-440b-9c66-f794e60ecfe5"
      },
      "source": [
        "test.head(2)"
      ],
      "execution_count": null,
      "outputs": [
        {
          "output_type": "execute_result",
          "data": {
            "text/html": [
              "<div>\n",
              "<style scoped>\n",
              "    .dataframe tbody tr th:only-of-type {\n",
              "        vertical-align: middle;\n",
              "    }\n",
              "\n",
              "    .dataframe tbody tr th {\n",
              "        vertical-align: top;\n",
              "    }\n",
              "\n",
              "    .dataframe thead th {\n",
              "        text-align: right;\n",
              "    }\n",
              "</style>\n",
              "<table border=\"1\" class=\"dataframe\">\n",
              "  <thead>\n",
              "    <tr style=\"text-align: right;\">\n",
              "      <th></th>\n",
              "      <th>point_id</th>\n",
              "      <th>lon</th>\n",
              "      <th>lat</th>\n",
              "      <th>target</th>\n",
              "    </tr>\n",
              "  </thead>\n",
              "  <tbody>\n",
              "    <tr>\n",
              "      <th>0</th>\n",
              "      <td>F4lXR1cG</td>\n",
              "      <td>37.681242</td>\n",
              "      <td>55.74804</td>\n",
              "      <td>0.0091</td>\n",
              "    </tr>\n",
              "    <tr>\n",
              "      <th>1</th>\n",
              "      <td>4LJu4GTf</td>\n",
              "      <td>60.580910</td>\n",
              "      <td>56.79586</td>\n",
              "      <td>0.0091</td>\n",
              "    </tr>\n",
              "  </tbody>\n",
              "</table>\n",
              "</div>"
            ],
            "text/plain": [
              "   point_id        lon       lat  target\n",
              "0  F4lXR1cG  37.681242  55.74804  0.0091\n",
              "1  4LJu4GTf  60.580910  56.79586  0.0091"
            ]
          },
          "metadata": {
            "tags": []
          },
          "execution_count": 62
        }
      ]
    },
    {
      "cell_type": "code",
      "metadata": {
        "id": "dzFQIz0-QiRS",
        "colab": {
          "base_uri": "https://localhost:8080/"
        },
        "outputId": "74caf025-99ee-4b04-8983-56fe2c6d1d1f"
      },
      "source": [
        "test.shape, train.shape"
      ],
      "execution_count": null,
      "outputs": [
        {
          "output_type": "execute_result",
          "data": {
            "text/plain": [
              "((107, 4), (425, 4))"
            ]
          },
          "metadata": {
            "tags": []
          },
          "execution_count": 63
        }
      ]
    },
    {
      "cell_type": "code",
      "metadata": {
        "id": "dHdL2rNm3r27",
        "colab": {
          "base_uri": "https://localhost:8080/",
          "height": 282
        },
        "outputId": "4233649e-d90a-4934-d39d-15619490d258"
      },
      "source": [
        "train.describe()"
      ],
      "execution_count": null,
      "outputs": [
        {
          "output_type": "execute_result",
          "data": {
            "text/html": [
              "<div>\n",
              "<style scoped>\n",
              "    .dataframe tbody tr th:only-of-type {\n",
              "        vertical-align: middle;\n",
              "    }\n",
              "\n",
              "    .dataframe tbody tr th {\n",
              "        vertical-align: top;\n",
              "    }\n",
              "\n",
              "    .dataframe thead th {\n",
              "        text-align: right;\n",
              "    }\n",
              "</style>\n",
              "<table border=\"1\" class=\"dataframe\">\n",
              "  <thead>\n",
              "    <tr style=\"text-align: right;\">\n",
              "      <th></th>\n",
              "      <th>lon</th>\n",
              "      <th>lat</th>\n",
              "      <th>target</th>\n",
              "    </tr>\n",
              "  </thead>\n",
              "  <tbody>\n",
              "    <tr>\n",
              "      <th>count</th>\n",
              "      <td>425.000000</td>\n",
              "      <td>425.000000</td>\n",
              "      <td>425.000000</td>\n",
              "    </tr>\n",
              "    <tr>\n",
              "      <th>mean</th>\n",
              "      <td>45.466265</td>\n",
              "      <td>55.986388</td>\n",
              "      <td>0.009146</td>\n",
              "    </tr>\n",
              "    <tr>\n",
              "      <th>std</th>\n",
              "      <td>16.778159</td>\n",
              "      <td>2.734334</td>\n",
              "      <td>0.979238</td>\n",
              "    </tr>\n",
              "    <tr>\n",
              "      <th>min</th>\n",
              "      <td>29.765540</td>\n",
              "      <td>47.208802</td>\n",
              "      <td>-1.428660</td>\n",
              "    </tr>\n",
              "    <tr>\n",
              "      <th>25%</th>\n",
              "      <td>37.486227</td>\n",
              "      <td>55.609839</td>\n",
              "      <td>-0.650698</td>\n",
              "    </tr>\n",
              "    <tr>\n",
              "      <th>50%</th>\n",
              "      <td>37.707080</td>\n",
              "      <td>55.789394</td>\n",
              "      <td>-0.196887</td>\n",
              "    </tr>\n",
              "    <tr>\n",
              "      <th>75%</th>\n",
              "      <td>50.173675</td>\n",
              "      <td>56.350323</td>\n",
              "      <td>0.386584</td>\n",
              "    </tr>\n",
              "    <tr>\n",
              "      <th>max</th>\n",
              "      <td>93.023803</td>\n",
              "      <td>60.093366</td>\n",
              "      <td>7.215360</td>\n",
              "    </tr>\n",
              "  </tbody>\n",
              "</table>\n",
              "</div>"
            ],
            "text/plain": [
              "              lon         lat      target\n",
              "count  425.000000  425.000000  425.000000\n",
              "mean    45.466265   55.986388    0.009146\n",
              "std     16.778159    2.734334    0.979238\n",
              "min     29.765540   47.208802   -1.428660\n",
              "25%     37.486227   55.609839   -0.650698\n",
              "50%     37.707080   55.789394   -0.196887\n",
              "75%     50.173675   56.350323    0.386584\n",
              "max     93.023803   60.093366    7.215360"
            ]
          },
          "metadata": {
            "tags": []
          },
          "execution_count": 64
        }
      ]
    },
    {
      "cell_type": "markdown",
      "metadata": {
        "id": "WQVc5lbyrI--"
      },
      "source": [
        "### Features treatment\n",
        "\n",
        "\n"
      ]
    },
    {
      "cell_type": "markdown",
      "metadata": {
        "id": "Ck4Ou3LUyVFL"
      },
      "source": [
        "#### add feature 'city'"
      ]
    },
    {
      "cell_type": "code",
      "metadata": {
        "id": "Qu_IdNEfrroh",
        "colab": {
          "base_uri": "https://localhost:8080/"
        },
        "outputId": "2e841780-d6fb-4d3a-8204-95067f157589"
      },
      "source": [
        "geolocator = Nominatim(user_agent=\"name_of_your_app\")\n",
        "location = geolocator.reverse([train.lat[0], train.lon[0]], language='ru')\n",
        "#locationgeolocator.reverse([train.lot[0], train.lat[0]], language='ru')\n",
        "location.raw, location"
      ],
      "execution_count": null,
      "outputs": [
        {
          "output_type": "execute_result",
          "data": {
            "text/plain": [
              "({'address': {'city': 'Москва',\n",
              "   'country': 'Россия',\n",
              "   'country_code': 'ru',\n",
              "   'house_number': '6А',\n",
              "   'postcode': '127106',\n",
              "   'region': 'Центральный федеральный округ',\n",
              "   'road': 'Сигнальный проезд',\n",
              "   'state': 'Москва',\n",
              "   'suburb': 'район Отрадное'},\n",
              "  'boundingbox': ['55.8484227', '55.8487788', '37.5904705', '37.5911113'],\n",
              "  'display_name': '6А, Сигнальный проезд, район Отрадное, Москва, Центральный федеральный округ, 127106, Россия',\n",
              "  'lat': '55.84860075',\n",
              "  'licence': 'Data © OpenStreetMap contributors, ODbL 1.0. https://osm.org/copyright',\n",
              "  'lon': '37.5907909',\n",
              "  'osm_id': 99115245,\n",
              "  'osm_type': 'way',\n",
              "  'place_id': 112707148},\n",
              " Location(6А, Сигнальный проезд, район Отрадное, Москва, Центральный федеральный округ, 127106, Россия, (55.84860075, 37.5907909, 0.0)))"
            ]
          },
          "metadata": {
            "tags": []
          },
          "execution_count": 65
        }
      ]
    },
    {
      "cell_type": "code",
      "metadata": {
        "id": "AhnWZAEcRUoJ"
      },
      "source": [
        "# извлек городские округа и страны, т.к. в запросах довольно часто отсутствует названия городов\n",
        "def get_addres(df):\n",
        "\n",
        "  geolocator = Nominatim(user_agent=\"name_of_your_app\")\n",
        "  address_list = []\n",
        "\n",
        "  for i in range(df.shape[0]):\n",
        "    try:\n",
        "      locate = geolocator.reverse([df.lat[i], df.lon[i]], language='ru')\n",
        "      address_list.append(locate.raw['address']['city'])\n",
        "    except:\n",
        "      print(i)\n",
        "      try:\n",
        "        locate = geolocator.reverse([df.lat[i], df.lon[i]], language='ru')\n",
        "        address_list.append(locate.raw['address']['state'])\n",
        "      except:\n",
        "        address_list.append('nan')\n",
        "  return address_list"
      ],
      "execution_count": null,
      "outputs": []
    },
    {
      "cell_type": "code",
      "metadata": {
        "colab": {
          "base_uri": "https://localhost:8080/"
        },
        "id": "4sSyW1YtUUqP",
        "outputId": "a4a79003-00ad-4584-9563-98496fe96813"
      },
      "source": [
        "a = get_addres(train)"
      ],
      "execution_count": null,
      "outputs": [
        {
          "output_type": "stream",
          "text": [
            "49\n",
            "70\n",
            "78\n",
            "129\n",
            "232\n",
            "293\n",
            "313\n",
            "340\n",
            "385\n"
          ],
          "name": "stdout"
        }
      ]
    },
    {
      "cell_type": "code",
      "metadata": {
        "id": "kirp02dl10eV"
      },
      "source": [
        "train['city'] = a"
      ],
      "execution_count": null,
      "outputs": []
    },
    {
      "cell_type": "code",
      "metadata": {
        "colab": {
          "base_uri": "https://localhost:8080/"
        },
        "id": "oLVL6Mr8ledd",
        "outputId": "0d3e6fd7-ffcf-41a9-8137-dab929d9a9cb"
      },
      "source": [
        "at = get_addres(test)"
      ],
      "execution_count": null,
      "outputs": [
        {
          "output_type": "stream",
          "text": [
            "98\n"
          ],
          "name": "stdout"
        }
      ]
    },
    {
      "cell_type": "code",
      "metadata": {
        "colab": {
          "base_uri": "https://localhost:8080/"
        },
        "id": "SL2pdMAgl1qS",
        "outputId": "34a38ff2-cc82-4b7c-81ca-46d3ab015140"
      },
      "source": [
        "test['city'] = at\n",
        "test['city'].unique()"
      ],
      "execution_count": null,
      "outputs": [
        {
          "output_type": "execute_result",
          "data": {
            "text/plain": [
              "array(['Москва', 'Екатеринбург', 'Казань', 'Санкт-Петербург', 'Самара',\n",
              "       'Новосибирск', 'Нижний Новгород', 'Ростов-на-Дону', 'Уфа',\n",
              "       'Красноярск', 'Зеленоград'], dtype=object)"
            ]
          },
          "metadata": {
            "tags": []
          },
          "execution_count": 70
        }
      ]
    },
    {
      "cell_type": "markdown",
      "metadata": {
        "id": "wNhnaw5qyIcY"
      },
      "source": [
        "### Using OSM and generate features"
      ]
    },
    {
      "cell_type": "code",
      "metadata": {
        "id": "uZ0-kJpKB8g2"
      },
      "source": [
        "# отрисовка нового признака по точкам\n",
        "def scatter_plot_feature(new_data, name_plot, base_data = train, city = 'Москва'):\n",
        "  sns.relplot(data = base_data[base_data.city == city], \n",
        "                    x = 'lat',  y = 'lon', hue = 'target')\n",
        "  plt.scatter(new_data.lat, new_data.lon, color = 'green', s=4)\n",
        "  plt.title(name_plot)\n",
        "  plt.show()\n",
        "\n",
        "\n",
        "# получение данных с запроса\n",
        "def get_data_req(over_query,\n",
        "                 ref = \"http://overpass-api.de/api/interpreter\"):\n",
        "\n",
        "  response = requests.get(ref, \n",
        "                        params={'data': over_query})\n",
        "  print(response.status_code)\n",
        "  query_json = response.json()\n",
        "\n",
        "  out_data = pd.DataFrame(query_json['elements'])\n",
        "  if out_data.shape == (0, 0):\n",
        "    return pd.DataFrame()\n",
        "    \n",
        "  else:\n",
        "    out_data = out_data.join(pd.DataFrame([x['tags'] for x in query_json['elements']])).drop('tags', axis=1)\n",
        "    return out_data\n",
        "\n",
        "\n",
        "# получение нового признака на основе ближайшего объекта\n",
        "def dist_nearest_new_feature(name_feature, data_for_feat, main_df, ncity = 'Москва'):\n",
        "  \n",
        "  if ncity == 'Москва':\n",
        "    main_df[name_feature] = np.zeros(main_df.shape[0]) + 100000\n",
        "\n",
        "  lat_moscow = data_for_feat.lat\n",
        "  lon_moscow = data_for_feat.lon\n",
        "\n",
        "  lon_moscow_close = []\n",
        "  lat_moscow_close = []\n",
        "\n",
        "  for i in range(main_df[main_df.city == ncity].shape[0]):\n",
        "    idp = main_df[main_df.city == ncity].point_id.values[i]\n",
        "    la0 = main_df[main_df.city == ncity].lat.values[i]\n",
        "    lo0 = main_df[main_df.city == ncity].lon.values[i]             \n",
        "\n",
        "    distance_l = (la0 - lat_moscow)**2 +(lo0 - lon_moscow)**2\n",
        "\n",
        "    ind = distance_l.argmin()\n",
        "    la = data_for_feat.iloc[ind].lat\n",
        "    lo = data_for_feat.iloc[ind].lon\n",
        "\n",
        "    main_df.loc[main_df.point_id == idp, name_feature] = distance.geodesic((la0, lo0),(la, lo)).m\n",
        "\n",
        "    return main_df\n",
        "\n",
        "\n",
        "def k_nearest_new_feature(name_feature, data_for_feat, \n",
        "                          main_df, ncity = 'Москва'):\n",
        "  # подсчет количества объектов(возле каждого отдела)\n",
        "  geo_series = gpd.GeoDataFrame({'geometry':[Point(a, b) for a,b in zip(data_for_feat.lon, \n",
        "                                                                        data_for_feat.lat)]})\n",
        "  if ncity == 'Москва':\n",
        "    main_df[name_feature] = np.zeros(main_df.shape[0])\n",
        "\n",
        "  for i in range(main_df[main_df.city == ncity].shape[0]):\n",
        "    idp = main_df[main_df.city == ncity].point_id.values[i]\n",
        "    area = main_df[main_df.city == ncity]['area'].values[i]\n",
        "    sum_points = 0\n",
        "    for point in geo_series.geometry.values:\n",
        "      sum_points += area.intersects(point)\n",
        "    main_df.loc[main_df.point_id == idp, name_feature] = sum_points"
      ],
      "execution_count": null,
      "outputs": []
    },
    {
      "cell_type": "markdown",
      "metadata": {
        "id": "JAQHLmMx-66b"
      },
      "source": [
        "#### Проверка функций для Москвы(отрисовка графиков и вывод таблиц)"
      ]
    },
    {
      "cell_type": "code",
      "metadata": {
        "id": "mg4CktgOOeUE"
      },
      "source": [
        "lon_min = 37.33\n",
        "lat_min = 55.5\n",
        "lon_max = 37.9\n",
        "lat_max = 55.95\n",
        "\n",
        "train['geometry'] = [Point(a, b) for a,b in zip(train.lon, train.lat)]\n",
        "geo_train = gpd.GeoDataFrame(train)\n",
        "\n",
        "test['geometry'] = [Point(a, b) for a,b in zip(test.lon, test.lat)]\n",
        "geo_test = gpd.GeoDataFrame(test)\n",
        "\n",
        "# Буферная зона с радиусом ~ 1.1 км\n",
        "geo_train['area'] = geo_train.geometry.buffer(0.01) \n",
        "geo_test['area'] = geo_test.geometry.buffer(0.01)\n",
        "\n",
        "bbox_ = lat_min,lon_min,lat_max,lon_max"
      ],
      "execution_count": null,
      "outputs": []
    },
    {
      "cell_type": "code",
      "metadata": {
        "id": "PRUKX8iI3IVm",
        "colab": {
          "base_uri": "https://localhost:8080/"
        },
        "outputId": "72a228ef-87f3-4804-8ca7-9f234e17811f"
      },
      "source": [
        "cities = train.city.unique()\n",
        "cities"
      ],
      "execution_count": null,
      "outputs": [
        {
          "output_type": "execute_result",
          "data": {
            "text/plain": [
              "array(['Москва', 'Ростов-на-Дону', 'Красноярск', 'Санкт-Петербург', 'Уфа',\n",
              "       'Казань', 'Екатеринбург', 'Нижний Новгород', 'Колпино',\n",
              "       'Новосибирск', 'Самара', 'Зеленоград', 'Московская область',\n",
              "       'Пушкин'], dtype=object)"
            ]
          },
          "metadata": {
            "tags": []
          },
          "execution_count": 73
        }
      ]
    },
    {
      "cell_type": "code",
      "metadata": {
        "id": "5b_jXQZR1aRd"
      },
      "source": [
        "import matplotlib.pyplot as plt\n",
        "import seaborn as sns"
      ],
      "execution_count": null,
      "outputs": []
    },
    {
      "cell_type": "code",
      "metadata": {
        "id": "CGJ8_OyaV2mG",
        "colab": {
          "base_uri": "https://localhost:8080/",
          "height": 383
        },
        "outputId": "da3b38c0-7efb-4927-df2b-fff9eace174c"
      },
      "source": [
        "sns.relplot(data = train, x = 'lat',  y = 'lon', hue = 'city')\n",
        "plt.show()"
      ],
      "execution_count": null,
      "outputs": [
        {
          "output_type": "display_data",
          "data": {
            "image/png": "[encoded data removed]",
            "text/plain": [
              "<Figure size 502.625x360 with 1 Axes>"
            ]
          },
          "metadata": {
            "tags": [],
            "needs_background": "light"
          }
        }
      ]
    },
    {
      "cell_type": "markdown",
      "metadata": {
        "id": "-PDhzSOsXhf7"
      },
      "source": [
        "Записей, где нет городов всего 7 штук, это единичные случаи покупки в окрестностях вышеуказанных городов, ими можно пренебречь."
      ]
    },
    {
      "cell_type": "markdown",
      "metadata": {
        "id": "_yjVN83moiHM"
      },
      "source": [
        "##### Жд-вокзалы"
      ]
    },
    {
      "cell_type": "code",
      "metadata": {
        "id": "K4bzg64yK7pi",
        "colab": {
          "base_uri": "https://localhost:8080/"
        },
        "outputId": "098a2f82-2f30-40dc-bee5-52da8912ef0d"
      },
      "source": [
        "overpass_query = '''\n",
        "[out:json];\n",
        "(node[\"railway\"=\"station\"]({},{},{},{});\n",
        ");\n",
        "out body;\n",
        "'''.format(*bbox_)\n",
        "\n",
        "rails_osm = get_data_req(overpass_query)"
      ],
      "execution_count": null,
      "outputs": [
        {
          "output_type": "stream",
          "text": [
            "200\n"
          ],
          "name": "stdout"
        }
      ]
    },
    {
      "cell_type": "code",
      "metadata": {
        "id": "ZCVL2yZEhnD_",
        "colab": {
          "base_uri": "https://localhost:8080/"
        },
        "outputId": "cf4f438b-3daf-4be9-85c1-33aa89358552"
      },
      "source": [
        "rails_osm.id.nunique(), rails_osm.shape[0]"
      ],
      "execution_count": null,
      "outputs": [
        {
          "output_type": "execute_result",
          "data": {
            "text/plain": [
              "(302, 302)"
            ]
          },
          "metadata": {
            "tags": []
          },
          "execution_count": 77
        }
      ]
    },
    {
      "cell_type": "code",
      "metadata": {
        "id": "_j9T3toCHxVF",
        "colab": {
          "base_uri": "https://localhost:8080/",
          "height": 399
        },
        "outputId": "783461b4-6c76-497c-a355-77705cb0d099"
      },
      "source": [
        "scatter_plot_feature(rails_osm, \n",
        "                     'Салоны и станции поездов(не метро) в Москве')"
      ],
      "execution_count": null,
      "outputs": [
        {
          "output_type": "display_data",
          "data": {
            "image/png": "[encoded data removed]",
            "text/plain": [
              "<Figure size 412x360 with 1 Axes>"
            ]
          },
          "metadata": {
            "tags": [],
            "needs_background": "light"
          }
        }
      ]
    },
    {
      "cell_type": "code",
      "metadata": {
        "id": "MS6I11kcK8dc",
        "colab": {
          "base_uri": "https://localhost:8080/",
          "height": 252
        },
        "outputId": "dad3eba6-9913-4e1d-9dec-714c27bf7fdf"
      },
      "source": [
        "rails_osm.head(3)"
      ],
      "execution_count": null,
      "outputs": [
        {
          "output_type": "execute_result",
          "data": {
            "text/html": [
              "<div>\n",
              "<style scoped>\n",
              "    .dataframe tbody tr th:only-of-type {\n",
              "        vertical-align: middle;\n",
              "    }\n",
              "\n",
              "    .dataframe tbody tr th {\n",
              "        vertical-align: top;\n",
              "    }\n",
              "\n",
              "    .dataframe thead th {\n",
              "        text-align: right;\n",
              "    }\n",
              "</style>\n",
              "<table border=\"1\" class=\"dataframe\">\n",
              "  <thead>\n",
              "    <tr style=\"text-align: right;\">\n",
              "      <th></th>\n",
              "      <th>type</th>\n",
              "      <th>id</th>\n",
              "      <th>lat</th>\n",
              "      <th>lon</th>\n",
              "      <th>alt_name</th>\n",
              "      <th>esr:user</th>\n",
              "      <th>loc_name</th>\n",
              "      <th>loc_name:website</th>\n",
              "      <th>name</th>\n",
              "      <th>name:esr</th>\n",
              "      <th>nat_name</th>\n",
              "      <th>official_name</th>\n",
              "      <th>official_name:esr</th>\n",
              "      <th>official_name:esr:website</th>\n",
              "      <th>official_name:express-3</th>\n",
              "      <th>official_name:express-3:website</th>\n",
              "      <th>official_name:website</th>\n",
              "      <th>public_transport</th>\n",
              "      <th>railway</th>\n",
              "      <th>uic_name</th>\n",
              "      <th>uic_ref</th>\n",
              "      <th>express:user</th>\n",
              "      <th>name:en</th>\n",
              "      <th>old_name</th>\n",
              "      <th>wikidata</th>\n",
              "      <th>name:de</th>\n",
              "      <th>operator</th>\n",
              "      <th>wikipedia</th>\n",
              "      <th>colour</th>\n",
              "      <th>layer</th>\n",
              "      <th>name:be</th>\n",
              "      <th>name:ru</th>\n",
              "      <th>name:uk</th>\n",
              "      <th>network</th>\n",
              "      <th>station</th>\n",
              "      <th>subway</th>\n",
              "      <th>transport</th>\n",
              "      <th>opening_hours</th>\n",
              "      <th>train</th>\n",
              "      <th>name:fa</th>\n",
              "      <th>...</th>\n",
              "      <th>name:pl</th>\n",
              "      <th>name:pt</th>\n",
              "      <th>name:sv</th>\n",
              "      <th>alt_name:en</th>\n",
              "      <th>alt_name:uk</th>\n",
              "      <th>wikipedia:ru</th>\n",
              "      <th>start_date</th>\n",
              "      <th>name:es</th>\n",
              "      <th>name:fr</th>\n",
              "      <th>int_name</th>\n",
              "      <th>old_name:de</th>\n",
              "      <th>old_name:be</th>\n",
              "      <th>old_name:uk</th>\n",
              "      <th>name:ko</th>\n",
              "      <th>name:zh</th>\n",
              "      <th>depth</th>\n",
              "      <th>name:fi</th>\n",
              "      <th>turnstile</th>\n",
              "      <th>name:sk</th>\n",
              "      <th>addr:city</th>\n",
              "      <th>addr:street</th>\n",
              "      <th>image</th>\n",
              "      <th>internet_access</th>\n",
              "      <th>website</th>\n",
              "      <th>wheelchair:description</th>\n",
              "      <th>name:da</th>\n",
              "      <th>name:et</th>\n",
              "      <th>name:hu</th>\n",
              "      <th>name:no</th>\n",
              "      <th>official_status</th>\n",
              "      <th>name:bg</th>\n",
              "      <th>ticket_office</th>\n",
              "      <th>name:eo</th>\n",
              "      <th>disused:station</th>\n",
              "      <th>description</th>\n",
              "      <th>name:tr</th>\n",
              "      <th>location</th>\n",
              "      <th>fixme</th>\n",
              "      <th>name:nl</th>\n",
              "      <th>toilets:wheelchair</th>\n",
              "    </tr>\n",
              "  </thead>\n",
              "  <tbody>\n",
              "    <tr>\n",
              "      <th>0</th>\n",
              "      <td>node</td>\n",
              "      <td>26999673</td>\n",
              "      <td>55.778834</td>\n",
              "      <td>37.653721</td>\n",
              "      <td>Москва-Октябрьская</td>\n",
              "      <td>060073</td>\n",
              "      <td>Москва-Ленинградская</td>\n",
              "      <td>http://www.tutu.ru/station.php?nnst=79310</td>\n",
              "      <td>Москва-Пассажирская</td>\n",
              "      <td>Москва-Пассажирская</td>\n",
              "      <td>Москва</td>\n",
              "      <td>Москва-Пассажирская</td>\n",
              "      <td>Москва-Пассажирская</td>\n",
              "      <td>http://cargo.rzd.ru/cargostation/public/ru?STR...</td>\n",
              "      <td>Москва-Октябрьская</td>\n",
              "      <td>http://bilet.ru/rus/TrainDirectory.htm?firstsy...</td>\n",
              "      <td>http://pass.rzd.ru/timetable/public/ru?STRUCTU...</td>\n",
              "      <td>station</td>\n",
              "      <td>station</td>\n",
              "      <td>Moskva Oktiabrskaia</td>\n",
              "      <td>2006004</td>\n",
              "      <td>NaN</td>\n",
              "      <td>NaN</td>\n",
              "      <td>NaN</td>\n",
              "      <td>NaN</td>\n",
              "      <td>NaN</td>\n",
              "      <td>NaN</td>\n",
              "      <td>NaN</td>\n",
              "      <td>NaN</td>\n",
              "      <td>NaN</td>\n",
              "      <td>NaN</td>\n",
              "      <td>NaN</td>\n",
              "      <td>NaN</td>\n",
              "      <td>NaN</td>\n",
              "      <td>NaN</td>\n",
              "      <td>NaN</td>\n",
              "      <td>NaN</td>\n",
              "      <td>NaN</td>\n",
              "      <td>NaN</td>\n",
              "      <td>NaN</td>\n",
              "      <td>...</td>\n",
              "      <td>NaN</td>\n",
              "      <td>NaN</td>\n",
              "      <td>NaN</td>\n",
              "      <td>NaN</td>\n",
              "      <td>NaN</td>\n",
              "      <td>NaN</td>\n",
              "      <td>NaN</td>\n",
              "      <td>NaN</td>\n",
              "      <td>NaN</td>\n",
              "      <td>NaN</td>\n",
              "      <td>NaN</td>\n",
              "      <td>NaN</td>\n",
              "      <td>NaN</td>\n",
              "      <td>NaN</td>\n",
              "      <td>NaN</td>\n",
              "      <td>NaN</td>\n",
              "      <td>NaN</td>\n",
              "      <td>NaN</td>\n",
              "      <td>NaN</td>\n",
              "      <td>NaN</td>\n",
              "      <td>NaN</td>\n",
              "      <td>NaN</td>\n",
              "      <td>NaN</td>\n",
              "      <td>NaN</td>\n",
              "      <td>NaN</td>\n",
              "      <td>NaN</td>\n",
              "      <td>NaN</td>\n",
              "      <td>NaN</td>\n",
              "      <td>NaN</td>\n",
              "      <td>NaN</td>\n",
              "      <td>NaN</td>\n",
              "      <td>NaN</td>\n",
              "      <td>NaN</td>\n",
              "      <td>NaN</td>\n",
              "      <td>NaN</td>\n",
              "      <td>NaN</td>\n",
              "      <td>NaN</td>\n",
              "      <td>NaN</td>\n",
              "      <td>NaN</td>\n",
              "      <td>NaN</td>\n",
              "    </tr>\n",
              "    <tr>\n",
              "      <th>1</th>\n",
              "      <td>node</td>\n",
              "      <td>31447943</td>\n",
              "      <td>55.726797</td>\n",
              "      <td>37.450384</td>\n",
              "      <td>Кунцево</td>\n",
              "      <td>181704</td>\n",
              "      <td>NaN</td>\n",
              "      <td>NaN</td>\n",
              "      <td>Кунцевская</td>\n",
              "      <td>NaN</td>\n",
              "      <td>NaN</td>\n",
              "      <td>NaN</td>\n",
              "      <td>NaN</td>\n",
              "      <td>NaN</td>\n",
              "      <td>NaN</td>\n",
              "      <td>NaN</td>\n",
              "      <td>NaN</td>\n",
              "      <td>station</td>\n",
              "      <td>station</td>\n",
              "      <td>NaN</td>\n",
              "      <td>2001140</td>\n",
              "      <td>2001140</td>\n",
              "      <td>Kuntsevskaya</td>\n",
              "      <td>Кунцево I</td>\n",
              "      <td>Q4247313</td>\n",
              "      <td>NaN</td>\n",
              "      <td>NaN</td>\n",
              "      <td>NaN</td>\n",
              "      <td>NaN</td>\n",
              "      <td>NaN</td>\n",
              "      <td>NaN</td>\n",
              "      <td>NaN</td>\n",
              "      <td>NaN</td>\n",
              "      <td>NaN</td>\n",
              "      <td>NaN</td>\n",
              "      <td>NaN</td>\n",
              "      <td>NaN</td>\n",
              "      <td>NaN</td>\n",
              "      <td>NaN</td>\n",
              "      <td>NaN</td>\n",
              "      <td>...</td>\n",
              "      <td>NaN</td>\n",
              "      <td>NaN</td>\n",
              "      <td>NaN</td>\n",
              "      <td>NaN</td>\n",
              "      <td>NaN</td>\n",
              "      <td>NaN</td>\n",
              "      <td>NaN</td>\n",
              "      <td>NaN</td>\n",
              "      <td>NaN</td>\n",
              "      <td>NaN</td>\n",
              "      <td>NaN</td>\n",
              "      <td>NaN</td>\n",
              "      <td>NaN</td>\n",
              "      <td>NaN</td>\n",
              "      <td>NaN</td>\n",
              "      <td>NaN</td>\n",
              "      <td>NaN</td>\n",
              "      <td>NaN</td>\n",
              "      <td>NaN</td>\n",
              "      <td>NaN</td>\n",
              "      <td>NaN</td>\n",
              "      <td>NaN</td>\n",
              "      <td>NaN</td>\n",
              "      <td>NaN</td>\n",
              "      <td>NaN</td>\n",
              "      <td>NaN</td>\n",
              "      <td>NaN</td>\n",
              "      <td>NaN</td>\n",
              "      <td>NaN</td>\n",
              "      <td>NaN</td>\n",
              "      <td>NaN</td>\n",
              "      <td>NaN</td>\n",
              "      <td>NaN</td>\n",
              "      <td>NaN</td>\n",
              "      <td>NaN</td>\n",
              "      <td>NaN</td>\n",
              "      <td>NaN</td>\n",
              "      <td>NaN</td>\n",
              "      <td>NaN</td>\n",
              "      <td>NaN</td>\n",
              "    </tr>\n",
              "    <tr>\n",
              "      <th>2</th>\n",
              "      <td>node</td>\n",
              "      <td>54626031</td>\n",
              "      <td>55.806746</td>\n",
              "      <td>37.745942</td>\n",
              "      <td>NaN</td>\n",
              "      <td>199208</td>\n",
              "      <td>NaN</td>\n",
              "      <td>NaN</td>\n",
              "      <td>Черкизово</td>\n",
              "      <td>NaN</td>\n",
              "      <td>NaN</td>\n",
              "      <td>NaN</td>\n",
              "      <td>NaN</td>\n",
              "      <td>NaN</td>\n",
              "      <td>NaN</td>\n",
              "      <td>NaN</td>\n",
              "      <td>NaN</td>\n",
              "      <td>NaN</td>\n",
              "      <td>station</td>\n",
              "      <td>NaN</td>\n",
              "      <td>NaN</td>\n",
              "      <td>NaN</td>\n",
              "      <td>NaN</td>\n",
              "      <td>NaN</td>\n",
              "      <td>Q26849010</td>\n",
              "      <td>Tscherkisowo</td>\n",
              "      <td>ОАО «РЖД»</td>\n",
              "      <td>ru:Черкизово (станция)</td>\n",
              "      <td>NaN</td>\n",
              "      <td>NaN</td>\n",
              "      <td>NaN</td>\n",
              "      <td>NaN</td>\n",
              "      <td>NaN</td>\n",
              "      <td>NaN</td>\n",
              "      <td>NaN</td>\n",
              "      <td>NaN</td>\n",
              "      <td>NaN</td>\n",
              "      <td>NaN</td>\n",
              "      <td>NaN</td>\n",
              "      <td>NaN</td>\n",
              "      <td>...</td>\n",
              "      <td>NaN</td>\n",
              "      <td>NaN</td>\n",
              "      <td>NaN</td>\n",
              "      <td>NaN</td>\n",
              "      <td>NaN</td>\n",
              "      <td>NaN</td>\n",
              "      <td>NaN</td>\n",
              "      <td>NaN</td>\n",
              "      <td>NaN</td>\n",
              "      <td>NaN</td>\n",
              "      <td>NaN</td>\n",
              "      <td>NaN</td>\n",
              "      <td>NaN</td>\n",
              "      <td>NaN</td>\n",
              "      <td>NaN</td>\n",
              "      <td>NaN</td>\n",
              "      <td>NaN</td>\n",
              "      <td>NaN</td>\n",
              "      <td>NaN</td>\n",
              "      <td>NaN</td>\n",
              "      <td>NaN</td>\n",
              "      <td>NaN</td>\n",
              "      <td>NaN</td>\n",
              "      <td>NaN</td>\n",
              "      <td>NaN</td>\n",
              "      <td>NaN</td>\n",
              "      <td>NaN</td>\n",
              "      <td>NaN</td>\n",
              "      <td>NaN</td>\n",
              "      <td>NaN</td>\n",
              "      <td>NaN</td>\n",
              "      <td>NaN</td>\n",
              "      <td>NaN</td>\n",
              "      <td>NaN</td>\n",
              "      <td>NaN</td>\n",
              "      <td>NaN</td>\n",
              "      <td>NaN</td>\n",
              "      <td>NaN</td>\n",
              "      <td>NaN</td>\n",
              "      <td>NaN</td>\n",
              "    </tr>\n",
              "  </tbody>\n",
              "</table>\n",
              "<p>3 rows × 85 columns</p>\n",
              "</div>"
            ],
            "text/plain": [
              "   type        id        lat  ...  fixme name:nl toilets:wheelchair\n",
              "0  node  26999673  55.778834  ...    NaN     NaN                NaN\n",
              "1  node  31447943  55.726797  ...    NaN     NaN                NaN\n",
              "2  node  54626031  55.806746  ...    NaN     NaN                NaN\n",
              "\n",
              "[3 rows x 85 columns]"
            ]
          },
          "metadata": {
            "tags": []
          },
          "execution_count": 79
        }
      ]
    },
    {
      "cell_type": "code",
      "metadata": {
        "id": "6LynFzvuelpf"
      },
      "source": [
        "dist_nearest_new_feature('dist_to_station', rails_osm[rails_osm.train == 'yes'],\n",
        "                         geo_train)\n",
        "\n",
        "k_nearest_new_feature('k_stations', rails_osm,\n",
        "                         geo_train)"
      ],
      "execution_count": null,
      "outputs": []
    },
    {
      "cell_type": "markdown",
      "metadata": {
        "id": "CBnEeqiuAKib"
      },
      "source": [
        "##### Узлы транспорта"
      ]
    },
    {
      "cell_type": "code",
      "metadata": {
        "id": "_DYlS9sWDXYl",
        "colab": {
          "base_uri": "https://localhost:8080/"
        },
        "outputId": "7246e57f-14e3-409a-b275-6ac9eb127ef5"
      },
      "source": [
        "overpass_url = \"http://overpass-api.de/api/interpreter\"\n",
        "\n",
        "overpass_query2 = '''\n",
        "[out:json];\n",
        "(node[\"public_transport\"= \"platform\"]({},{},{},{});\n",
        ");\n",
        "out body;\n",
        "'''.format(*bbox_)\n",
        "\n",
        "platforms_osm  = get_data_req(overpass_query2)"
      ],
      "execution_count": null,
      "outputs": [
        {
          "output_type": "stream",
          "text": [
            "200\n"
          ],
          "name": "stdout"
        }
      ]
    },
    {
      "cell_type": "code",
      "metadata": {
        "id": "dqxUsCZnD6E7",
        "colab": {
          "base_uri": "https://localhost:8080/",
          "height": 328
        },
        "outputId": "185bd820-af90-4f52-c6f4-7ce98fbb21fb"
      },
      "source": [
        "platforms_osm.head()"
      ],
      "execution_count": null,
      "outputs": [
        {
          "output_type": "execute_result",
          "data": {
            "text/html": [
              "<div>\n",
              "<style scoped>\n",
              "    .dataframe tbody tr th:only-of-type {\n",
              "        vertical-align: middle;\n",
              "    }\n",
              "\n",
              "    .dataframe tbody tr th {\n",
              "        vertical-align: top;\n",
              "    }\n",
              "\n",
              "    .dataframe thead th {\n",
              "        text-align: right;\n",
              "    }\n",
              "</style>\n",
              "<table border=\"1\" class=\"dataframe\">\n",
              "  <thead>\n",
              "    <tr style=\"text-align: right;\">\n",
              "      <th></th>\n",
              "      <th>type</th>\n",
              "      <th>id</th>\n",
              "      <th>lat</th>\n",
              "      <th>lon</th>\n",
              "      <th>name</th>\n",
              "      <th>public_transport</th>\n",
              "      <th>highway</th>\n",
              "      <th>old_name</th>\n",
              "      <th>bus</th>\n",
              "      <th>bench</th>\n",
              "      <th>bin</th>\n",
              "      <th>shelter</th>\n",
              "      <th>source</th>\n",
              "      <th>trolleybus</th>\n",
              "      <th>tactile_paving</th>\n",
              "      <th>check_date:shelter</th>\n",
              "      <th>alt_name</th>\n",
              "      <th>operator</th>\n",
              "      <th>route_ref</th>\n",
              "      <th>covered</th>\n",
              "      <th>name:en</th>\n",
              "      <th>name:be</th>\n",
              "      <th>name:ru</th>\n",
              "      <th>ref</th>\n",
              "      <th>note</th>\n",
              "      <th>fixme</th>\n",
              "      <th>wheelchair</th>\n",
              "      <th>lit</th>\n",
              "      <th>passenger_information_display</th>\n",
              "      <th>description</th>\n",
              "      <th>bus_stop:side</th>\n",
              "      <th>tram</th>\n",
              "      <th>share_taxi</th>\n",
              "      <th>transport_stop</th>\n",
              "      <th>route_ref:trolleybus</th>\n",
              "      <th>departures_board</th>\n",
              "      <th>network</th>\n",
              "      <th>start_date</th>\n",
              "      <th>survey:date</th>\n",
              "      <th>website</th>\n",
              "      <th>...</th>\n",
              "      <th>old_name2</th>\n",
              "      <th>layer</th>\n",
              "      <th>thermometer</th>\n",
              "      <th>source:location</th>\n",
              "      <th>name:fr</th>\n",
              "      <th>name:it</th>\n",
              "      <th>office</th>\n",
              "      <th>check_date:tactile_paving</th>\n",
              "      <th>image</th>\n",
              "      <th>esr:user</th>\n",
              "      <th>express:user</th>\n",
              "      <th>disused</th>\n",
              "      <th>kerb</th>\n",
              "      <th>shelter_type:source</th>\n",
              "      <th>passengers</th>\n",
              "      <th>bus_num</th>\n",
              "      <th>name:lt</th>\n",
              "      <th>wheelchair:description</th>\n",
              "      <th>bus_stop:category</th>\n",
              "      <th>illegal</th>\n",
              "      <th>note:photos</th>\n",
              "      <th>full_name</th>\n",
              "      <th>wikipedia</th>\n",
              "      <th>addr:postcode</th>\n",
              "      <th>construction</th>\n",
              "      <th>survey</th>\n",
              "      <th>name:cv</th>\n",
              "      <th>name:mn</th>\n",
              "      <th>name:my</th>\n",
              "      <th>access</th>\n",
              "      <th>fee</th>\n",
              "      <th>socket:device:USB-A</th>\n",
              "      <th>railway</th>\n",
              "      <th>nat_name</th>\n",
              "      <th>operator:contact:phone</th>\n",
              "      <th>addr:housenumber</th>\n",
              "      <th>ferry</th>\n",
              "      <th>depth</th>\n",
              "      <th>bus_routes</th>\n",
              "      <th>name:signed</th>\n",
              "    </tr>\n",
              "  </thead>\n",
              "  <tbody>\n",
              "    <tr>\n",
              "      <th>0</th>\n",
              "      <td>node</td>\n",
              "      <td>60665302</td>\n",
              "      <td>55.829403</td>\n",
              "      <td>37.766592</td>\n",
              "      <td>Метрогородок</td>\n",
              "      <td>platform</td>\n",
              "      <td>NaN</td>\n",
              "      <td>NaN</td>\n",
              "      <td>NaN</td>\n",
              "      <td>NaN</td>\n",
              "      <td>NaN</td>\n",
              "      <td>NaN</td>\n",
              "      <td>NaN</td>\n",
              "      <td>NaN</td>\n",
              "      <td>NaN</td>\n",
              "      <td>NaN</td>\n",
              "      <td>NaN</td>\n",
              "      <td>NaN</td>\n",
              "      <td>NaN</td>\n",
              "      <td>NaN</td>\n",
              "      <td>NaN</td>\n",
              "      <td>NaN</td>\n",
              "      <td>NaN</td>\n",
              "      <td>NaN</td>\n",
              "      <td>NaN</td>\n",
              "      <td>NaN</td>\n",
              "      <td>NaN</td>\n",
              "      <td>NaN</td>\n",
              "      <td>NaN</td>\n",
              "      <td>NaN</td>\n",
              "      <td>NaN</td>\n",
              "      <td>NaN</td>\n",
              "      <td>NaN</td>\n",
              "      <td>NaN</td>\n",
              "      <td>NaN</td>\n",
              "      <td>NaN</td>\n",
              "      <td>NaN</td>\n",
              "      <td>NaN</td>\n",
              "      <td>NaN</td>\n",
              "      <td>NaN</td>\n",
              "      <td>...</td>\n",
              "      <td>NaN</td>\n",
              "      <td>NaN</td>\n",
              "      <td>NaN</td>\n",
              "      <td>NaN</td>\n",
              "      <td>NaN</td>\n",
              "      <td>NaN</td>\n",
              "      <td>NaN</td>\n",
              "      <td>NaN</td>\n",
              "      <td>NaN</td>\n",
              "      <td>NaN</td>\n",
              "      <td>NaN</td>\n",
              "      <td>NaN</td>\n",
              "      <td>NaN</td>\n",
              "      <td>NaN</td>\n",
              "      <td>NaN</td>\n",
              "      <td>NaN</td>\n",
              "      <td>NaN</td>\n",
              "      <td>NaN</td>\n",
              "      <td>NaN</td>\n",
              "      <td>NaN</td>\n",
              "      <td>NaN</td>\n",
              "      <td>NaN</td>\n",
              "      <td>NaN</td>\n",
              "      <td>NaN</td>\n",
              "      <td>NaN</td>\n",
              "      <td>NaN</td>\n",
              "      <td>NaN</td>\n",
              "      <td>NaN</td>\n",
              "      <td>NaN</td>\n",
              "      <td>NaN</td>\n",
              "      <td>NaN</td>\n",
              "      <td>NaN</td>\n",
              "      <td>NaN</td>\n",
              "      <td>NaN</td>\n",
              "      <td>NaN</td>\n",
              "      <td>NaN</td>\n",
              "      <td>NaN</td>\n",
              "      <td>NaN</td>\n",
              "      <td>NaN</td>\n",
              "      <td>NaN</td>\n",
              "    </tr>\n",
              "    <tr>\n",
              "      <th>1</th>\n",
              "      <td>node</td>\n",
              "      <td>87761966</td>\n",
              "      <td>55.694214</td>\n",
              "      <td>37.424640</td>\n",
              "      <td>Рябиновая улица, 51</td>\n",
              "      <td>platform</td>\n",
              "      <td>bus_stop</td>\n",
              "      <td>Молокозавод</td>\n",
              "      <td>NaN</td>\n",
              "      <td>NaN</td>\n",
              "      <td>NaN</td>\n",
              "      <td>NaN</td>\n",
              "      <td>NaN</td>\n",
              "      <td>NaN</td>\n",
              "      <td>NaN</td>\n",
              "      <td>NaN</td>\n",
              "      <td>NaN</td>\n",
              "      <td>NaN</td>\n",
              "      <td>NaN</td>\n",
              "      <td>NaN</td>\n",
              "      <td>NaN</td>\n",
              "      <td>NaN</td>\n",
              "      <td>NaN</td>\n",
              "      <td>NaN</td>\n",
              "      <td>NaN</td>\n",
              "      <td>NaN</td>\n",
              "      <td>NaN</td>\n",
              "      <td>NaN</td>\n",
              "      <td>NaN</td>\n",
              "      <td>NaN</td>\n",
              "      <td>NaN</td>\n",
              "      <td>NaN</td>\n",
              "      <td>NaN</td>\n",
              "      <td>NaN</td>\n",
              "      <td>NaN</td>\n",
              "      <td>NaN</td>\n",
              "      <td>NaN</td>\n",
              "      <td>NaN</td>\n",
              "      <td>NaN</td>\n",
              "      <td>NaN</td>\n",
              "      <td>...</td>\n",
              "      <td>NaN</td>\n",
              "      <td>NaN</td>\n",
              "      <td>NaN</td>\n",
              "      <td>NaN</td>\n",
              "      <td>NaN</td>\n",
              "      <td>NaN</td>\n",
              "      <td>NaN</td>\n",
              "      <td>NaN</td>\n",
              "      <td>NaN</td>\n",
              "      <td>NaN</td>\n",
              "      <td>NaN</td>\n",
              "      <td>NaN</td>\n",
              "      <td>NaN</td>\n",
              "      <td>NaN</td>\n",
              "      <td>NaN</td>\n",
              "      <td>NaN</td>\n",
              "      <td>NaN</td>\n",
              "      <td>NaN</td>\n",
              "      <td>NaN</td>\n",
              "      <td>NaN</td>\n",
              "      <td>NaN</td>\n",
              "      <td>NaN</td>\n",
              "      <td>NaN</td>\n",
              "      <td>NaN</td>\n",
              "      <td>NaN</td>\n",
              "      <td>NaN</td>\n",
              "      <td>NaN</td>\n",
              "      <td>NaN</td>\n",
              "      <td>NaN</td>\n",
              "      <td>NaN</td>\n",
              "      <td>NaN</td>\n",
              "      <td>NaN</td>\n",
              "      <td>NaN</td>\n",
              "      <td>NaN</td>\n",
              "      <td>NaN</td>\n",
              "      <td>NaN</td>\n",
              "      <td>NaN</td>\n",
              "      <td>NaN</td>\n",
              "      <td>NaN</td>\n",
              "      <td>NaN</td>\n",
              "    </tr>\n",
              "    <tr>\n",
              "      <th>2</th>\n",
              "      <td>node</td>\n",
              "      <td>250559783</td>\n",
              "      <td>55.807910</td>\n",
              "      <td>37.418439</td>\n",
              "      <td>Аллея \"Дорога Жизни\"</td>\n",
              "      <td>platform</td>\n",
              "      <td>bus_stop</td>\n",
              "      <td>NaN</td>\n",
              "      <td>yes</td>\n",
              "      <td>NaN</td>\n",
              "      <td>NaN</td>\n",
              "      <td>NaN</td>\n",
              "      <td>NaN</td>\n",
              "      <td>NaN</td>\n",
              "      <td>NaN</td>\n",
              "      <td>NaN</td>\n",
              "      <td>NaN</td>\n",
              "      <td>NaN</td>\n",
              "      <td>NaN</td>\n",
              "      <td>NaN</td>\n",
              "      <td>NaN</td>\n",
              "      <td>NaN</td>\n",
              "      <td>NaN</td>\n",
              "      <td>NaN</td>\n",
              "      <td>NaN</td>\n",
              "      <td>NaN</td>\n",
              "      <td>NaN</td>\n",
              "      <td>NaN</td>\n",
              "      <td>NaN</td>\n",
              "      <td>NaN</td>\n",
              "      <td>NaN</td>\n",
              "      <td>NaN</td>\n",
              "      <td>NaN</td>\n",
              "      <td>NaN</td>\n",
              "      <td>NaN</td>\n",
              "      <td>NaN</td>\n",
              "      <td>NaN</td>\n",
              "      <td>NaN</td>\n",
              "      <td>NaN</td>\n",
              "      <td>NaN</td>\n",
              "      <td>...</td>\n",
              "      <td>NaN</td>\n",
              "      <td>NaN</td>\n",
              "      <td>NaN</td>\n",
              "      <td>NaN</td>\n",
              "      <td>NaN</td>\n",
              "      <td>NaN</td>\n",
              "      <td>NaN</td>\n",
              "      <td>NaN</td>\n",
              "      <td>NaN</td>\n",
              "      <td>NaN</td>\n",
              "      <td>NaN</td>\n",
              "      <td>NaN</td>\n",
              "      <td>NaN</td>\n",
              "      <td>NaN</td>\n",
              "      <td>NaN</td>\n",
              "      <td>NaN</td>\n",
              "      <td>NaN</td>\n",
              "      <td>NaN</td>\n",
              "      <td>NaN</td>\n",
              "      <td>NaN</td>\n",
              "      <td>NaN</td>\n",
              "      <td>NaN</td>\n",
              "      <td>NaN</td>\n",
              "      <td>NaN</td>\n",
              "      <td>NaN</td>\n",
              "      <td>NaN</td>\n",
              "      <td>NaN</td>\n",
              "      <td>NaN</td>\n",
              "      <td>NaN</td>\n",
              "      <td>NaN</td>\n",
              "      <td>NaN</td>\n",
              "      <td>NaN</td>\n",
              "      <td>NaN</td>\n",
              "      <td>NaN</td>\n",
              "      <td>NaN</td>\n",
              "      <td>NaN</td>\n",
              "      <td>NaN</td>\n",
              "      <td>NaN</td>\n",
              "      <td>NaN</td>\n",
              "      <td>NaN</td>\n",
              "    </tr>\n",
              "    <tr>\n",
              "      <th>3</th>\n",
              "      <td>node</td>\n",
              "      <td>252899807</td>\n",
              "      <td>55.731781</td>\n",
              "      <td>37.664659</td>\n",
              "      <td>Метро \"Пролетарская\"</td>\n",
              "      <td>platform</td>\n",
              "      <td>bus_stop</td>\n",
              "      <td>NaN</td>\n",
              "      <td>yes</td>\n",
              "      <td>yes</td>\n",
              "      <td>yes</td>\n",
              "      <td>yes</td>\n",
              "      <td>yandex panorams;bing</td>\n",
              "      <td>NaN</td>\n",
              "      <td>NaN</td>\n",
              "      <td>NaN</td>\n",
              "      <td>NaN</td>\n",
              "      <td>NaN</td>\n",
              "      <td>NaN</td>\n",
              "      <td>NaN</td>\n",
              "      <td>NaN</td>\n",
              "      <td>NaN</td>\n",
              "      <td>NaN</td>\n",
              "      <td>NaN</td>\n",
              "      <td>NaN</td>\n",
              "      <td>NaN</td>\n",
              "      <td>NaN</td>\n",
              "      <td>NaN</td>\n",
              "      <td>NaN</td>\n",
              "      <td>NaN</td>\n",
              "      <td>NaN</td>\n",
              "      <td>NaN</td>\n",
              "      <td>NaN</td>\n",
              "      <td>NaN</td>\n",
              "      <td>NaN</td>\n",
              "      <td>NaN</td>\n",
              "      <td>NaN</td>\n",
              "      <td>NaN</td>\n",
              "      <td>NaN</td>\n",
              "      <td>NaN</td>\n",
              "      <td>...</td>\n",
              "      <td>NaN</td>\n",
              "      <td>NaN</td>\n",
              "      <td>NaN</td>\n",
              "      <td>NaN</td>\n",
              "      <td>NaN</td>\n",
              "      <td>NaN</td>\n",
              "      <td>NaN</td>\n",
              "      <td>NaN</td>\n",
              "      <td>NaN</td>\n",
              "      <td>NaN</td>\n",
              "      <td>NaN</td>\n",
              "      <td>NaN</td>\n",
              "      <td>NaN</td>\n",
              "      <td>NaN</td>\n",
              "      <td>NaN</td>\n",
              "      <td>NaN</td>\n",
              "      <td>NaN</td>\n",
              "      <td>NaN</td>\n",
              "      <td>NaN</td>\n",
              "      <td>NaN</td>\n",
              "      <td>NaN</td>\n",
              "      <td>NaN</td>\n",
              "      <td>NaN</td>\n",
              "      <td>NaN</td>\n",
              "      <td>NaN</td>\n",
              "      <td>NaN</td>\n",
              "      <td>NaN</td>\n",
              "      <td>NaN</td>\n",
              "      <td>NaN</td>\n",
              "      <td>NaN</td>\n",
              "      <td>NaN</td>\n",
              "      <td>NaN</td>\n",
              "      <td>NaN</td>\n",
              "      <td>NaN</td>\n",
              "      <td>NaN</td>\n",
              "      <td>NaN</td>\n",
              "      <td>NaN</td>\n",
              "      <td>NaN</td>\n",
              "      <td>NaN</td>\n",
              "      <td>NaN</td>\n",
              "    </tr>\n",
              "    <tr>\n",
              "      <th>4</th>\n",
              "      <td>node</td>\n",
              "      <td>254393857</td>\n",
              "      <td>55.735781</td>\n",
              "      <td>37.656572</td>\n",
              "      <td>Улица Гвоздева</td>\n",
              "      <td>platform</td>\n",
              "      <td>bus_stop</td>\n",
              "      <td>NaN</td>\n",
              "      <td>yes</td>\n",
              "      <td>yes</td>\n",
              "      <td>NaN</td>\n",
              "      <td>yes</td>\n",
              "      <td>bing; yandex panorams</td>\n",
              "      <td>NaN</td>\n",
              "      <td>NaN</td>\n",
              "      <td>NaN</td>\n",
              "      <td>NaN</td>\n",
              "      <td>NaN</td>\n",
              "      <td>NaN</td>\n",
              "      <td>NaN</td>\n",
              "      <td>NaN</td>\n",
              "      <td>NaN</td>\n",
              "      <td>NaN</td>\n",
              "      <td>NaN</td>\n",
              "      <td>NaN</td>\n",
              "      <td>NaN</td>\n",
              "      <td>NaN</td>\n",
              "      <td>NaN</td>\n",
              "      <td>NaN</td>\n",
              "      <td>NaN</td>\n",
              "      <td>NaN</td>\n",
              "      <td>NaN</td>\n",
              "      <td>NaN</td>\n",
              "      <td>NaN</td>\n",
              "      <td>NaN</td>\n",
              "      <td>NaN</td>\n",
              "      <td>NaN</td>\n",
              "      <td>NaN</td>\n",
              "      <td>NaN</td>\n",
              "      <td>NaN</td>\n",
              "      <td>...</td>\n",
              "      <td>NaN</td>\n",
              "      <td>NaN</td>\n",
              "      <td>NaN</td>\n",
              "      <td>NaN</td>\n",
              "      <td>NaN</td>\n",
              "      <td>NaN</td>\n",
              "      <td>NaN</td>\n",
              "      <td>NaN</td>\n",
              "      <td>NaN</td>\n",
              "      <td>NaN</td>\n",
              "      <td>NaN</td>\n",
              "      <td>NaN</td>\n",
              "      <td>NaN</td>\n",
              "      <td>NaN</td>\n",
              "      <td>NaN</td>\n",
              "      <td>NaN</td>\n",
              "      <td>NaN</td>\n",
              "      <td>NaN</td>\n",
              "      <td>NaN</td>\n",
              "      <td>NaN</td>\n",
              "      <td>NaN</td>\n",
              "      <td>NaN</td>\n",
              "      <td>NaN</td>\n",
              "      <td>NaN</td>\n",
              "      <td>NaN</td>\n",
              "      <td>NaN</td>\n",
              "      <td>NaN</td>\n",
              "      <td>NaN</td>\n",
              "      <td>NaN</td>\n",
              "      <td>NaN</td>\n",
              "      <td>NaN</td>\n",
              "      <td>NaN</td>\n",
              "      <td>NaN</td>\n",
              "      <td>NaN</td>\n",
              "      <td>NaN</td>\n",
              "      <td>NaN</td>\n",
              "      <td>NaN</td>\n",
              "      <td>NaN</td>\n",
              "      <td>NaN</td>\n",
              "      <td>NaN</td>\n",
              "    </tr>\n",
              "  </tbody>\n",
              "</table>\n",
              "<p>5 rows × 118 columns</p>\n",
              "</div>"
            ],
            "text/plain": [
              "   type         id        lat        lon  ... ferry depth bus_routes name:signed\n",
              "0  node   60665302  55.829403  37.766592  ...   NaN   NaN        NaN         NaN\n",
              "1  node   87761966  55.694214  37.424640  ...   NaN   NaN        NaN         NaN\n",
              "2  node  250559783  55.807910  37.418439  ...   NaN   NaN        NaN         NaN\n",
              "3  node  252899807  55.731781  37.664659  ...   NaN   NaN        NaN         NaN\n",
              "4  node  254393857  55.735781  37.656572  ...   NaN   NaN        NaN         NaN\n",
              "\n",
              "[5 rows x 118 columns]"
            ]
          },
          "metadata": {
            "tags": []
          },
          "execution_count": 82
        }
      ]
    },
    {
      "cell_type": "code",
      "metadata": {
        "id": "x_ZCi7VxICOu",
        "colab": {
          "base_uri": "https://localhost:8080/",
          "height": 399
        },
        "outputId": "56dc1c1d-0e31-46c5-ef62-383c3abf535d"
      },
      "source": [
        "scatter_plot_feature(platforms_osm, 'Салоны и станции (транспортные узлы) в Москве')"
      ],
      "execution_count": null,
      "outputs": [
        {
          "output_type": "display_data",
          "data": {
            "image/png": "[encoded data removed]",
            "text/plain": [
              "<Figure size 412x360 with 1 Axes>"
            ]
          },
          "metadata": {
            "tags": [],
            "needs_background": "light"
          }
        }
      ]
    },
    {
      "cell_type": "code",
      "metadata": {
        "id": "-Sykw5bFibVj"
      },
      "source": [
        "k_nearest_new_feature('platforms', platforms_osm, geo_train)"
      ],
      "execution_count": null,
      "outputs": []
    },
    {
      "cell_type": "code",
      "metadata": {
        "id": "dfr66WWolanS",
        "colab": {
          "base_uri": "https://localhost:8080/",
          "height": 223
        },
        "outputId": "ed3b91fa-6496-4dbf-9d35-60e39ddaac5b"
      },
      "source": [
        "geo_train[geo_train.city == 'Москва'].corr()"
      ],
      "execution_count": null,
      "outputs": [
        {
          "output_type": "execute_result",
          "data": {
            "text/html": [
              "<div>\n",
              "<style scoped>\n",
              "    .dataframe tbody tr th:only-of-type {\n",
              "        vertical-align: middle;\n",
              "    }\n",
              "\n",
              "    .dataframe tbody tr th {\n",
              "        vertical-align: top;\n",
              "    }\n",
              "\n",
              "    .dataframe thead th {\n",
              "        text-align: right;\n",
              "    }\n",
              "</style>\n",
              "<table border=\"1\" class=\"dataframe\">\n",
              "  <thead>\n",
              "    <tr style=\"text-align: right;\">\n",
              "      <th></th>\n",
              "      <th>lon</th>\n",
              "      <th>lat</th>\n",
              "      <th>target</th>\n",
              "      <th>dist_to_station</th>\n",
              "      <th>k_stations</th>\n",
              "      <th>platforms</th>\n",
              "    </tr>\n",
              "  </thead>\n",
              "  <tbody>\n",
              "    <tr>\n",
              "      <th>lon</th>\n",
              "      <td>1.000000</td>\n",
              "      <td>0.009057</td>\n",
              "      <td>-0.075638</td>\n",
              "      <td>0.010688</td>\n",
              "      <td>0.102399</td>\n",
              "      <td>0.366136</td>\n",
              "    </tr>\n",
              "    <tr>\n",
              "      <th>lat</th>\n",
              "      <td>0.009057</td>\n",
              "      <td>1.000000</td>\n",
              "      <td>0.007297</td>\n",
              "      <td>-0.098027</td>\n",
              "      <td>0.142740</td>\n",
              "      <td>0.079442</td>\n",
              "    </tr>\n",
              "    <tr>\n",
              "      <th>target</th>\n",
              "      <td>-0.075638</td>\n",
              "      <td>0.007297</td>\n",
              "      <td>1.000000</td>\n",
              "      <td>0.044637</td>\n",
              "      <td>0.087034</td>\n",
              "      <td>0.057820</td>\n",
              "    </tr>\n",
              "    <tr>\n",
              "      <th>dist_to_station</th>\n",
              "      <td>0.010688</td>\n",
              "      <td>-0.098027</td>\n",
              "      <td>0.044637</td>\n",
              "      <td>1.000000</td>\n",
              "      <td>-0.037852</td>\n",
              "      <td>0.005536</td>\n",
              "    </tr>\n",
              "    <tr>\n",
              "      <th>k_stations</th>\n",
              "      <td>0.102399</td>\n",
              "      <td>0.142740</td>\n",
              "      <td>0.087034</td>\n",
              "      <td>-0.037852</td>\n",
              "      <td>1.000000</td>\n",
              "      <td>0.173354</td>\n",
              "    </tr>\n",
              "    <tr>\n",
              "      <th>platforms</th>\n",
              "      <td>0.366136</td>\n",
              "      <td>0.079442</td>\n",
              "      <td>0.057820</td>\n",
              "      <td>0.005536</td>\n",
              "      <td>0.173354</td>\n",
              "      <td>1.000000</td>\n",
              "    </tr>\n",
              "  </tbody>\n",
              "</table>\n",
              "</div>"
            ],
            "text/plain": [
              "                      lon       lat  ...  k_stations  platforms\n",
              "lon              1.000000  0.009057  ...    0.102399   0.366136\n",
              "lat              0.009057  1.000000  ...    0.142740   0.079442\n",
              "target          -0.075638  0.007297  ...    0.087034   0.057820\n",
              "dist_to_station  0.010688 -0.098027  ...   -0.037852   0.005536\n",
              "k_stations       0.102399  0.142740  ...    1.000000   0.173354\n",
              "platforms        0.366136  0.079442  ...    0.173354   1.000000\n",
              "\n",
              "[6 rows x 6 columns]"
            ]
          },
          "metadata": {
            "tags": []
          },
          "execution_count": 85
        }
      ]
    },
    {
      "cell_type": "markdown",
      "metadata": {
        "id": "tITF449EopIm"
      },
      "source": [
        "##### Торговые центры"
      ]
    },
    {
      "cell_type": "code",
      "metadata": {
        "id": "KBm4q2jUoqIj",
        "colab": {
          "base_uri": "https://localhost:8080/"
        },
        "outputId": "4b780fe3-e136-42ac-b686-088ae6b4ba76"
      },
      "source": [
        "overpass_query1 = '''\n",
        "[out:json];\n",
        "(node[\"shop\"=\"department_store\"]({},{},{},{});\n",
        "  node[\"shop\"=\"mall\"]({},{},{},{});\n",
        ");\n",
        "out body;\n",
        "'''.format(*bbox_, *bbox_)\n",
        "\n",
        "retails_osm = get_data_req(overpass_query1)"
      ],
      "execution_count": null,
      "outputs": [
        {
          "output_type": "stream",
          "text": [
            "200\n"
          ],
          "name": "stdout"
        }
      ]
    },
    {
      "cell_type": "code",
      "metadata": {
        "id": "hRDygkvHpKmI",
        "colab": {
          "base_uri": "https://localhost:8080/",
          "height": 143
        },
        "outputId": "85f16ef4-91b8-4ef5-ff1c-23519aad334f"
      },
      "source": [
        "retails_osm.head(2)"
      ],
      "execution_count": null,
      "outputs": [
        {
          "output_type": "execute_result",
          "data": {
            "text/html": [
              "<div>\n",
              "<style scoped>\n",
              "    .dataframe tbody tr th:only-of-type {\n",
              "        vertical-align: middle;\n",
              "    }\n",
              "\n",
              "    .dataframe tbody tr th {\n",
              "        vertical-align: top;\n",
              "    }\n",
              "\n",
              "    .dataframe thead th {\n",
              "        text-align: right;\n",
              "    }\n",
              "</style>\n",
              "<table border=\"1\" class=\"dataframe\">\n",
              "  <thead>\n",
              "    <tr style=\"text-align: right;\">\n",
              "      <th></th>\n",
              "      <th>type</th>\n",
              "      <th>id</th>\n",
              "      <th>lat</th>\n",
              "      <th>lon</th>\n",
              "      <th>name</th>\n",
              "      <th>shop</th>\n",
              "      <th>name:ru</th>\n",
              "      <th>opening_hours</th>\n",
              "      <th>website</th>\n",
              "      <th>addr:city</th>\n",
              "      <th>addr:postcode</th>\n",
              "      <th>addr:street</th>\n",
              "      <th>name:en</th>\n",
              "      <th>amenity</th>\n",
              "      <th>addr:housenumber</th>\n",
              "      <th>toilets</th>\n",
              "      <th>internet_access</th>\n",
              "      <th>ref</th>\n",
              "      <th>wheelchair</th>\n",
              "      <th>contact:phone</th>\n",
              "      <th>contact:website</th>\n",
              "      <th>contact:email</th>\n",
              "      <th>contact:facebook</th>\n",
              "      <th>alt_name</th>\n",
              "      <th>brand</th>\n",
              "      <th>brand:wikidata</th>\n",
              "      <th>brand:wikipedia</th>\n",
              "      <th>clothes</th>\n",
              "      <th>contact:vk</th>\n",
              "      <th>operator</th>\n",
              "      <th>phone</th>\n",
              "      <th>wheelchair:description</th>\n",
              "      <th>contact:instagram</th>\n",
              "    </tr>\n",
              "  </thead>\n",
              "  <tbody>\n",
              "    <tr>\n",
              "      <th>0</th>\n",
              "      <td>node</td>\n",
              "      <td>310752865</td>\n",
              "      <td>55.604622</td>\n",
              "      <td>37.712301</td>\n",
              "      <td>Белград</td>\n",
              "      <td>mall</td>\n",
              "      <td>NaN</td>\n",
              "      <td>NaN</td>\n",
              "      <td>NaN</td>\n",
              "      <td>NaN</td>\n",
              "      <td>NaN</td>\n",
              "      <td>NaN</td>\n",
              "      <td>NaN</td>\n",
              "      <td>NaN</td>\n",
              "      <td>NaN</td>\n",
              "      <td>NaN</td>\n",
              "      <td>NaN</td>\n",
              "      <td>NaN</td>\n",
              "      <td>NaN</td>\n",
              "      <td>NaN</td>\n",
              "      <td>NaN</td>\n",
              "      <td>NaN</td>\n",
              "      <td>NaN</td>\n",
              "      <td>NaN</td>\n",
              "      <td>NaN</td>\n",
              "      <td>NaN</td>\n",
              "      <td>NaN</td>\n",
              "      <td>NaN</td>\n",
              "      <td>NaN</td>\n",
              "      <td>NaN</td>\n",
              "      <td>NaN</td>\n",
              "      <td>NaN</td>\n",
              "      <td>NaN</td>\n",
              "    </tr>\n",
              "    <tr>\n",
              "      <th>1</th>\n",
              "      <td>node</td>\n",
              "      <td>514546547</td>\n",
              "      <td>55.710813</td>\n",
              "      <td>37.812293</td>\n",
              "      <td>Фамилия</td>\n",
              "      <td>department_store</td>\n",
              "      <td>Перекресток</td>\n",
              "      <td>Mo-Su 09:00-22:00</td>\n",
              "      <td>http://www.famil.ru/</td>\n",
              "      <td>NaN</td>\n",
              "      <td>NaN</td>\n",
              "      <td>NaN</td>\n",
              "      <td>NaN</td>\n",
              "      <td>NaN</td>\n",
              "      <td>NaN</td>\n",
              "      <td>NaN</td>\n",
              "      <td>NaN</td>\n",
              "      <td>NaN</td>\n",
              "      <td>NaN</td>\n",
              "      <td>NaN</td>\n",
              "      <td>NaN</td>\n",
              "      <td>NaN</td>\n",
              "      <td>NaN</td>\n",
              "      <td>NaN</td>\n",
              "      <td>NaN</td>\n",
              "      <td>NaN</td>\n",
              "      <td>NaN</td>\n",
              "      <td>NaN</td>\n",
              "      <td>NaN</td>\n",
              "      <td>NaN</td>\n",
              "      <td>NaN</td>\n",
              "      <td>NaN</td>\n",
              "      <td>NaN</td>\n",
              "    </tr>\n",
              "  </tbody>\n",
              "</table>\n",
              "</div>"
            ],
            "text/plain": [
              "   type         id        lat  ...  phone wheelchair:description contact:instagram\n",
              "0  node  310752865  55.604622  ...    NaN                    NaN               NaN\n",
              "1  node  514546547  55.710813  ...    NaN                    NaN               NaN\n",
              "\n",
              "[2 rows x 33 columns]"
            ]
          },
          "metadata": {
            "tags": []
          },
          "execution_count": 87
        }
      ]
    },
    {
      "cell_type": "code",
      "metadata": {
        "id": "FQCZn_QmIVFb",
        "colab": {
          "base_uri": "https://localhost:8080/",
          "height": 399
        },
        "outputId": "50fd04e9-7c6c-4e7a-9f2f-8fd3049cdaf6"
      },
      "source": [
        "scatter_plot_feature(retails_osm, \n",
        "                     'Салоны и крупные торговые центры в Москве')"
      ],
      "execution_count": null,
      "outputs": [
        {
          "output_type": "display_data",
          "data": {
            "image/png": "[encoded data removed]",
            "text/plain": [
              "<Figure size 412x360 with 1 Axes>"
            ]
          },
          "metadata": {
            "tags": [],
            "needs_background": "light"
          }
        }
      ]
    },
    {
      "cell_type": "code",
      "metadata": {
        "id": "xkpYQUb9tQgK"
      },
      "source": [
        "dist_nearest_new_feature('dist_to_mall', retails_osm, geo_train)\n",
        "k_nearest_new_feature('k_malls', retails_osm, geo_train)"
      ],
      "execution_count": null,
      "outputs": []
    },
    {
      "cell_type": "markdown",
      "metadata": {
        "id": "CMKs-b6UXX5E"
      },
      "source": [
        "##### Эконом магазины (количество в окрестности салона)"
      ]
    },
    {
      "cell_type": "code",
      "metadata": {
        "id": "bACpF51YXYZ5",
        "colab": {
          "base_uri": "https://localhost:8080/"
        },
        "outputId": "27e0d99b-bbd9-4523-f3cc-08c539eaf6db"
      },
      "source": [
        "overpass_query3 = '''\n",
        "[out:json];\n",
        "(node[\"shop\"=\"second_hand\"]({},{},{},{});\n",
        "node[\"shop\"\t= \"variety_store\"]({},{},{},{});\n",
        ");\n",
        "out body;\n",
        "'''.format(*bbox_, *bbox_)\n",
        "\n",
        "retails2_osm = get_data_req(overpass_query3)"
      ],
      "execution_count": null,
      "outputs": [
        {
          "output_type": "stream",
          "text": [
            "200\n"
          ],
          "name": "stdout"
        }
      ]
    },
    {
      "cell_type": "code",
      "metadata": {
        "id": "gC3qspGbX8-R",
        "colab": {
          "base_uri": "https://localhost:8080/",
          "height": 399
        },
        "outputId": "0e0018ce-ff17-430a-fc75-2401ac12d681"
      },
      "source": [
        "scatter_plot_feature(retails2_osm, \n",
        "                     'Салоны и крупные эконом-магазины в Москве')"
      ],
      "execution_count": null,
      "outputs": [
        {
          "output_type": "display_data",
          "data": {
            "image/png": "[encoded data removed]",
            "text/plain": [
              "<Figure size 412x360 with 1 Axes>"
            ]
          },
          "metadata": {
            "tags": [],
            "needs_background": "light"
          }
        }
      ]
    },
    {
      "cell_type": "code",
      "metadata": {
        "id": "1av8L2qLuT6Y"
      },
      "source": [
        "dist_nearest_new_feature('dist_to_econom', retails2_osm, geo_train)\n",
        "k_nearest_new_feature('k_econom', retails2_osm, geo_train)"
      ],
      "execution_count": null,
      "outputs": []
    },
    {
      "cell_type": "markdown",
      "metadata": {
        "id": "UaMEqv6UQILj"
      },
      "source": [
        "##### Количество салонов(компании Мегафон и других компаний в окрестности салона)"
      ]
    },
    {
      "cell_type": "code",
      "metadata": {
        "id": "3EM2F6nBQIvO",
        "colab": {
          "base_uri": "https://localhost:8080/"
        },
        "outputId": "6137b17f-7f33-48c3-8df9-a3c401cba79e"
      },
      "source": [
        "overpass_query5 = '''\n",
        "[out:json];\n",
        "(node[\"shop\" = \"mobile_phone\"]({},{},{},{});\n",
        ");\n",
        "out body;\n",
        "'''.format(*bbox_)\n",
        "\n",
        "phones_osm = get_data_req(overpass_query5)"
      ],
      "execution_count": null,
      "outputs": [
        {
          "output_type": "stream",
          "text": [
            "200\n"
          ],
          "name": "stdout"
        }
      ]
    },
    {
      "cell_type": "code",
      "metadata": {
        "id": "Hp_R5t3sInX9",
        "colab": {
          "base_uri": "https://localhost:8080/",
          "height": 399
        },
        "outputId": "456ba822-9421-48f2-d12a-5a33e7fb6bae"
      },
      "source": [
        "scatter_plot_feature(phones_osm,\n",
        "                     'Салоны Мегафона и салоны конкурентов в Москве')"
      ],
      "execution_count": null,
      "outputs": [
        {
          "output_type": "display_data",
          "data": {
            "image/png": "[encoded data removed]",
            "text/plain": [
              "<Figure size 412x360 with 1 Axes>"
            ]
          },
          "metadata": {
            "tags": [],
            "needs_background": "light"
          }
        }
      ]
    },
    {
      "cell_type": "code",
      "metadata": {
        "id": "QHKIj7uwucrQ"
      },
      "source": [
        "dist_nearest_new_feature('dist_to_phone_salons', phones_osm, geo_train)\n",
        "k_nearest_new_feature('k_phone_salons', phones_osm, geo_train)"
      ],
      "execution_count": null,
      "outputs": []
    },
    {
      "cell_type": "code",
      "metadata": {
        "id": "48_buN-kwiKi",
        "colab": {
          "base_uri": "https://localhost:8080/",
          "height": 419
        },
        "outputId": "d3be4432-a5f7-41b2-f248-9753982c0d87"
      },
      "source": [
        "geo_train[geo_train.city == 'Москва'].corr()"
      ],
      "execution_count": null,
      "outputs": [
        {
          "output_type": "execute_result",
          "data": {
            "text/html": [
              "<div>\n",
              "<style scoped>\n",
              "    .dataframe tbody tr th:only-of-type {\n",
              "        vertical-align: middle;\n",
              "    }\n",
              "\n",
              "    .dataframe tbody tr th {\n",
              "        vertical-align: top;\n",
              "    }\n",
              "\n",
              "    .dataframe thead th {\n",
              "        text-align: right;\n",
              "    }\n",
              "</style>\n",
              "<table border=\"1\" class=\"dataframe\">\n",
              "  <thead>\n",
              "    <tr style=\"text-align: right;\">\n",
              "      <th></th>\n",
              "      <th>lon</th>\n",
              "      <th>lat</th>\n",
              "      <th>target</th>\n",
              "      <th>dist_to_station</th>\n",
              "      <th>k_stations</th>\n",
              "      <th>platforms</th>\n",
              "      <th>dist_to_mall</th>\n",
              "      <th>k_malls</th>\n",
              "      <th>dist_to_econom</th>\n",
              "      <th>k_econom</th>\n",
              "      <th>dist_to_phone_salons</th>\n",
              "      <th>k_phone_salons</th>\n",
              "    </tr>\n",
              "  </thead>\n",
              "  <tbody>\n",
              "    <tr>\n",
              "      <th>lon</th>\n",
              "      <td>1.000000</td>\n",
              "      <td>0.009057</td>\n",
              "      <td>-0.075638</td>\n",
              "      <td>0.010688</td>\n",
              "      <td>0.102399</td>\n",
              "      <td>0.366136</td>\n",
              "      <td>0.010688</td>\n",
              "      <td>-0.010053</td>\n",
              "      <td>0.010688</td>\n",
              "      <td>-0.005232</td>\n",
              "      <td>0.010688</td>\n",
              "      <td>0.200721</td>\n",
              "    </tr>\n",
              "    <tr>\n",
              "      <th>lat</th>\n",
              "      <td>0.009057</td>\n",
              "      <td>1.000000</td>\n",
              "      <td>0.007297</td>\n",
              "      <td>-0.098027</td>\n",
              "      <td>0.142740</td>\n",
              "      <td>0.079442</td>\n",
              "      <td>-0.098027</td>\n",
              "      <td>0.075190</td>\n",
              "      <td>-0.098027</td>\n",
              "      <td>0.129229</td>\n",
              "      <td>-0.098027</td>\n",
              "      <td>0.104852</td>\n",
              "    </tr>\n",
              "    <tr>\n",
              "      <th>target</th>\n",
              "      <td>-0.075638</td>\n",
              "      <td>0.007297</td>\n",
              "      <td>1.000000</td>\n",
              "      <td>0.044637</td>\n",
              "      <td>0.087034</td>\n",
              "      <td>0.057820</td>\n",
              "      <td>0.044637</td>\n",
              "      <td>0.128777</td>\n",
              "      <td>0.044637</td>\n",
              "      <td>0.205426</td>\n",
              "      <td>0.044637</td>\n",
              "      <td>0.176216</td>\n",
              "    </tr>\n",
              "    <tr>\n",
              "      <th>dist_to_station</th>\n",
              "      <td>0.010688</td>\n",
              "      <td>-0.098027</td>\n",
              "      <td>0.044637</td>\n",
              "      <td>1.000000</td>\n",
              "      <td>-0.037852</td>\n",
              "      <td>0.005536</td>\n",
              "      <td>1.000000</td>\n",
              "      <td>0.024842</td>\n",
              "      <td>1.000000</td>\n",
              "      <td>-0.082006</td>\n",
              "      <td>1.000000</td>\n",
              "      <td>-0.050109</td>\n",
              "    </tr>\n",
              "    <tr>\n",
              "      <th>k_stations</th>\n",
              "      <td>0.102399</td>\n",
              "      <td>0.142740</td>\n",
              "      <td>0.087034</td>\n",
              "      <td>-0.037852</td>\n",
              "      <td>1.000000</td>\n",
              "      <td>0.173354</td>\n",
              "      <td>-0.037852</td>\n",
              "      <td>0.342974</td>\n",
              "      <td>-0.037852</td>\n",
              "      <td>-0.074491</td>\n",
              "      <td>-0.037852</td>\n",
              "      <td>0.408972</td>\n",
              "    </tr>\n",
              "    <tr>\n",
              "      <th>platforms</th>\n",
              "      <td>0.366136</td>\n",
              "      <td>0.079442</td>\n",
              "      <td>0.057820</td>\n",
              "      <td>0.005536</td>\n",
              "      <td>0.173354</td>\n",
              "      <td>1.000000</td>\n",
              "      <td>0.005536</td>\n",
              "      <td>0.024411</td>\n",
              "      <td>0.005536</td>\n",
              "      <td>0.204131</td>\n",
              "      <td>0.005536</td>\n",
              "      <td>0.274524</td>\n",
              "    </tr>\n",
              "    <tr>\n",
              "      <th>dist_to_mall</th>\n",
              "      <td>0.010688</td>\n",
              "      <td>-0.098027</td>\n",
              "      <td>0.044637</td>\n",
              "      <td>1.000000</td>\n",
              "      <td>-0.037852</td>\n",
              "      <td>0.005536</td>\n",
              "      <td>1.000000</td>\n",
              "      <td>0.024842</td>\n",
              "      <td>1.000000</td>\n",
              "      <td>-0.082006</td>\n",
              "      <td>1.000000</td>\n",
              "      <td>-0.050109</td>\n",
              "    </tr>\n",
              "    <tr>\n",
              "      <th>k_malls</th>\n",
              "      <td>-0.010053</td>\n",
              "      <td>0.075190</td>\n",
              "      <td>0.128777</td>\n",
              "      <td>0.024842</td>\n",
              "      <td>0.342974</td>\n",
              "      <td>0.024411</td>\n",
              "      <td>0.024842</td>\n",
              "      <td>1.000000</td>\n",
              "      <td>0.024842</td>\n",
              "      <td>0.151485</td>\n",
              "      <td>0.024842</td>\n",
              "      <td>0.064270</td>\n",
              "    </tr>\n",
              "    <tr>\n",
              "      <th>dist_to_econom</th>\n",
              "      <td>0.010688</td>\n",
              "      <td>-0.098027</td>\n",
              "      <td>0.044637</td>\n",
              "      <td>1.000000</td>\n",
              "      <td>-0.037852</td>\n",
              "      <td>0.005536</td>\n",
              "      <td>1.000000</td>\n",
              "      <td>0.024842</td>\n",
              "      <td>1.000000</td>\n",
              "      <td>-0.082006</td>\n",
              "      <td>1.000000</td>\n",
              "      <td>-0.050109</td>\n",
              "    </tr>\n",
              "    <tr>\n",
              "      <th>k_econom</th>\n",
              "      <td>-0.005232</td>\n",
              "      <td>0.129229</td>\n",
              "      <td>0.205426</td>\n",
              "      <td>-0.082006</td>\n",
              "      <td>-0.074491</td>\n",
              "      <td>0.204131</td>\n",
              "      <td>-0.082006</td>\n",
              "      <td>0.151485</td>\n",
              "      <td>-0.082006</td>\n",
              "      <td>1.000000</td>\n",
              "      <td>-0.082006</td>\n",
              "      <td>0.239587</td>\n",
              "    </tr>\n",
              "    <tr>\n",
              "      <th>dist_to_phone_salons</th>\n",
              "      <td>0.010688</td>\n",
              "      <td>-0.098027</td>\n",
              "      <td>0.044637</td>\n",
              "      <td>1.000000</td>\n",
              "      <td>-0.037852</td>\n",
              "      <td>0.005536</td>\n",
              "      <td>1.000000</td>\n",
              "      <td>0.024842</td>\n",
              "      <td>1.000000</td>\n",
              "      <td>-0.082006</td>\n",
              "      <td>1.000000</td>\n",
              "      <td>-0.050109</td>\n",
              "    </tr>\n",
              "    <tr>\n",
              "      <th>k_phone_salons</th>\n",
              "      <td>0.200721</td>\n",
              "      <td>0.104852</td>\n",
              "      <td>0.176216</td>\n",
              "      <td>-0.050109</td>\n",
              "      <td>0.408972</td>\n",
              "      <td>0.274524</td>\n",
              "      <td>-0.050109</td>\n",
              "      <td>0.064270</td>\n",
              "      <td>-0.050109</td>\n",
              "      <td>0.239587</td>\n",
              "      <td>-0.050109</td>\n",
              "      <td>1.000000</td>\n",
              "    </tr>\n",
              "  </tbody>\n",
              "</table>\n",
              "</div>"
            ],
            "text/plain": [
              "                           lon       lat  ...  dist_to_phone_salons  k_phone_salons\n",
              "lon                   1.000000  0.009057  ...              0.010688        0.200721\n",
              "lat                   0.009057  1.000000  ...             -0.098027        0.104852\n",
              "target               -0.075638  0.007297  ...              0.044637        0.176216\n",
              "dist_to_station       0.010688 -0.098027  ...              1.000000       -0.050109\n",
              "k_stations            0.102399  0.142740  ...             -0.037852        0.408972\n",
              "platforms             0.366136  0.079442  ...              0.005536        0.274524\n",
              "dist_to_mall          0.010688 -0.098027  ...              1.000000       -0.050109\n",
              "k_malls              -0.010053  0.075190  ...              0.024842        0.064270\n",
              "dist_to_econom        0.010688 -0.098027  ...              1.000000       -0.050109\n",
              "k_econom             -0.005232  0.129229  ...             -0.082006        0.239587\n",
              "dist_to_phone_salons  0.010688 -0.098027  ...              1.000000       -0.050109\n",
              "k_phone_salons        0.200721  0.104852  ...             -0.050109        1.000000\n",
              "\n",
              "[12 rows x 12 columns]"
            ]
          },
          "metadata": {
            "tags": []
          },
          "execution_count": 97
        }
      ]
    },
    {
      "cell_type": "markdown",
      "metadata": {
        "id": "y-nWDYGN5zoK"
      },
      "source": [
        "#### Для всех городов"
      ]
    },
    {
      "cell_type": "markdown",
      "metadata": {
        "id": "d_6STOtJGp1N"
      },
      "source": [
        "Выполняется долго, так как расставлены time.sleep. Все для того, чтобы при запросе через request не выдало статус кода 429 (отказ из-за вожможной ddos)"
      ]
    },
    {
      "cell_type": "markdown",
      "metadata": {
        "id": "Z-Sr7dwcxLLm"
      },
      "source": [
        "Для обучающей части"
      ]
    },
    {
      "cell_type": "code",
      "metadata": {
        "colab": {
          "base_uri": "https://localhost:8080/",
          "height": 36
        },
        "id": "xlw4vr92O-jj",
        "outputId": "8dce6168-a2cc-4bfe-c05c-8ed7fe308310"
      },
      "source": [
        "'dist_to_' + q3.split('\"')[3]"
      ],
      "execution_count": null,
      "outputs": [
        {
          "output_type": "execute_result",
          "data": {
            "application/vnd.google.colaboratory.intrinsic+json": {
              "type": "string"
            },
            "text/plain": [
              "'dist_to_department_store'"
            ]
          },
          "metadata": {
            "tags": []
          },
          "execution_count": 149
        }
      ]
    },
    {
      "cell_type": "code",
      "metadata": {
        "id": "BvEWfJbq50gG"
      },
      "source": [
        "def get_new_features_city(city_c, query, df,\n",
        "                          ref_query = \"http://overpass-api.de/api/interpreter\", \n",
        "                          dist_nearest = True, k_nearest = True): \n",
        "\n",
        "  lat_min, lon_min = geo_train[geo_train.city == city_c][['lat', 'lon']].describe().loc['min']\n",
        "  lat_max, lon_max = geo_train[geo_train.city == city_c][['lat', 'lon']].describe().loc['max']\n",
        "\n",
        "  bbox_c = lat_min - 0.012, lon_min - 0.012, lat_max + 0.012, lon_max + 0.012\n",
        "\n",
        "  n = 0\n",
        "  j = 1\n",
        "  while 1:\n",
        "    try:\n",
        "      if (query == q3) or (query == q4):\n",
        "        new_data = get_data_req(query.format(*bbox_c, *bbox_c), ref_query)\n",
        "      else:\n",
        "        new_data = get_data_req(query.format(*bbox_c), ref_query)\n",
        "      print('Данные с города {} загружены'.format(city_c))\n",
        "      break\n",
        "    except:\n",
        "      print('При запросе возникла ошибка, пробую снова с задержкой')\n",
        "      sleep(np.random.random()*10+3)\n",
        "      n += 1\n",
        "      if n == 5*j:\n",
        "        j += 1\n",
        "        if input(f'Уже было {n*j} попыток. Пробовать еще? [y/n]') == 'y':\n",
        "          continue\n",
        "        else: break\n",
        "\n",
        "  if new_data.shape != (0, 0):\n",
        "    if dist_nearest:\n",
        "      if (city_c == 'Москва') and (query == q1):  \n",
        "        dist_nearest_new_feature('dist_to_'  + query.split('\"')[3], new_data[new_data.train == 'yes'],\n",
        "                            df, ncity = city_c)\n",
        "      else:\n",
        "        dist_nearest_new_feature('dist_to_' + query.split('\"')[3], new_data, df, ncity = city_c)\n",
        "\n",
        "    if k_nearest:\n",
        "      k_nearest_new_feature('k_near_' + query.split('\"')[3], new_data, df, ncity = city_c)\n",
        "\n",
        "  else: print('Такие объекты в городе не найдены')\n",
        "\n",
        "\n",
        "q1 = '''\n",
        "[out:json];\n",
        "(node[\"railway\"=\"station\"]({},{},{},{});\n",
        ");\n",
        "out body;\n",
        "'''\n",
        "\n",
        "q2 = '''\n",
        "[out:json];\n",
        "(node[\"public_transport\"= \"platform\"]({},{},{},{});\n",
        ");\n",
        "out body;\n",
        "'''\n",
        "\n",
        "q3 = '''\n",
        "[out:json];\n",
        "(node[\"shop\"=\"department_store\"]({},{},{},{});\n",
        "  node[\"shop\"=\"mall\"]({},{},{},{});\n",
        ");\n",
        "out body;\n",
        "'''\n",
        "\n",
        "q4= '''\n",
        "[out:json];\n",
        "(node[\"shop\"=\"second_hand\"]({},{},{},{});\n",
        "node[\"shop\"\t= \"variety_store\"]({},{},{},{});\n",
        ");\n",
        "out body;\n",
        "'''\n",
        "\n",
        "q5 =  '''\n",
        "[out:json];\n",
        "(node[\"shop\" = \"mobile_phone\"]({},{},{},{});\n",
        ");\n",
        "out body;\n",
        "'''"
      ],
      "execution_count": null,
      "outputs": []
    },
    {
      "cell_type": "code",
      "metadata": {
        "id": "WpUWUn2c_lyA",
        "colab": {
          "base_uri": "https://localhost:8080/"
        },
        "outputId": "34f80316-fb86-4293-b79c-93f28c8b9eb5"
      },
      "source": [
        "for c in geo_train.city.unique():\n",
        "  for quer in [q1,q2,q3,q4,q5]:\n",
        "    get_new_features_city(c, quer, geo_train)"
      ],
      "execution_count": null,
      "outputs": [
        {
          "output_type": "stream",
          "text": [
            "200\n",
            "Данные с города Москва загружены\n",
            "200\n",
            "Данные с города Москва загружены\n",
            "200\n",
            "Данные с города Москва загружены\n",
            "429\n",
            "При запросе возникла ошибка, пробую снова с задержкой\n",
            "200\n",
            "Данные с города Москва загружены\n",
            "200\n",
            "Данные с города Москва загружены\n",
            "429\n",
            "При запросе возникла ошибка, пробую снова с задержкой\n",
            "504\n",
            "При запросе возникла ошибка, пробую снова с задержкой\n",
            "200\n",
            "Данные с города Ростов-на-Дону загружены\n",
            "200\n",
            "Данные с города Ростов-на-Дону загружены\n",
            "200\n",
            "Данные с города Ростов-на-Дону загружены\n",
            "200\n",
            "Данные с города Ростов-на-Дону загружены\n",
            "200\n",
            "Данные с города Ростов-на-Дону загружены\n",
            "200\n",
            "Данные с города Красноярск загружены\n",
            "200\n",
            "Данные с города Красноярск загружены\n",
            "200\n",
            "Данные с города Красноярск загружены\n",
            "200\n",
            "Данные с города Красноярск загружены\n",
            "200\n",
            "Данные с города Красноярск загружены\n",
            "200\n",
            "Данные с города Санкт-Петербург загружены\n",
            "200\n",
            "Данные с города Санкт-Петербург загружены\n",
            "200\n",
            "Данные с города Санкт-Петербург загружены\n",
            "200\n",
            "Данные с города Санкт-Петербург загружены\n",
            "200\n",
            "Данные с города Санкт-Петербург загружены\n",
            "200\n",
            "Данные с города Уфа загружены\n",
            "200\n",
            "Данные с города Уфа загружены\n",
            "200\n",
            "Данные с города Уфа загружены\n",
            "200\n",
            "Данные с города Уфа загружены\n",
            "200\n",
            "Данные с города Уфа загружены\n",
            "200\n",
            "Данные с города Казань загружены\n",
            "200\n",
            "Данные с города Казань загружены\n",
            "200\n",
            "Данные с города Казань загружены\n",
            "200\n",
            "Данные с города Казань загружены\n",
            "200\n",
            "Данные с города Казань загружены\n",
            "200\n",
            "Данные с города Екатеринбург загружены\n",
            "200\n",
            "Данные с города Екатеринбург загружены\n",
            "200\n",
            "Данные с города Екатеринбург загружены\n",
            "200\n",
            "Данные с города Екатеринбург загружены\n",
            "200\n",
            "Данные с города Екатеринбург загружены\n",
            "200\n",
            "Данные с города Нижний Новгород загружены\n",
            "200\n",
            "Данные с города Нижний Новгород загружены\n",
            "200\n",
            "Данные с города Нижний Новгород загружены\n",
            "200\n",
            "Данные с города Нижний Новгород загружены\n",
            "200\n",
            "Данные с города Нижний Новгород загружены\n",
            "200\n",
            "Данные с города Колпино загружены\n",
            "200\n",
            "Данные с города Колпино загружены\n",
            "200\n",
            "Данные с города Колпино загружены\n",
            "200\n",
            "Данные с города Колпино загружены\n",
            "Такие объекты в городе не найдены\n",
            "200\n",
            "Данные с города Колпино загружены\n",
            "200\n",
            "Данные с города Новосибирск загружены\n",
            "200\n",
            "Данные с города Новосибирск загружены\n",
            "200\n",
            "Данные с города Новосибирск загружены\n",
            "200\n",
            "Данные с города Новосибирск загружены\n",
            "200\n",
            "Данные с города Новосибирск загружены\n",
            "200\n",
            "Данные с города Самара загружены\n",
            "200\n",
            "Данные с города Самара загружены\n",
            "200\n",
            "Данные с города Самара загружены\n",
            "200\n",
            "Данные с города Самара загружены\n",
            "200\n",
            "Данные с города Самара загружены\n",
            "200\n",
            "Данные с города Зеленоград загружены\n",
            "200\n",
            "Данные с города Зеленоград загружены\n",
            "200\n",
            "Данные с города Зеленоград загружены\n",
            "200\n",
            "Данные с города Зеленоград загружены\n",
            "200\n",
            "Данные с города Зеленоград загружены\n",
            "200\n",
            "Данные с города Московская область загружены\n",
            "200\n",
            "Данные с города Московская область загружены\n",
            "200\n",
            "Данные с города Московская область загружены\n",
            "Такие объекты в городе не найдены\n",
            "200\n",
            "Данные с города Московская область загружены\n",
            "200\n",
            "Данные с города Московская область загружены\n",
            "200\n",
            "Данные с города Пушкин загружены\n",
            "200\n",
            "Данные с города Пушкин загружены\n",
            "200\n",
            "Данные с города Пушкин загружены\n",
            "Такие объекты в городе не найдены\n",
            "200\n",
            "Данные с города Пушкин загружены\n",
            "200\n",
            "Данные с города Пушкин загружены\n"
          ],
          "name": "stdout"
        }
      ]
    },
    {
      "cell_type": "code",
      "metadata": {
        "id": "MSL6IQg19C5M",
        "colab": {
          "base_uri": "https://localhost:8080/"
        },
        "outputId": "a33f28cd-23c4-4ae2-d3bc-3aa01c5dc792"
      },
      "source": [
        "for c in geo_train.city.unique():\n",
        "  for quer in [q1,q2,q3,q4,q5]:\n",
        "    get_new_features_city(c, quer, geo_test)"
      ],
      "execution_count": null,
      "outputs": [
        {
          "output_type": "stream",
          "text": [
            "200\n",
            "Данные с города Москва загружены\n",
            "429\n",
            "При запросе возникла ошибка, пробую снова с задержкой\n",
            "200\n",
            "Данные с города Москва загружены\n",
            "504\n",
            "При запросе возникла ошибка, пробую снова с задержкой\n",
            "200\n",
            "Данные с города Москва загружены\n",
            "200\n",
            "Данные с города Москва загружены\n",
            "429\n",
            "При запросе возникла ошибка, пробую снова с задержкой\n",
            "200\n",
            "Данные с города Москва загружены\n",
            "200\n",
            "Данные с города Ростов-на-Дону загружены\n",
            "200\n",
            "Данные с города Ростов-на-Дону загружены\n",
            "200\n",
            "Данные с города Ростов-на-Дону загружены\n",
            "200\n",
            "Данные с города Ростов-на-Дону загружены\n",
            "200\n",
            "Данные с города Ростов-на-Дону загружены\n",
            "200\n",
            "Данные с города Красноярск загружены\n",
            "200\n",
            "Данные с города Красноярск загружены\n",
            "200\n",
            "Данные с города Красноярск загружены\n",
            "200\n",
            "Данные с города Красноярск загружены\n",
            "200\n",
            "Данные с города Красноярск загружены\n",
            "200\n",
            "Данные с города Санкт-Петербург загружены\n",
            "200\n",
            "Данные с города Санкт-Петербург загружены\n",
            "200\n",
            "Данные с города Санкт-Петербург загружены\n",
            "200\n",
            "Данные с города Санкт-Петербург загружены\n",
            "200\n",
            "Данные с города Санкт-Петербург загружены\n",
            "200\n",
            "Данные с города Уфа загружены\n",
            "200\n",
            "Данные с города Уфа загружены\n",
            "200\n",
            "Данные с города Уфа загружены\n",
            "200\n",
            "Данные с города Уфа загружены\n",
            "200\n",
            "Данные с города Уфа загружены\n",
            "200\n",
            "Данные с города Казань загружены\n",
            "200\n",
            "Данные с города Казань загружены\n",
            "200\n",
            "Данные с города Казань загружены\n",
            "200\n",
            "Данные с города Казань загружены\n",
            "200\n",
            "Данные с города Казань загружены\n",
            "200\n",
            "Данные с города Екатеринбург загружены\n",
            "200\n",
            "Данные с города Екатеринбург загружены\n",
            "200\n",
            "Данные с города Екатеринбург загружены\n",
            "200\n",
            "Данные с города Екатеринбург загружены\n",
            "200\n",
            "Данные с города Екатеринбург загружены\n",
            "200\n",
            "Данные с города Нижний Новгород загружены\n",
            "200\n",
            "Данные с города Нижний Новгород загружены\n",
            "200\n",
            "Данные с города Нижний Новгород загружены\n",
            "200\n",
            "Данные с города Нижний Новгород загружены\n",
            "200\n",
            "Данные с города Нижний Новгород загружены\n",
            "200\n",
            "Данные с города Колпино загружены\n",
            "200\n",
            "Данные с города Колпино загружены\n",
            "200\n",
            "Данные с города Колпино загружены\n",
            "200\n",
            "Данные с города Колпино загружены\n",
            "Такие объекты в городе не найдены\n",
            "200\n",
            "Данные с города Колпино загружены\n",
            "200\n",
            "Данные с города Новосибирск загружены\n",
            "200\n",
            "Данные с города Новосибирск загружены\n",
            "200\n",
            "Данные с города Новосибирск загружены\n",
            "200\n",
            "Данные с города Новосибирск загружены\n",
            "200\n",
            "Данные с города Новосибирск загружены\n",
            "200\n",
            "Данные с города Самара загружены\n",
            "200\n",
            "Данные с города Самара загружены\n",
            "200\n",
            "Данные с города Самара загружены\n",
            "200\n",
            "Данные с города Самара загружены\n",
            "200\n",
            "Данные с города Самара загружены\n",
            "200\n",
            "Данные с города Зеленоград загружены\n",
            "200\n",
            "Данные с города Зеленоград загружены\n",
            "200\n",
            "Данные с города Зеленоград загружены\n",
            "200\n",
            "Данные с города Зеленоград загружены\n",
            "200\n",
            "Данные с города Зеленоград загружены\n",
            "200\n",
            "Данные с города Московская область загружены\n",
            "200\n",
            "Данные с города Московская область загружены\n",
            "200\n",
            "Данные с города Московская область загружены\n",
            "Такие объекты в городе не найдены\n",
            "200\n",
            "Данные с города Московская область загружены\n",
            "200\n",
            "Данные с города Московская область загружены\n",
            "200\n",
            "Данные с города Пушкин загружены\n",
            "200\n",
            "Данные с города Пушкин загружены\n",
            "200\n",
            "Данные с города Пушкин загружены\n",
            "Такие объекты в городе не найдены\n",
            "200\n",
            "Данные с города Пушкин загружены\n",
            "200\n",
            "Данные с города Пушкин загружены\n"
          ],
          "name": "stdout"
        }
      ]
    },
    {
      "cell_type": "code",
      "metadata": {
        "id": "Bs78EMQBUgxT",
        "colab": {
          "base_uri": "https://localhost:8080/",
          "height": 683
        },
        "outputId": "bea9c6d4-35c0-4205-89bd-760b517be203"
      },
      "source": [
        "g = geo_train.drop(geo_train[geo_train.city == 'nan'].index, axis = 0)\n",
        "g.corr()"
      ],
      "execution_count": null,
      "outputs": [
        {
          "output_type": "execute_result",
          "data": {
            "text/html": [
              "<div>\n",
              "<style scoped>\n",
              "    .dataframe tbody tr th:only-of-type {\n",
              "        vertical-align: middle;\n",
              "    }\n",
              "\n",
              "    .dataframe tbody tr th {\n",
              "        vertical-align: top;\n",
              "    }\n",
              "\n",
              "    .dataframe thead th {\n",
              "        text-align: right;\n",
              "    }\n",
              "</style>\n",
              "<table border=\"1\" class=\"dataframe\">\n",
              "  <thead>\n",
              "    <tr style=\"text-align: right;\">\n",
              "      <th></th>\n",
              "      <th>lon</th>\n",
              "      <th>lat</th>\n",
              "      <th>target</th>\n",
              "      <th>dist_to_station</th>\n",
              "      <th>k_stations</th>\n",
              "      <th>platforms</th>\n",
              "      <th>dist_to_mall</th>\n",
              "      <th>k_malls</th>\n",
              "      <th>dist_to_econom</th>\n",
              "      <th>k_econom</th>\n",
              "      <th>dist_to_phone_salons</th>\n",
              "      <th>k_phone_salons</th>\n",
              "      <th>k_near_station</th>\n",
              "      <th>dist_to_platform</th>\n",
              "      <th>k_near_platform</th>\n",
              "      <th>dist_to_department_store</th>\n",
              "      <th>k_near_department_store</th>\n",
              "      <th>dist_to_second_hand</th>\n",
              "      <th>k_near_second_hand</th>\n",
              "      <th>dist_to_mobile_phone</th>\n",
              "      <th>k_near_mobile_phone</th>\n",
              "    </tr>\n",
              "  </thead>\n",
              "  <tbody>\n",
              "    <tr>\n",
              "      <th>lon</th>\n",
              "      <td>1.000000</td>\n",
              "      <td>-0.247424</td>\n",
              "      <td>-0.029311</td>\n",
              "      <td>-0.033854</td>\n",
              "      <td>-0.340509</td>\n",
              "      <td>-0.329520</td>\n",
              "      <td>0.022822</td>\n",
              "      <td>-0.085931</td>\n",
              "      <td>0.022822</td>\n",
              "      <td>-0.194845</td>\n",
              "      <td>0.022822</td>\n",
              "      <td>-0.260002</td>\n",
              "      <td>-0.288113</td>\n",
              "      <td>-0.032630</td>\n",
              "      <td>-0.592966</td>\n",
              "      <td>-0.054281</td>\n",
              "      <td>-0.027065</td>\n",
              "      <td>-0.045315</td>\n",
              "      <td>-0.289021</td>\n",
              "      <td>-0.032857</td>\n",
              "      <td>-0.340509</td>\n",
              "    </tr>\n",
              "    <tr>\n",
              "      <th>lat</th>\n",
              "      <td>-0.247424</td>\n",
              "      <td>1.000000</td>\n",
              "      <td>-0.140264</td>\n",
              "      <td>0.006704</td>\n",
              "      <td>0.264646</td>\n",
              "      <td>-0.063932</td>\n",
              "      <td>0.002450</td>\n",
              "      <td>-0.015305</td>\n",
              "      <td>0.002450</td>\n",
              "      <td>-0.035887</td>\n",
              "      <td>0.002450</td>\n",
              "      <td>-0.049489</td>\n",
              "      <td>0.166625</td>\n",
              "      <td>0.007934</td>\n",
              "      <td>0.133492</td>\n",
              "      <td>0.026897</td>\n",
              "      <td>0.070702</td>\n",
              "      <td>0.026808</td>\n",
              "      <td>0.262044</td>\n",
              "      <td>0.007343</td>\n",
              "      <td>0.264646</td>\n",
              "    </tr>\n",
              "    <tr>\n",
              "      <th>target</th>\n",
              "      <td>-0.029311</td>\n",
              "      <td>-0.140264</td>\n",
              "      <td>1.000000</td>\n",
              "      <td>0.000249</td>\n",
              "      <td>0.047024</td>\n",
              "      <td>0.189399</td>\n",
              "      <td>0.017741</td>\n",
              "      <td>0.128872</td>\n",
              "      <td>0.017741</td>\n",
              "      <td>0.218108</td>\n",
              "      <td>0.017741</td>\n",
              "      <td>0.218508</td>\n",
              "      <td>0.143744</td>\n",
              "      <td>0.001319</td>\n",
              "      <td>0.013392</td>\n",
              "      <td>0.047091</td>\n",
              "      <td>-0.036010</td>\n",
              "      <td>-0.014668</td>\n",
              "      <td>0.097255</td>\n",
              "      <td>0.000985</td>\n",
              "      <td>0.047024</td>\n",
              "    </tr>\n",
              "    <tr>\n",
              "      <th>dist_to_station</th>\n",
              "      <td>-0.033854</td>\n",
              "      <td>0.006704</td>\n",
              "      <td>0.000249</td>\n",
              "      <td>1.000000</td>\n",
              "      <td>0.043020</td>\n",
              "      <td>0.106811</td>\n",
              "      <td>0.246545</td>\n",
              "      <td>0.033786</td>\n",
              "      <td>0.246545</td>\n",
              "      <td>0.045194</td>\n",
              "      <td>0.246545</td>\n",
              "      <td>0.075100</td>\n",
              "      <td>0.079925</td>\n",
              "      <td>0.999710</td>\n",
              "      <td>0.042226</td>\n",
              "      <td>0.919803</td>\n",
              "      <td>-0.023132</td>\n",
              "      <td>0.962155</td>\n",
              "      <td>0.029412</td>\n",
              "      <td>0.999718</td>\n",
              "      <td>0.043020</td>\n",
              "    </tr>\n",
              "    <tr>\n",
              "      <th>k_stations</th>\n",
              "      <td>-0.340509</td>\n",
              "      <td>0.264646</td>\n",
              "      <td>0.047024</td>\n",
              "      <td>0.043020</td>\n",
              "      <td>1.000000</td>\n",
              "      <td>0.145978</td>\n",
              "      <td>-0.028384</td>\n",
              "      <td>0.052744</td>\n",
              "      <td>-0.028384</td>\n",
              "      <td>0.145323</td>\n",
              "      <td>-0.028384</td>\n",
              "      <td>0.374584</td>\n",
              "      <td>0.485405</td>\n",
              "      <td>0.042930</td>\n",
              "      <td>0.470545</td>\n",
              "      <td>0.052075</td>\n",
              "      <td>0.148226</td>\n",
              "      <td>0.038559</td>\n",
              "      <td>0.681979</td>\n",
              "      <td>0.042564</td>\n",
              "      <td>1.000000</td>\n",
              "    </tr>\n",
              "    <tr>\n",
              "      <th>platforms</th>\n",
              "      <td>-0.329520</td>\n",
              "      <td>-0.063932</td>\n",
              "      <td>0.189399</td>\n",
              "      <td>0.106811</td>\n",
              "      <td>0.145978</td>\n",
              "      <td>1.000000</td>\n",
              "      <td>-0.056160</td>\n",
              "      <td>0.229267</td>\n",
              "      <td>-0.056160</td>\n",
              "      <td>0.566342</td>\n",
              "      <td>-0.056160</td>\n",
              "      <td>0.741465</td>\n",
              "      <td>0.393459</td>\n",
              "      <td>0.105263</td>\n",
              "      <td>0.623444</td>\n",
              "      <td>0.094187</td>\n",
              "      <td>-0.115559</td>\n",
              "      <td>0.099197</td>\n",
              "      <td>0.079685</td>\n",
              "      <td>0.105170</td>\n",
              "      <td>0.145978</td>\n",
              "    </tr>\n",
              "    <tr>\n",
              "      <th>dist_to_mall</th>\n",
              "      <td>0.022822</td>\n",
              "      <td>0.002450</td>\n",
              "      <td>0.017741</td>\n",
              "      <td>0.246545</td>\n",
              "      <td>-0.028384</td>\n",
              "      <td>-0.056160</td>\n",
              "      <td>1.000000</td>\n",
              "      <td>0.008892</td>\n",
              "      <td>1.000000</td>\n",
              "      <td>-0.103174</td>\n",
              "      <td>1.000000</td>\n",
              "      <td>-0.080452</td>\n",
              "      <td>-0.048980</td>\n",
              "      <td>0.264062</td>\n",
              "      <td>-0.027554</td>\n",
              "      <td>0.277224</td>\n",
              "      <td>0.020455</td>\n",
              "      <td>0.277313</td>\n",
              "      <td>-0.040519</td>\n",
              "      <td>0.265078</td>\n",
              "      <td>-0.028384</td>\n",
              "    </tr>\n",
              "    <tr>\n",
              "      <th>k_malls</th>\n",
              "      <td>-0.085931</td>\n",
              "      <td>-0.015305</td>\n",
              "      <td>0.128872</td>\n",
              "      <td>0.033786</td>\n",
              "      <td>0.052744</td>\n",
              "      <td>0.229267</td>\n",
              "      <td>0.008892</td>\n",
              "      <td>1.000000</td>\n",
              "      <td>0.008892</td>\n",
              "      <td>0.253366</td>\n",
              "      <td>0.008892</td>\n",
              "      <td>0.216542</td>\n",
              "      <td>0.310452</td>\n",
              "      <td>0.033794</td>\n",
              "      <td>0.127349</td>\n",
              "      <td>0.031204</td>\n",
              "      <td>0.444748</td>\n",
              "      <td>0.032518</td>\n",
              "      <td>0.078654</td>\n",
              "      <td>0.033794</td>\n",
              "      <td>0.052744</td>\n",
              "    </tr>\n",
              "    <tr>\n",
              "      <th>dist_to_econom</th>\n",
              "      <td>0.022822</td>\n",
              "      <td>0.002450</td>\n",
              "      <td>0.017741</td>\n",
              "      <td>0.246545</td>\n",
              "      <td>-0.028384</td>\n",
              "      <td>-0.056160</td>\n",
              "      <td>1.000000</td>\n",
              "      <td>0.008892</td>\n",
              "      <td>1.000000</td>\n",
              "      <td>-0.103174</td>\n",
              "      <td>1.000000</td>\n",
              "      <td>-0.080452</td>\n",
              "      <td>-0.048980</td>\n",
              "      <td>0.264062</td>\n",
              "      <td>-0.027554</td>\n",
              "      <td>0.277224</td>\n",
              "      <td>0.020455</td>\n",
              "      <td>0.277313</td>\n",
              "      <td>-0.040519</td>\n",
              "      <td>0.265078</td>\n",
              "      <td>-0.028384</td>\n",
              "    </tr>\n",
              "    <tr>\n",
              "      <th>k_econom</th>\n",
              "      <td>-0.194845</td>\n",
              "      <td>-0.035887</td>\n",
              "      <td>0.218108</td>\n",
              "      <td>0.045194</td>\n",
              "      <td>0.145323</td>\n",
              "      <td>0.566342</td>\n",
              "      <td>-0.103174</td>\n",
              "      <td>0.253366</td>\n",
              "      <td>-0.103174</td>\n",
              "      <td>1.000000</td>\n",
              "      <td>-0.103174</td>\n",
              "      <td>0.532247</td>\n",
              "      <td>0.164375</td>\n",
              "      <td>0.043057</td>\n",
              "      <td>0.338515</td>\n",
              "      <td>0.035648</td>\n",
              "      <td>-0.008603</td>\n",
              "      <td>0.038575</td>\n",
              "      <td>0.410809</td>\n",
              "      <td>0.042931</td>\n",
              "      <td>0.145323</td>\n",
              "    </tr>\n",
              "    <tr>\n",
              "      <th>dist_to_phone_salons</th>\n",
              "      <td>0.022822</td>\n",
              "      <td>0.002450</td>\n",
              "      <td>0.017741</td>\n",
              "      <td>0.246545</td>\n",
              "      <td>-0.028384</td>\n",
              "      <td>-0.056160</td>\n",
              "      <td>1.000000</td>\n",
              "      <td>0.008892</td>\n",
              "      <td>1.000000</td>\n",
              "      <td>-0.103174</td>\n",
              "      <td>1.000000</td>\n",
              "      <td>-0.080452</td>\n",
              "      <td>-0.048980</td>\n",
              "      <td>0.264062</td>\n",
              "      <td>-0.027554</td>\n",
              "      <td>0.277224</td>\n",
              "      <td>0.020455</td>\n",
              "      <td>0.277313</td>\n",
              "      <td>-0.040519</td>\n",
              "      <td>0.265078</td>\n",
              "      <td>-0.028384</td>\n",
              "    </tr>\n",
              "    <tr>\n",
              "      <th>k_phone_salons</th>\n",
              "      <td>-0.260002</td>\n",
              "      <td>-0.049489</td>\n",
              "      <td>0.218508</td>\n",
              "      <td>0.075100</td>\n",
              "      <td>0.374584</td>\n",
              "      <td>0.741465</td>\n",
              "      <td>-0.080452</td>\n",
              "      <td>0.216542</td>\n",
              "      <td>-0.080452</td>\n",
              "      <td>0.532247</td>\n",
              "      <td>-0.080452</td>\n",
              "      <td>1.000000</td>\n",
              "      <td>0.460746</td>\n",
              "      <td>0.073248</td>\n",
              "      <td>0.434054</td>\n",
              "      <td>0.064055</td>\n",
              "      <td>-0.073249</td>\n",
              "      <td>0.067994</td>\n",
              "      <td>0.109465</td>\n",
              "      <td>0.073137</td>\n",
              "      <td>0.374584</td>\n",
              "    </tr>\n",
              "    <tr>\n",
              "      <th>k_near_station</th>\n",
              "      <td>-0.288113</td>\n",
              "      <td>0.166625</td>\n",
              "      <td>0.143744</td>\n",
              "      <td>0.079925</td>\n",
              "      <td>0.485405</td>\n",
              "      <td>0.393459</td>\n",
              "      <td>-0.048980</td>\n",
              "      <td>0.310452</td>\n",
              "      <td>-0.048980</td>\n",
              "      <td>0.164375</td>\n",
              "      <td>-0.048980</td>\n",
              "      <td>0.460746</td>\n",
              "      <td>1.000000</td>\n",
              "      <td>0.079261</td>\n",
              "      <td>0.355090</td>\n",
              "      <td>0.088937</td>\n",
              "      <td>0.147235</td>\n",
              "      <td>0.070508</td>\n",
              "      <td>0.281587</td>\n",
              "      <td>0.079023</td>\n",
              "      <td>0.485405</td>\n",
              "    </tr>\n",
              "    <tr>\n",
              "      <th>dist_to_platform</th>\n",
              "      <td>-0.032630</td>\n",
              "      <td>0.007934</td>\n",
              "      <td>0.001319</td>\n",
              "      <td>0.999710</td>\n",
              "      <td>0.042930</td>\n",
              "      <td>0.105263</td>\n",
              "      <td>0.264062</td>\n",
              "      <td>0.033794</td>\n",
              "      <td>0.264062</td>\n",
              "      <td>0.043057</td>\n",
              "      <td>0.264062</td>\n",
              "      <td>0.073248</td>\n",
              "      <td>0.079261</td>\n",
              "      <td>1.000000</td>\n",
              "      <td>0.042176</td>\n",
              "      <td>0.922909</td>\n",
              "      <td>-0.023276</td>\n",
              "      <td>0.962015</td>\n",
              "      <td>0.029094</td>\n",
              "      <td>0.999969</td>\n",
              "      <td>0.042930</td>\n",
              "    </tr>\n",
              "    <tr>\n",
              "      <th>k_near_platform</th>\n",
              "      <td>-0.592966</td>\n",
              "      <td>0.133492</td>\n",
              "      <td>0.013392</td>\n",
              "      <td>0.042226</td>\n",
              "      <td>0.470545</td>\n",
              "      <td>0.623444</td>\n",
              "      <td>-0.027554</td>\n",
              "      <td>0.127349</td>\n",
              "      <td>-0.027554</td>\n",
              "      <td>0.338515</td>\n",
              "      <td>-0.027554</td>\n",
              "      <td>0.434054</td>\n",
              "      <td>0.355090</td>\n",
              "      <td>0.042176</td>\n",
              "      <td>1.000000</td>\n",
              "      <td>0.065838</td>\n",
              "      <td>0.019007</td>\n",
              "      <td>0.036929</td>\n",
              "      <td>0.385990</td>\n",
              "      <td>0.042338</td>\n",
              "      <td>0.470545</td>\n",
              "    </tr>\n",
              "    <tr>\n",
              "      <th>dist_to_department_store</th>\n",
              "      <td>-0.054281</td>\n",
              "      <td>0.026897</td>\n",
              "      <td>0.047091</td>\n",
              "      <td>0.919803</td>\n",
              "      <td>0.052075</td>\n",
              "      <td>0.094187</td>\n",
              "      <td>0.277224</td>\n",
              "      <td>0.031204</td>\n",
              "      <td>0.277224</td>\n",
              "      <td>0.035648</td>\n",
              "      <td>0.277224</td>\n",
              "      <td>0.064055</td>\n",
              "      <td>0.088937</td>\n",
              "      <td>0.922909</td>\n",
              "      <td>0.065838</td>\n",
              "      <td>1.000000</td>\n",
              "      <td>-0.038717</td>\n",
              "      <td>0.874211</td>\n",
              "      <td>0.025386</td>\n",
              "      <td>0.922435</td>\n",
              "      <td>0.052075</td>\n",
              "    </tr>\n",
              "    <tr>\n",
              "      <th>k_near_department_store</th>\n",
              "      <td>-0.027065</td>\n",
              "      <td>0.070702</td>\n",
              "      <td>-0.036010</td>\n",
              "      <td>-0.023132</td>\n",
              "      <td>0.148226</td>\n",
              "      <td>-0.115559</td>\n",
              "      <td>0.020455</td>\n",
              "      <td>0.444748</td>\n",
              "      <td>0.020455</td>\n",
              "      <td>-0.008603</td>\n",
              "      <td>0.020455</td>\n",
              "      <td>-0.073249</td>\n",
              "      <td>0.147235</td>\n",
              "      <td>-0.023276</td>\n",
              "      <td>0.019007</td>\n",
              "      <td>-0.038717</td>\n",
              "      <td>1.000000</td>\n",
              "      <td>-0.000418</td>\n",
              "      <td>0.121521</td>\n",
              "      <td>-0.023240</td>\n",
              "      <td>0.148226</td>\n",
              "    </tr>\n",
              "    <tr>\n",
              "      <th>dist_to_second_hand</th>\n",
              "      <td>-0.045315</td>\n",
              "      <td>0.026808</td>\n",
              "      <td>-0.014668</td>\n",
              "      <td>0.962155</td>\n",
              "      <td>0.038559</td>\n",
              "      <td>0.099197</td>\n",
              "      <td>0.277313</td>\n",
              "      <td>0.032518</td>\n",
              "      <td>0.277313</td>\n",
              "      <td>0.038575</td>\n",
              "      <td>0.277313</td>\n",
              "      <td>0.067994</td>\n",
              "      <td>0.070508</td>\n",
              "      <td>0.962015</td>\n",
              "      <td>0.036929</td>\n",
              "      <td>0.874211</td>\n",
              "      <td>-0.000418</td>\n",
              "      <td>1.000000</td>\n",
              "      <td>0.021569</td>\n",
              "      <td>0.962165</td>\n",
              "      <td>0.038559</td>\n",
              "    </tr>\n",
              "    <tr>\n",
              "      <th>k_near_second_hand</th>\n",
              "      <td>-0.289021</td>\n",
              "      <td>0.262044</td>\n",
              "      <td>0.097255</td>\n",
              "      <td>0.029412</td>\n",
              "      <td>0.681979</td>\n",
              "      <td>0.079685</td>\n",
              "      <td>-0.040519</td>\n",
              "      <td>0.078654</td>\n",
              "      <td>-0.040519</td>\n",
              "      <td>0.410809</td>\n",
              "      <td>-0.040519</td>\n",
              "      <td>0.109465</td>\n",
              "      <td>0.281587</td>\n",
              "      <td>0.029094</td>\n",
              "      <td>0.385990</td>\n",
              "      <td>0.025386</td>\n",
              "      <td>0.121521</td>\n",
              "      <td>0.021569</td>\n",
              "      <td>1.000000</td>\n",
              "      <td>0.028771</td>\n",
              "      <td>0.681979</td>\n",
              "    </tr>\n",
              "    <tr>\n",
              "      <th>dist_to_mobile_phone</th>\n",
              "      <td>-0.032857</td>\n",
              "      <td>0.007343</td>\n",
              "      <td>0.000985</td>\n",
              "      <td>0.999718</td>\n",
              "      <td>0.042564</td>\n",
              "      <td>0.105170</td>\n",
              "      <td>0.265078</td>\n",
              "      <td>0.033794</td>\n",
              "      <td>0.265078</td>\n",
              "      <td>0.042931</td>\n",
              "      <td>0.265078</td>\n",
              "      <td>0.073137</td>\n",
              "      <td>0.079023</td>\n",
              "      <td>0.999969</td>\n",
              "      <td>0.042338</td>\n",
              "      <td>0.922435</td>\n",
              "      <td>-0.023240</td>\n",
              "      <td>0.962165</td>\n",
              "      <td>0.028771</td>\n",
              "      <td>1.000000</td>\n",
              "      <td>0.042564</td>\n",
              "    </tr>\n",
              "    <tr>\n",
              "      <th>k_near_mobile_phone</th>\n",
              "      <td>-0.340509</td>\n",
              "      <td>0.264646</td>\n",
              "      <td>0.047024</td>\n",
              "      <td>0.043020</td>\n",
              "      <td>1.000000</td>\n",
              "      <td>0.145978</td>\n",
              "      <td>-0.028384</td>\n",
              "      <td>0.052744</td>\n",
              "      <td>-0.028384</td>\n",
              "      <td>0.145323</td>\n",
              "      <td>-0.028384</td>\n",
              "      <td>0.374584</td>\n",
              "      <td>0.485405</td>\n",
              "      <td>0.042930</td>\n",
              "      <td>0.470545</td>\n",
              "      <td>0.052075</td>\n",
              "      <td>0.148226</td>\n",
              "      <td>0.038559</td>\n",
              "      <td>0.681979</td>\n",
              "      <td>0.042564</td>\n",
              "      <td>1.000000</td>\n",
              "    </tr>\n",
              "  </tbody>\n",
              "</table>\n",
              "</div>"
            ],
            "text/plain": [
              "                               lon  ...  k_near_mobile_phone\n",
              "lon                       1.000000  ...            -0.340509\n",
              "lat                      -0.247424  ...             0.264646\n",
              "target                   -0.029311  ...             0.047024\n",
              "dist_to_station          -0.033854  ...             0.043020\n",
              "k_stations               -0.340509  ...             1.000000\n",
              "platforms                -0.329520  ...             0.145978\n",
              "dist_to_mall              0.022822  ...            -0.028384\n",
              "k_malls                  -0.085931  ...             0.052744\n",
              "dist_to_econom            0.022822  ...            -0.028384\n",
              "k_econom                 -0.194845  ...             0.145323\n",
              "dist_to_phone_salons      0.022822  ...            -0.028384\n",
              "k_phone_salons           -0.260002  ...             0.374584\n",
              "k_near_station           -0.288113  ...             0.485405\n",
              "dist_to_platform         -0.032630  ...             0.042930\n",
              "k_near_platform          -0.592966  ...             0.470545\n",
              "dist_to_department_store -0.054281  ...             0.052075\n",
              "k_near_department_store  -0.027065  ...             0.148226\n",
              "dist_to_second_hand      -0.045315  ...             0.038559\n",
              "k_near_second_hand       -0.289021  ...             0.681979\n",
              "dist_to_mobile_phone     -0.032857  ...             0.042564\n",
              "k_near_mobile_phone      -0.340509  ...             1.000000\n",
              "\n",
              "[21 rows x 21 columns]"
            ]
          },
          "metadata": {
            "tags": []
          },
          "execution_count": 157
        }
      ]
    },
    {
      "cell_type": "markdown",
      "metadata": {
        "id": "JdF1H9ONxgZT"
      },
      "source": [
        "Для тестовой выборки"
      ]
    },
    {
      "cell_type": "code",
      "metadata": {
        "id": "FplZbsrXwe0L"
      },
      "source": [
        ""
      ],
      "execution_count": null,
      "outputs": []
    },
    {
      "cell_type": "code",
      "metadata": {
        "id": "nPMIEJFjYTzE"
      },
      "source": [
        "# загрузка датасетов если что прервется\n",
        "geo_train.to_csv('geo_train.csv')\n",
        "geo_test.to_csv('geo_test.csv')"
      ],
      "execution_count": null,
      "outputs": []
    },
    {
      "cell_type": "code",
      "metadata": {
        "id": "0NWC4SxkEnS7",
        "colab": {
          "base_uri": "https://localhost:8080/"
        },
        "outputId": "bae21fe7-6ab3-40ad-f82a-29ea5c00db6d"
      },
      "source": [
        "geo_train.shape, geo_test.shape"
      ],
      "execution_count": null,
      "outputs": [
        {
          "output_type": "execute_result",
          "data": {
            "text/plain": [
              "((425, 17), (107, 17))"
            ]
          },
          "metadata": {
            "tags": []
          },
          "execution_count": 162
        }
      ]
    },
    {
      "cell_type": "code",
      "metadata": {
        "colab": {
          "base_uri": "https://localhost:8080/",
          "height": 552
        },
        "id": "IhNrKEX-aRYS",
        "outputId": "c25f0226-a906-47a8-d240-b0be1509065f"
      },
      "source": [
        "geo_train.head()"
      ],
      "execution_count": null,
      "outputs": [
        {
          "output_type": "execute_result",
          "data": {
            "text/html": [
              "<div>\n",
              "<style scoped>\n",
              "    .dataframe tbody tr th:only-of-type {\n",
              "        vertical-align: middle;\n",
              "    }\n",
              "\n",
              "    .dataframe tbody tr th {\n",
              "        vertical-align: top;\n",
              "    }\n",
              "\n",
              "    .dataframe thead th {\n",
              "        text-align: right;\n",
              "    }\n",
              "</style>\n",
              "<table border=\"1\" class=\"dataframe\">\n",
              "  <thead>\n",
              "    <tr style=\"text-align: right;\">\n",
              "      <th></th>\n",
              "      <th>point_id</th>\n",
              "      <th>lon</th>\n",
              "      <th>lat</th>\n",
              "      <th>target</th>\n",
              "      <th>city</th>\n",
              "      <th>geometry</th>\n",
              "      <th>area</th>\n",
              "      <th>dist_to_station</th>\n",
              "      <th>k_stations</th>\n",
              "      <th>platforms</th>\n",
              "      <th>dist_to_mall</th>\n",
              "      <th>k_malls</th>\n",
              "      <th>dist_to_econom</th>\n",
              "      <th>k_econom</th>\n",
              "      <th>dist_to_phone_salons</th>\n",
              "      <th>k_phone_salons</th>\n",
              "    </tr>\n",
              "  </thead>\n",
              "  <tbody>\n",
              "    <tr>\n",
              "      <th>0</th>\n",
              "      <td>ommNZCUV</td>\n",
              "      <td>37.590776</td>\n",
              "      <td>55.848630</td>\n",
              "      <td>-0.348157</td>\n",
              "      <td>Москва</td>\n",
              "      <td>POINT (37.59078 55.84863)</td>\n",
              "      <td>POLYGON ((37.60078 55.84863, 37.60073 55.84765...</td>\n",
              "      <td>13.135333</td>\n",
              "      <td>7.0</td>\n",
              "      <td>27.0</td>\n",
              "      <td>4723.870534</td>\n",
              "      <td>0.0</td>\n",
              "      <td>7.623627</td>\n",
              "      <td>2.0</td>\n",
              "      <td>13.135333</td>\n",
              "      <td>7.0</td>\n",
              "    </tr>\n",
              "    <tr>\n",
              "      <th>1</th>\n",
              "      <td>nMe2LHPb</td>\n",
              "      <td>37.784210</td>\n",
              "      <td>55.750271</td>\n",
              "      <td>1.294206</td>\n",
              "      <td>Москва</td>\n",
              "      <td>POINT (37.78421 55.75027)</td>\n",
              "      <td>POLYGON ((37.79421 55.75027, 37.79416 55.74929...</td>\n",
              "      <td>100000.000000</td>\n",
              "      <td>8.0</td>\n",
              "      <td>37.0</td>\n",
              "      <td>100000.000000</td>\n",
              "      <td>0.0</td>\n",
              "      <td>100000.000000</td>\n",
              "      <td>2.0</td>\n",
              "      <td>100000.000000</td>\n",
              "      <td>8.0</td>\n",
              "    </tr>\n",
              "    <tr>\n",
              "      <th>2</th>\n",
              "      <td>ZgodVRqB</td>\n",
              "      <td>39.635721</td>\n",
              "      <td>47.213330</td>\n",
              "      <td>-1.039679</td>\n",
              "      <td>Ростов-на-Дону</td>\n",
              "      <td>POINT (39.63572 47.21333)</td>\n",
              "      <td>POLYGON ((39.64572 47.21333, 39.64567 47.21235...</td>\n",
              "      <td>1840.489679</td>\n",
              "      <td>0.0</td>\n",
              "      <td>0.0</td>\n",
              "      <td>100000.000000</td>\n",
              "      <td>0.0</td>\n",
              "      <td>100000.000000</td>\n",
              "      <td>0.0</td>\n",
              "      <td>100000.000000</td>\n",
              "      <td>0.0</td>\n",
              "    </tr>\n",
              "    <tr>\n",
              "      <th>3</th>\n",
              "      <td>0t2jNYdz</td>\n",
              "      <td>37.704570</td>\n",
              "      <td>55.782020</td>\n",
              "      <td>-1.169339</td>\n",
              "      <td>Москва</td>\n",
              "      <td>POINT (37.70457 55.78202)</td>\n",
              "      <td>POLYGON ((37.71457 55.78202, 37.71452 55.78104...</td>\n",
              "      <td>100000.000000</td>\n",
              "      <td>7.0</td>\n",
              "      <td>22.0</td>\n",
              "      <td>100000.000000</td>\n",
              "      <td>0.0</td>\n",
              "      <td>100000.000000</td>\n",
              "      <td>0.0</td>\n",
              "      <td>100000.000000</td>\n",
              "      <td>7.0</td>\n",
              "    </tr>\n",
              "    <tr>\n",
              "      <th>4</th>\n",
              "      <td>U27W4QJ7</td>\n",
              "      <td>37.643983</td>\n",
              "      <td>55.730188</td>\n",
              "      <td>-0.088837</td>\n",
              "      <td>Москва</td>\n",
              "      <td>POINT (37.64398 55.73019)</td>\n",
              "      <td>POLYGON ((37.65398 55.73019, 37.65393 55.72921...</td>\n",
              "      <td>100000.000000</td>\n",
              "      <td>12.0</td>\n",
              "      <td>21.0</td>\n",
              "      <td>100000.000000</td>\n",
              "      <td>0.0</td>\n",
              "      <td>100000.000000</td>\n",
              "      <td>0.0</td>\n",
              "      <td>100000.000000</td>\n",
              "      <td>12.0</td>\n",
              "    </tr>\n",
              "  </tbody>\n",
              "</table>\n",
              "</div>"
            ],
            "text/plain": [
              "   point_id        lon  ...  dist_to_phone_salons  k_phone_salons\n",
              "0  ommNZCUV  37.590776  ...             13.135333             7.0\n",
              "1  nMe2LHPb  37.784210  ...         100000.000000             8.0\n",
              "2  ZgodVRqB  39.635721  ...         100000.000000             0.0\n",
              "3  0t2jNYdz  37.704570  ...         100000.000000             7.0\n",
              "4  U27W4QJ7  37.643983  ...         100000.000000            12.0\n",
              "\n",
              "[5 rows x 16 columns]"
            ]
          },
          "metadata": {
            "tags": []
          },
          "execution_count": 142
        }
      ]
    },
    {
      "cell_type": "code",
      "metadata": {
        "id": "GjFWj5Ew_EFx",
        "colab": {
          "base_uri": "https://localhost:8080/",
          "height": 135
        },
        "outputId": "a22b3af4-6e56-4a9a-9e5c-a65d09bda68e"
      },
      "source": [
        "geo_test.head(3)"
      ],
      "execution_count": null,
      "outputs": [
        {
          "output_type": "execute_result",
          "data": {
            "text/html": [
              "<div>\n",
              "<style scoped>\n",
              "    .dataframe tbody tr th:only-of-type {\n",
              "        vertical-align: middle;\n",
              "    }\n",
              "\n",
              "    .dataframe tbody tr th {\n",
              "        vertical-align: top;\n",
              "    }\n",
              "\n",
              "    .dataframe thead th {\n",
              "        text-align: right;\n",
              "    }\n",
              "</style>\n",
              "<table border=\"1\" class=\"dataframe\">\n",
              "  <thead>\n",
              "    <tr style=\"text-align: right;\">\n",
              "      <th></th>\n",
              "      <th>point_id</th>\n",
              "      <th>lon</th>\n",
              "      <th>lat</th>\n",
              "      <th>target</th>\n",
              "      <th>city</th>\n",
              "      <th>geometry</th>\n",
              "      <th>area</th>\n",
              "      <th>dist_to_station</th>\n",
              "      <th>k_stations</th>\n",
              "    </tr>\n",
              "  </thead>\n",
              "  <tbody>\n",
              "    <tr>\n",
              "      <th>0</th>\n",
              "      <td>F4lXR1cG</td>\n",
              "      <td>37.681242</td>\n",
              "      <td>55.748040</td>\n",
              "      <td>0.0091</td>\n",
              "      <td>Москва</td>\n",
              "      <td>POINT (37.68124 55.74804)</td>\n",
              "      <td>POLYGON ((37.69124 55.74804, 37.69119 55.74706...</td>\n",
              "      <td>7.142190</td>\n",
              "      <td>6.0</td>\n",
              "    </tr>\n",
              "    <tr>\n",
              "      <th>1</th>\n",
              "      <td>4LJu4GTf</td>\n",
              "      <td>60.580910</td>\n",
              "      <td>56.795860</td>\n",
              "      <td>0.0091</td>\n",
              "      <td>Екатеринбург</td>\n",
              "      <td>POINT (60.58091 56.79586)</td>\n",
              "      <td>POLYGON ((60.59091 56.79586, 60.59086 56.79488...</td>\n",
              "      <td>2920.586428</td>\n",
              "      <td>0.0</td>\n",
              "    </tr>\n",
              "    <tr>\n",
              "      <th>2</th>\n",
              "      <td>kLuAAN3s</td>\n",
              "      <td>37.598614</td>\n",
              "      <td>55.781357</td>\n",
              "      <td>0.0091</td>\n",
              "      <td>Москва</td>\n",
              "      <td>POINT (37.59861 55.78136)</td>\n",
              "      <td>POLYGON ((37.60861 55.78136, 37.60857 55.78038...</td>\n",
              "      <td>100000.000000</td>\n",
              "      <td>9.0</td>\n",
              "    </tr>\n",
              "  </tbody>\n",
              "</table>\n",
              "</div>"
            ],
            "text/plain": [
              "   point_id        lon  ...  dist_to_station  k_stations\n",
              "0  F4lXR1cG  37.681242  ...         7.142190         6.0\n",
              "1  4LJu4GTf  60.580910  ...      2920.586428         0.0\n",
              "2  kLuAAN3s  37.598614  ...    100000.000000         9.0\n",
              "\n",
              "[3 rows x 9 columns]"
            ]
          },
          "metadata": {
            "tags": []
          },
          "execution_count": 141
        }
      ]
    },
    {
      "cell_type": "markdown",
      "metadata": {
        "id": "AUqzrqpC2nlr"
      },
      "source": [
        "#### Подготовка данных"
      ]
    },
    {
      "cell_type": "code",
      "metadata": {
        "id": "w__qpZbfBxlp"
      },
      "source": [
        "from sklearn.preprocessing import StandardScaler\n",
        "from sklearn.preprocessing import PolynomialFeatures"
      ],
      "execution_count": null,
      "outputs": []
    },
    {
      "cell_type": "code",
      "metadata": {
        "id": "UkiuCGdqE4e9",
        "colab": {
          "base_uri": "https://localhost:8080/",
          "height": 1000
        },
        "outputId": "ce26f3e6-67d8-40ad-83b9-ed683deea116"
      },
      "source": [
        "X_train = pd.concat([geo_train, geo_test], axis = 0)\n",
        "X_train"
      ],
      "execution_count": null,
      "outputs": [
        {
          "output_type": "execute_result",
          "data": {
            "text/html": [
              "<div>\n",
              "<style scoped>\n",
              "    .dataframe tbody tr th:only-of-type {\n",
              "        vertical-align: middle;\n",
              "    }\n",
              "\n",
              "    .dataframe tbody tr th {\n",
              "        vertical-align: top;\n",
              "    }\n",
              "\n",
              "    .dataframe thead th {\n",
              "        text-align: right;\n",
              "    }\n",
              "</style>\n",
              "<table border=\"1\" class=\"dataframe\">\n",
              "  <thead>\n",
              "    <tr style=\"text-align: right;\">\n",
              "      <th></th>\n",
              "      <th>point_id</th>\n",
              "      <th>lon</th>\n",
              "      <th>lat</th>\n",
              "      <th>target</th>\n",
              "      <th>city</th>\n",
              "      <th>geometry</th>\n",
              "      <th>area</th>\n",
              "      <th>dist_to_station</th>\n",
              "      <th>k_near_station</th>\n",
              "      <th>dist_to_platform</th>\n",
              "      <th>k_near_platform</th>\n",
              "      <th>dist_to_department_store</th>\n",
              "      <th>k_near_department_store</th>\n",
              "      <th>dist_to_second_hand</th>\n",
              "      <th>k_near_second_hand</th>\n",
              "      <th>dist_to_mobile_phone</th>\n",
              "      <th>k_near_mobile_phone</th>\n",
              "    </tr>\n",
              "  </thead>\n",
              "  <tbody>\n",
              "    <tr>\n",
              "      <th>0</th>\n",
              "      <td>ommNZCUV</td>\n",
              "      <td>37.590776</td>\n",
              "      <td>55.848630</td>\n",
              "      <td>-0.348157</td>\n",
              "      <td>Москва</td>\n",
              "      <td>POINT (37.59078 55.84863)</td>\n",
              "      <td>POLYGON ((37.60078 55.84863, 37.60073 55.84765...</td>\n",
              "      <td>8165.935969</td>\n",
              "      <td>2.0</td>\n",
              "      <td>25.172446</td>\n",
              "      <td>27.0</td>\n",
              "      <td>4723.870534</td>\n",
              "      <td>0.0</td>\n",
              "      <td>7.623627</td>\n",
              "      <td>2.0</td>\n",
              "      <td>13.135333</td>\n",
              "      <td>7.0</td>\n",
              "    </tr>\n",
              "    <tr>\n",
              "      <th>1</th>\n",
              "      <td>nMe2LHPb</td>\n",
              "      <td>37.784210</td>\n",
              "      <td>55.750271</td>\n",
              "      <td>1.294206</td>\n",
              "      <td>Москва</td>\n",
              "      <td>POINT (37.78421 55.75027)</td>\n",
              "      <td>POLYGON ((37.79421 55.75027, 37.79416 55.74929...</td>\n",
              "      <td>100000.000000</td>\n",
              "      <td>1.0</td>\n",
              "      <td>100000.000000</td>\n",
              "      <td>37.0</td>\n",
              "      <td>100000.000000</td>\n",
              "      <td>0.0</td>\n",
              "      <td>100000.000000</td>\n",
              "      <td>2.0</td>\n",
              "      <td>100000.000000</td>\n",
              "      <td>8.0</td>\n",
              "    </tr>\n",
              "    <tr>\n",
              "      <th>2</th>\n",
              "      <td>ZgodVRqB</td>\n",
              "      <td>39.635721</td>\n",
              "      <td>47.213330</td>\n",
              "      <td>-1.039679</td>\n",
              "      <td>Ростов-на-Дону</td>\n",
              "      <td>POINT (39.63572 47.21333)</td>\n",
              "      <td>POLYGON ((39.64572 47.21333, 39.64567 47.21235...</td>\n",
              "      <td>2674.668488</td>\n",
              "      <td>0.0</td>\n",
              "      <td>67.448751</td>\n",
              "      <td>20.0</td>\n",
              "      <td>618.086126</td>\n",
              "      <td>1.0</td>\n",
              "      <td>1026.333593</td>\n",
              "      <td>0.0</td>\n",
              "      <td>1840.489679</td>\n",
              "      <td>0.0</td>\n",
              "    </tr>\n",
              "    <tr>\n",
              "      <th>3</th>\n",
              "      <td>0t2jNYdz</td>\n",
              "      <td>37.704570</td>\n",
              "      <td>55.782020</td>\n",
              "      <td>-1.169339</td>\n",
              "      <td>Москва</td>\n",
              "      <td>POINT (37.70457 55.78202)</td>\n",
              "      <td>POLYGON ((37.71457 55.78202, 37.71452 55.78104...</td>\n",
              "      <td>100000.000000</td>\n",
              "      <td>2.0</td>\n",
              "      <td>100000.000000</td>\n",
              "      <td>22.0</td>\n",
              "      <td>100000.000000</td>\n",
              "      <td>0.0</td>\n",
              "      <td>100000.000000</td>\n",
              "      <td>0.0</td>\n",
              "      <td>100000.000000</td>\n",
              "      <td>7.0</td>\n",
              "    </tr>\n",
              "    <tr>\n",
              "      <th>4</th>\n",
              "      <td>U27W4QJ7</td>\n",
              "      <td>37.643983</td>\n",
              "      <td>55.730188</td>\n",
              "      <td>-0.088837</td>\n",
              "      <td>Москва</td>\n",
              "      <td>POINT (37.64398 55.73019)</td>\n",
              "      <td>POLYGON ((37.65398 55.73019, 37.65393 55.72921...</td>\n",
              "      <td>100000.000000</td>\n",
              "      <td>3.0</td>\n",
              "      <td>100000.000000</td>\n",
              "      <td>21.0</td>\n",
              "      <td>100000.000000</td>\n",
              "      <td>0.0</td>\n",
              "      <td>100000.000000</td>\n",
              "      <td>0.0</td>\n",
              "      <td>100000.000000</td>\n",
              "      <td>12.0</td>\n",
              "    </tr>\n",
              "    <tr>\n",
              "      <th>...</th>\n",
              "      <td>...</td>\n",
              "      <td>...</td>\n",
              "      <td>...</td>\n",
              "      <td>...</td>\n",
              "      <td>...</td>\n",
              "      <td>...</td>\n",
              "      <td>...</td>\n",
              "      <td>...</td>\n",
              "      <td>...</td>\n",
              "      <td>...</td>\n",
              "      <td>...</td>\n",
              "      <td>...</td>\n",
              "      <td>...</td>\n",
              "      <td>...</td>\n",
              "      <td>...</td>\n",
              "      <td>...</td>\n",
              "      <td>...</td>\n",
              "    </tr>\n",
              "    <tr>\n",
              "      <th>102</th>\n",
              "      <td>y8oQuX5v</td>\n",
              "      <td>30.353777</td>\n",
              "      <td>60.049792</td>\n",
              "      <td>0.009100</td>\n",
              "      <td>Санкт-Петербург</td>\n",
              "      <td>POINT (30.35378 60.04979)</td>\n",
              "      <td>POLYGON ((30.36378 60.04979, 30.36373 60.04881...</td>\n",
              "      <td>100000.000000</td>\n",
              "      <td>1.0</td>\n",
              "      <td>100000.000000</td>\n",
              "      <td>26.0</td>\n",
              "      <td>100000.000000</td>\n",
              "      <td>0.0</td>\n",
              "      <td>100000.000000</td>\n",
              "      <td>2.0</td>\n",
              "      <td>100000.000000</td>\n",
              "      <td>4.0</td>\n",
              "    </tr>\n",
              "    <tr>\n",
              "      <th>103</th>\n",
              "      <td>4nmfqUw0</td>\n",
              "      <td>92.928927</td>\n",
              "      <td>56.116262</td>\n",
              "      <td>0.009100</td>\n",
              "      <td>Красноярск</td>\n",
              "      <td>POINT (92.92893 56.11626)</td>\n",
              "      <td>POLYGON ((92.93893 56.11626, 92.93888 56.11528...</td>\n",
              "      <td>100000.000000</td>\n",
              "      <td>0.0</td>\n",
              "      <td>100000.000000</td>\n",
              "      <td>0.0</td>\n",
              "      <td>100000.000000</td>\n",
              "      <td>0.0</td>\n",
              "      <td>100000.000000</td>\n",
              "      <td>0.0</td>\n",
              "      <td>100000.000000</td>\n",
              "      <td>0.0</td>\n",
              "    </tr>\n",
              "    <tr>\n",
              "      <th>104</th>\n",
              "      <td>N9O45mAh</td>\n",
              "      <td>93.015993</td>\n",
              "      <td>56.023697</td>\n",
              "      <td>0.009100</td>\n",
              "      <td>Красноярск</td>\n",
              "      <td>POINT (93.01599 56.02370)</td>\n",
              "      <td>POLYGON ((93.02599 56.02370, 93.02594 56.02272...</td>\n",
              "      <td>100000.000000</td>\n",
              "      <td>0.0</td>\n",
              "      <td>100000.000000</td>\n",
              "      <td>7.0</td>\n",
              "      <td>100000.000000</td>\n",
              "      <td>0.0</td>\n",
              "      <td>100000.000000</td>\n",
              "      <td>0.0</td>\n",
              "      <td>100000.000000</td>\n",
              "      <td>1.0</td>\n",
              "    </tr>\n",
              "    <tr>\n",
              "      <th>105</th>\n",
              "      <td>h2InCLKa</td>\n",
              "      <td>30.381172</td>\n",
              "      <td>59.871149</td>\n",
              "      <td>0.009100</td>\n",
              "      <td>Санкт-Петербург</td>\n",
              "      <td>POINT (30.38117 59.87115)</td>\n",
              "      <td>POLYGON ((30.39117 59.87115, 30.39112 59.87017...</td>\n",
              "      <td>100000.000000</td>\n",
              "      <td>1.0</td>\n",
              "      <td>100000.000000</td>\n",
              "      <td>26.0</td>\n",
              "      <td>100000.000000</td>\n",
              "      <td>0.0</td>\n",
              "      <td>100000.000000</td>\n",
              "      <td>2.0</td>\n",
              "      <td>100000.000000</td>\n",
              "      <td>4.0</td>\n",
              "    </tr>\n",
              "    <tr>\n",
              "      <th>106</th>\n",
              "      <td>TQKiIgFt</td>\n",
              "      <td>30.279244</td>\n",
              "      <td>59.942110</td>\n",
              "      <td>0.009100</td>\n",
              "      <td>Санкт-Петербург</td>\n",
              "      <td>POINT (30.27924 59.94211)</td>\n",
              "      <td>POLYGON ((30.28924 59.94211, 30.28920 59.94113...</td>\n",
              "      <td>100000.000000</td>\n",
              "      <td>1.0</td>\n",
              "      <td>100000.000000</td>\n",
              "      <td>32.0</td>\n",
              "      <td>100000.000000</td>\n",
              "      <td>0.0</td>\n",
              "      <td>100000.000000</td>\n",
              "      <td>2.0</td>\n",
              "      <td>100000.000000</td>\n",
              "      <td>9.0</td>\n",
              "    </tr>\n",
              "  </tbody>\n",
              "</table>\n",
              "<p>532 rows × 17 columns</p>\n",
              "</div>"
            ],
            "text/plain": [
              "     point_id        lon  ...  dist_to_mobile_phone  k_near_mobile_phone\n",
              "0    ommNZCUV  37.590776  ...             13.135333                  7.0\n",
              "1    nMe2LHPb  37.784210  ...         100000.000000                  8.0\n",
              "2    ZgodVRqB  39.635721  ...           1840.489679                  0.0\n",
              "3    0t2jNYdz  37.704570  ...         100000.000000                  7.0\n",
              "4    U27W4QJ7  37.643983  ...         100000.000000                 12.0\n",
              "..        ...        ...  ...                   ...                  ...\n",
              "102  y8oQuX5v  30.353777  ...         100000.000000                  4.0\n",
              "103  4nmfqUw0  92.928927  ...         100000.000000                  0.0\n",
              "104  N9O45mAh  93.015993  ...         100000.000000                  1.0\n",
              "105  h2InCLKa  30.381172  ...         100000.000000                  4.0\n",
              "106  TQKiIgFt  30.279244  ...         100000.000000                  9.0\n",
              "\n",
              "[532 rows x 17 columns]"
            ]
          },
          "metadata": {
            "tags": []
          },
          "execution_count": 163
        }
      ]
    },
    {
      "cell_type": "code",
      "metadata": {
        "id": "5dE1J51GBk9p",
        "colab": {
          "base_uri": "https://localhost:8080/"
        },
        "outputId": "38318bca-abf7-4708-c427-21829eb3eade"
      },
      "source": [
        "y = X_train[['target']]\n",
        "X_train = X_train.drop(['point_id', 'geometry', 'area', 'target', 'city'], axis = 1)\n",
        "\n",
        "poly = PolynomialFeatures(3)\n",
        "X_train = poly.fit_transform(X_train)\n",
        "X_train = StandardScaler().fit_transform(X_train)\n",
        "X_train"
      ],
      "execution_count": null,
      "outputs": [
        {
          "output_type": "execute_result",
          "data": {
            "text/plain": [
              "array([[ 0.        , -0.47117975, -0.05197439, ..., -0.76516467,\n",
              "        -0.30964557, -0.09537764],\n",
              "       [ 0.        , -0.45965588, -0.08802669, ...,  0.78188535,\n",
              "         0.15779463, -0.05894148],\n",
              "       [ 0.        , -0.3493518 , -3.21713941, ..., -0.76516469,\n",
              "        -0.30969258, -0.16932794],\n",
              "       ...,\n",
              "       [ 0.        ,  2.83078703,  0.01219431, ..., -0.57178344,\n",
              "        -0.3023881 , -0.16911234],\n",
              "       [ 0.        , -0.90069314,  1.42243142, ...,  0.00836033,\n",
              "        -0.19282078, -0.15552963],\n",
              "       [ 0.        , -0.90676551,  1.44844132, ...,  0.9752666 ,\n",
              "         0.28197093, -0.0121566 ]])"
            ]
          },
          "metadata": {
            "tags": []
          },
          "execution_count": 164
        }
      ]
    },
    {
      "cell_type": "markdown",
      "metadata": {
        "id": "aJfJYdf1eP2a"
      },
      "source": [
        "### Fit model"
      ]
    },
    {
      "cell_type": "markdown",
      "metadata": {
        "id": "ZQvU_FtNHKZT"
      },
      "source": [
        "Использую Лассо всместо лин. регрессии\n"
      ]
    },
    {
      "cell_type": "code",
      "metadata": {
        "id": "qPmrd6h-ELZW"
      },
      "source": [
        "from sklearn.linear_model import Lasso, Ridge"
      ],
      "execution_count": null,
      "outputs": []
    },
    {
      "cell_type": "code",
      "metadata": {
        "id": "uWBVtTuteP2a"
      },
      "source": [
        "X_train_, X_valid_, y_train_, y_valid_ = train_test_split(X_train, y, test_size = 107)\n",
        "model = Lasso().fit(X_train_, y_train_)"
      ],
      "execution_count": null,
      "outputs": []
    },
    {
      "cell_type": "code",
      "metadata": {
        "id": "-uXdpXQbeP2b",
        "colab": {
          "base_uri": "https://localhost:8080/"
        },
        "outputId": "c66fd8bd-35d2-4c66-ee57-b0079ef39fef"
      },
      "source": [
        "mean_absolute_error(y_valid_, model.predict(X_valid_))"
      ],
      "execution_count": null,
      "outputs": [
        {
          "output_type": "execute_result",
          "data": {
            "text/plain": [
              "0.6033969573191829"
            ]
          },
          "metadata": {
            "tags": []
          },
          "execution_count": 167
        }
      ]
    },
    {
      "cell_type": "markdown",
      "metadata": {
        "id": "IEPNQQtUeP2b"
      },
      "source": [
        "### Make submission"
      ]
    },
    {
      "cell_type": "code",
      "metadata": {
        "id": "DOxosF9XeP2b"
      },
      "source": [
        "submission = pd.read_csv('sample_submission.csv')\n",
        "submission['target'] = model.predict(X_valid_)\n",
        "submission.to_csv('my_submission_01.csv', index=False)"
      ],
      "execution_count": null,
      "outputs": []
    },
    {
      "cell_type": "code",
      "metadata": {
        "id": "HciyeyA2DFND"
      },
      "source": [
        ""
      ],
      "execution_count": null,
      "outputs": []
    }
  ]
}