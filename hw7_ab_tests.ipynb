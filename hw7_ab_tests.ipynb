{
  "nbformat": 4,
  "nbformat_minor": 0,
  "metadata": {
    "kernelspec": {
      "display_name": "Python 3",
      "language": "python",
      "name": "python3"
    },
    "language_info": {
      "codemirror_mode": {
        "name": "ipython",
        "version": 3
      },
      "file_extension": ".py",
      "mimetype": "text/x-python",
      "name": "python",
      "nbconvert_exporter": "python",
      "pygments_lexer": "ipython3",
      "version": "3.7.8"
    },
    "colab": {
      "name": "ABHomework8.ipynb",
      "provenance": [],
      "collapsed_sections": [],
      "toc_visible": true
    }
  },
  "cells": [
    {
      "cell_type": "markdown",
      "metadata": {
        "id": "I9-knEhLu1AB"
      },
      "source": [
        "## AB Tests"
      ]
    },
    {
      "cell_type": "code",
      "metadata": {
        "id": "H2PlamXvvKK9"
      },
      "source": [
        "import pandas as pd\n",
        "import numpy as np\n",
        "from scipy import stats\n",
        "import seaborn as sns\n",
        "import matplotlib.pyplot as plt\n",
        "from sklearn.linear_model import LinearRegression, LogisticRegression\n",
        "\n",
        "import warnings\n",
        "warnings.filterwarnings('ignore')"
      ],
      "execution_count": null,
      "outputs": []
    },
    {
      "cell_type": "markdown",
      "metadata": {
        "id": "qJY8XIOZu1AC"
      },
      "source": [
        "### 1. Оценка результатов AB теста"
      ]
    },
    {
      "cell_type": "markdown",
      "metadata": {
        "id": "rq0p70dAu1AE"
      },
      "source": [
        "В данном задании вам требуется оценить результаты AB теста. Даны результаты на контрольной и тестовой группе после проведения AB теста.\n",
        "Помимо показателей целевой переменной, вам даны также несколько фичей, которые являются характеристиками объектов. Даны целевые показатели (y) и принадлежность к целевой группе (W).\n",
        "\n",
        "</u>Задача:</u>\n",
        "1. Проверьте подходящую для данных гипотезу о равенстве средних в выборках\n",
        "2. Каков treatment effect нашего воздействия? (ATE) \n",
        "3. Примените известные вам методы оценки ATE с учетом особенностей данных.\n",
        "4. Проанализируйте, сравните результаты применения различных методов.\n",
        "5. В явном виде выпишите выводы.\n",
        "\n",
        "</i>Примечание: предположения о рандомизированном эксперименте нуждаются в проверке - независимость treatment от объектов не гарантирована. Все предположения выписывайте явно.</i> \n",
        "\n",
        "Для данной задачи используется dataset:  dataset_part1_students.csv"
      ]
    },
    {
      "cell_type": "code",
      "metadata": {
        "colab": {
          "base_uri": "https://localhost:8080/",
          "height": 106
        },
        "id": "qmicGkHau2fA",
        "outputId": "dfef43c3-184b-4195-afa9-be0d5684ec7b"
      },
      "source": [
        "data1 = pd.read_csv('dataset_part1_students.csv', sep = '\\t')\n",
        "data1.head(2)"
      ],
      "execution_count": null,
      "outputs": [
        {
          "output_type": "execute_result",
          "data": {
            "text/html": [
              "<div>\n",
              "<style scoped>\n",
              "    .dataframe tbody tr th:only-of-type {\n",
              "        vertical-align: middle;\n",
              "    }\n",
              "\n",
              "    .dataframe tbody tr th {\n",
              "        vertical-align: top;\n",
              "    }\n",
              "\n",
              "    .dataframe thead th {\n",
              "        text-align: right;\n",
              "    }\n",
              "</style>\n",
              "<table border=\"1\" class=\"dataframe\">\n",
              "  <thead>\n",
              "    <tr style=\"text-align: right;\">\n",
              "      <th></th>\n",
              "      <th>y</th>\n",
              "      <th>W</th>\n",
              "      <th>X_1</th>\n",
              "      <th>X_2</th>\n",
              "      <th>X_3</th>\n",
              "      <th>X_4</th>\n",
              "      <th>X_5</th>\n",
              "      <th>X_6</th>\n",
              "      <th>X_7</th>\n",
              "      <th>X_8</th>\n",
              "      <th>X_9</th>\n",
              "      <th>X_10</th>\n",
              "    </tr>\n",
              "  </thead>\n",
              "  <tbody>\n",
              "    <tr>\n",
              "      <th>0</th>\n",
              "      <td>-1.459404</td>\n",
              "      <td>0.0</td>\n",
              "      <td>0.986277</td>\n",
              "      <td>0.873392</td>\n",
              "      <td>0.509746</td>\n",
              "      <td>0.271836</td>\n",
              "      <td>0.336919</td>\n",
              "      <td>0.216954</td>\n",
              "      <td>0.276477</td>\n",
              "      <td>0.343316</td>\n",
              "      <td>0.862159</td>\n",
              "      <td>0.156700</td>\n",
              "    </tr>\n",
              "    <tr>\n",
              "      <th>1</th>\n",
              "      <td>-1.694174</td>\n",
              "      <td>0.0</td>\n",
              "      <td>0.140887</td>\n",
              "      <td>0.757080</td>\n",
              "      <td>0.736325</td>\n",
              "      <td>0.355663</td>\n",
              "      <td>0.341093</td>\n",
              "      <td>0.666803</td>\n",
              "      <td>0.217101</td>\n",
              "      <td>0.561427</td>\n",
              "      <td>0.124179</td>\n",
              "      <td>0.319736</td>\n",
              "    </tr>\n",
              "  </tbody>\n",
              "</table>\n",
              "</div>"
            ],
            "text/plain": [
              "          y    W       X_1       X_2  ...       X_7       X_8       X_9      X_10\n",
              "0 -1.459404  0.0  0.986277  0.873392  ...  0.276477  0.343316  0.862159  0.156700\n",
              "1 -1.694174  0.0  0.140887  0.757080  ...  0.217101  0.561427  0.124179  0.319736\n",
              "\n",
              "[2 rows x 12 columns]"
            ]
          },
          "metadata": {
            "tags": []
          },
          "execution_count": 3
        }
      ]
    },
    {
      "cell_type": "code",
      "metadata": {
        "colab": {
          "base_uri": "https://localhost:8080/",
          "height": 302
        },
        "id": "lnMLeW4sEU7U",
        "outputId": "d8ba3a8b-5aa1-4fa6-bcb9-0936577fb0a2"
      },
      "source": [
        "data1.describe()"
      ],
      "execution_count": null,
      "outputs": [
        {
          "output_type": "execute_result",
          "data": {
            "text/html": [
              "<div>\n",
              "<style scoped>\n",
              "    .dataframe tbody tr th:only-of-type {\n",
              "        vertical-align: middle;\n",
              "    }\n",
              "\n",
              "    .dataframe tbody tr th {\n",
              "        vertical-align: top;\n",
              "    }\n",
              "\n",
              "    .dataframe thead th {\n",
              "        text-align: right;\n",
              "    }\n",
              "</style>\n",
              "<table border=\"1\" class=\"dataframe\">\n",
              "  <thead>\n",
              "    <tr style=\"text-align: right;\">\n",
              "      <th></th>\n",
              "      <th>y</th>\n",
              "      <th>W</th>\n",
              "      <th>X_1</th>\n",
              "      <th>X_2</th>\n",
              "      <th>X_3</th>\n",
              "      <th>X_4</th>\n",
              "      <th>X_5</th>\n",
              "      <th>X_6</th>\n",
              "      <th>X_7</th>\n",
              "      <th>X_8</th>\n",
              "      <th>X_9</th>\n",
              "      <th>X_10</th>\n",
              "    </tr>\n",
              "  </thead>\n",
              "  <tbody>\n",
              "    <tr>\n",
              "      <th>count</th>\n",
              "      <td>20000.000000</td>\n",
              "      <td>20000.000000</td>\n",
              "      <td>20000.000000</td>\n",
              "      <td>20000.000000</td>\n",
              "      <td>20000.000000</td>\n",
              "      <td>20000.000000</td>\n",
              "      <td>20000.000000</td>\n",
              "      <td>20000.000000</td>\n",
              "      <td>20000.000000</td>\n",
              "      <td>20000.000000</td>\n",
              "      <td>20000.000000</td>\n",
              "      <td>20000.000000</td>\n",
              "    </tr>\n",
              "    <tr>\n",
              "      <th>mean</th>\n",
              "      <td>2.075323</td>\n",
              "      <td>0.522300</td>\n",
              "      <td>0.501970</td>\n",
              "      <td>0.496674</td>\n",
              "      <td>0.501623</td>\n",
              "      <td>0.501036</td>\n",
              "      <td>0.497661</td>\n",
              "      <td>0.501234</td>\n",
              "      <td>0.497832</td>\n",
              "      <td>0.496958</td>\n",
              "      <td>0.499980</td>\n",
              "      <td>0.498894</td>\n",
              "    </tr>\n",
              "    <tr>\n",
              "      <th>std</th>\n",
              "      <td>3.035037</td>\n",
              "      <td>0.499515</td>\n",
              "      <td>0.288250</td>\n",
              "      <td>0.289476</td>\n",
              "      <td>0.289892</td>\n",
              "      <td>0.288132</td>\n",
              "      <td>0.288567</td>\n",
              "      <td>0.288967</td>\n",
              "      <td>0.287840</td>\n",
              "      <td>0.288291</td>\n",
              "      <td>0.288345</td>\n",
              "      <td>0.287987</td>\n",
              "    </tr>\n",
              "    <tr>\n",
              "      <th>min</th>\n",
              "      <td>-9.047982</td>\n",
              "      <td>0.000000</td>\n",
              "      <td>0.000159</td>\n",
              "      <td>0.000013</td>\n",
              "      <td>0.000057</td>\n",
              "      <td>0.000028</td>\n",
              "      <td>0.000004</td>\n",
              "      <td>0.000073</td>\n",
              "      <td>0.000110</td>\n",
              "      <td>0.000057</td>\n",
              "      <td>0.000012</td>\n",
              "      <td>0.000013</td>\n",
              "    </tr>\n",
              "    <tr>\n",
              "      <th>25%</th>\n",
              "      <td>0.026237</td>\n",
              "      <td>0.000000</td>\n",
              "      <td>0.251363</td>\n",
              "      <td>0.244871</td>\n",
              "      <td>0.251427</td>\n",
              "      <td>0.250494</td>\n",
              "      <td>0.250537</td>\n",
              "      <td>0.250726</td>\n",
              "      <td>0.249500</td>\n",
              "      <td>0.247673</td>\n",
              "      <td>0.251035</td>\n",
              "      <td>0.250138</td>\n",
              "    </tr>\n",
              "    <tr>\n",
              "      <th>50%</th>\n",
              "      <td>2.075935</td>\n",
              "      <td>1.000000</td>\n",
              "      <td>0.503203</td>\n",
              "      <td>0.496624</td>\n",
              "      <td>0.504957</td>\n",
              "      <td>0.498941</td>\n",
              "      <td>0.498581</td>\n",
              "      <td>0.499502</td>\n",
              "      <td>0.499507</td>\n",
              "      <td>0.492757</td>\n",
              "      <td>0.499955</td>\n",
              "      <td>0.500853</td>\n",
              "    </tr>\n",
              "    <tr>\n",
              "      <th>75%</th>\n",
              "      <td>4.140186</td>\n",
              "      <td>1.000000</td>\n",
              "      <td>0.751609</td>\n",
              "      <td>0.745780</td>\n",
              "      <td>0.753342</td>\n",
              "      <td>0.752575</td>\n",
              "      <td>0.746653</td>\n",
              "      <td>0.752015</td>\n",
              "      <td>0.744436</td>\n",
              "      <td>0.746960</td>\n",
              "      <td>0.748775</td>\n",
              "      <td>0.745164</td>\n",
              "    </tr>\n",
              "    <tr>\n",
              "      <th>max</th>\n",
              "      <td>13.895502</td>\n",
              "      <td>1.000000</td>\n",
              "      <td>0.999966</td>\n",
              "      <td>0.999936</td>\n",
              "      <td>0.999960</td>\n",
              "      <td>0.999987</td>\n",
              "      <td>0.999948</td>\n",
              "      <td>0.999885</td>\n",
              "      <td>0.999970</td>\n",
              "      <td>0.999913</td>\n",
              "      <td>0.999906</td>\n",
              "      <td>0.999982</td>\n",
              "    </tr>\n",
              "  </tbody>\n",
              "</table>\n",
              "</div>"
            ],
            "text/plain": [
              "                  y             W  ...           X_9          X_10\n",
              "count  20000.000000  20000.000000  ...  20000.000000  20000.000000\n",
              "mean       2.075323      0.522300  ...      0.499980      0.498894\n",
              "std        3.035037      0.499515  ...      0.288345      0.287987\n",
              "min       -9.047982      0.000000  ...      0.000012      0.000013\n",
              "25%        0.026237      0.000000  ...      0.251035      0.250138\n",
              "50%        2.075935      1.000000  ...      0.499955      0.500853\n",
              "75%        4.140186      1.000000  ...      0.748775      0.745164\n",
              "max       13.895502      1.000000  ...      0.999906      0.999982\n",
              "\n",
              "[8 rows x 12 columns]"
            ]
          },
          "metadata": {
            "tags": []
          },
          "execution_count": 4
        }
      ]
    },
    {
      "cell_type": "code",
      "metadata": {
        "colab": {
          "base_uri": "https://localhost:8080/"
        },
        "id": "J3PgippSEcUg",
        "outputId": "20205f18-2a08-40b8-a610-686b367ec4ed"
      },
      "source": [
        "data1.W.unique()"
      ],
      "execution_count": null,
      "outputs": [
        {
          "output_type": "execute_result",
          "data": {
            "text/plain": [
              "array([0., 1.])"
            ]
          },
          "metadata": {
            "tags": []
          },
          "execution_count": 5
        }
      ]
    },
    {
      "cell_type": "markdown",
      "metadata": {
        "id": "BroadzM1ww3b"
      },
      "source": [
        "**1 задача**. Проверять будем через критерий Стьюдента, тк истинные значения дисперсий мы не знаем. В качестве нулевой гипотезы у нас равенство средних двух выборок, есть двухстороняя альтернатива(среднее больше или меньше)."
      ]
    },
    {
      "cell_type": "code",
      "metadata": {
        "colab": {
          "base_uri": "https://localhost:8080/"
        },
        "id": "DI0vM8vXFXiz",
        "outputId": "12d414a4-b6e8-4321-e857-977b108f151d"
      },
      "source": [
        "stats.ttest_ind(data1[data1.W == 0].y.values, \n",
        "                data1[data1.W == 1].y.values)"
      ],
      "execution_count": null,
      "outputs": [
        {
          "output_type": "execute_result",
          "data": {
            "text/plain": [
              "Ttest_indResult(statistic=-9.332400850259313, pvalue=1.1400916649505329e-20)"
            ]
          },
          "metadata": {
            "tags": []
          },
          "execution_count": 6
        }
      ]
    },
    {
      "cell_type": "code",
      "metadata": {
        "colab": {
          "base_uri": "https://localhost:8080/"
        },
        "id": "JznbvxXSwweJ",
        "outputId": "3a162875-33d1-47e0-e257-f152294275ee"
      },
      "source": [
        "ser = np.zeros(10)\n",
        "for i in range(2, 12):\n",
        "  ser[i-2] = stats.ttest_ind(data1[data1.W == 0].iloc[:,i].values, \n",
        "                                data1[data1.W == 1].iloc[:,i].values).pvalue\n",
        "ser"
      ],
      "execution_count": null,
      "outputs": [
        {
          "output_type": "execute_result",
          "data": {
            "text/plain": [
              "array([0.        , 0.        , 0.05853151, 0.41427358, 0.92892563,\n",
              "       0.52967332, 0.67738298, 0.8871715 , 0.76537788, 0.79707183])"
            ]
          },
          "metadata": {
            "tags": []
          },
          "execution_count": 7
        }
      ]
    },
    {
      "cell_type": "markdown",
      "metadata": {
        "id": "-UJ_Nk4d_3qs"
      },
      "source": [
        "Выводы:\n",
        "* С уверенностью(уровень значимости при проверке гипотезы о равенстве средних = 1.14е-20 << 0.05) можем сказать, что на целевой выборке *у* средние в разных группах не равны.\n",
        "* Оказалось, что на уровне значимости 0.95 мы можем отвернуть гипотезы о равенстве средних у выборок *Х_1, Х_2* из 10 указанных признаков *(уровень значимости у выборки **Х_3** оказался чуть выше 0.5, про него возможно сказать, что средние там отличаются)* после воздействия, на остальных выборках гипотезу о равенстве средних у групп отвергнуть нельзя."
      ]
    },
    {
      "cell_type": "markdown",
      "metadata": {
        "id": "0J-wzBSkCatx"
      },
      "source": [
        "**2-3 задача**. Эффект воздействия. "
      ]
    },
    {
      "cell_type": "markdown",
      "metadata": {
        "id": "iVJcn7yXVF22"
      },
      "source": [
        "Для начала, чтобы определить независимо ли распределение объектов от treatment, необходимо проверить гипотезу о равенстве распределений. Воспользуемся критерием согласия Хи-квадрат."
      ]
    },
    {
      "cell_type": "code",
      "metadata": {
        "colab": {
          "base_uri": "https://localhost:8080/"
        },
        "id": "zf91gD9naxiT",
        "outputId": "67a1b21b-5cca-4973-8b5f-648018a580cb"
      },
      "source": [
        "# критерий Хи-квадрат\n",
        "a = -11\n",
        "b = 16\n",
        "n = 12\n",
        "\n",
        "ar_1 = np.zeros(n)\n",
        "ar_0 = np.zeros(n)\n",
        "for i in range(n):\n",
        "  left_bound, right_bound = a + i*(b-a)/n, a + (i+1)*(b-a)/n\n",
        "  ar_1[i] = np.where((data1[data1.W == 1].y > left_bound) & \n",
        "                     (data1[data1.W == 1].y < right_bound), 1, 0).sum()/data1[data1.W == 1].y.shape[0]\n",
        "  ar_0[i] = np.where((data1[data1.W == 0].y > left_bound) & \n",
        "                     (data1[data1.W == 0].y < right_bound), 1, 0).sum()/data1[data1.W == 0].y.shape[0]\n",
        "\n",
        "stats.chisquare(ar_1, ar_0)"
      ],
      "execution_count": null,
      "outputs": [
        {
          "output_type": "execute_result",
          "data": {
            "text/plain": [
              "Power_divergenceResult(statistic=0.020223553900870318, pvalue=0.9999999999999634)"
            ]
          },
          "metadata": {
            "tags": []
          },
          "execution_count": 8
        }
      ]
    },
    {
      "cell_type": "code",
      "metadata": {
        "colab": {
          "base_uri": "https://localhost:8080/",
          "height": 404
        },
        "id": "zPSMVUR4kqKO",
        "outputId": "bace9f92-e678-4949-a171-176fd8f29437"
      },
      "source": [
        "plt.figure(figsize = (10, 6))\n",
        "sns.distplot(data1[data1.W == 1].y, label = 'W = 1')\n",
        "sns.distplot(data1[data1.W == 0].y, label = 'W = 0')\n",
        "plt.title('Распределение целевого признака в разных группах')\n",
        "plt.legend()\n",
        "plt.show()"
      ],
      "execution_count": null,
      "outputs": [
        {
          "output_type": "display_data",
          "data": {
            "image/png": "[encoded data removed]",
            "text/plain": [
              "<Figure size 720x432 with 1 Axes>"
            ]
          },
          "metadata": {
            "tags": [],
            "needs_background": "light"
          }
        }
      ]
    },
    {
      "cell_type": "markdown",
      "metadata": {
        "id": "2oLA2vglbJmB"
      },
      "source": [
        "Сюдя по критериям (p-value < 0.(9) ) мы не можем отвергнуть гипотезу о несогласованности выборок, а сюдя по графику и по большому р-значению, мы вообще можем предположить, что эксперимент рандофицирован. Посмотрим на другие признаки."
      ]
    },
    {
      "cell_type": "code",
      "metadata": {
        "colab": {
          "base_uri": "https://localhost:8080/"
        },
        "id": "zw3_LDcZs3VE",
        "outputId": "41180866-fd67-4b8b-8bbe-9469d95ee132"
      },
      "source": [
        "# для фичей\n",
        "ser = np.zeros(10)\n",
        "for j in range(2, 12):\n",
        "\n",
        "  a = 0\n",
        "  b = 1\n",
        "  n = 11\n",
        "\n",
        "  ar_1 = np.zeros(n)\n",
        "  ar_0 = np.zeros(n)\n",
        "  for i in range(n):\n",
        "    left_bound, right_bound = a + i*(b-a)/n, a + (i+1)*(b-a)/n\n",
        "    ar_1[i] = np.where((data1[data1.W == 1].iloc[:, j] > left_bound) & \n",
        "                      (data1[data1.W == 1].iloc[:, j] < right_bound), 1, 0).sum()/data1[data1.W == 1].iloc[:, j].shape[0]\n",
        "    ar_0[i] = np.where((data1[data1.W == 0].iloc[:, j] > left_bound) & \n",
        "                      (data1[data1.W == 0].iloc[:, j] < right_bound), 1, 0).sum()/data1[data1.W == 0].iloc[:, j].shape[0]\n",
        "\n",
        "  ser[j-2] = round(stats.chisquare(ar_0, ar_1).pvalue, 10)\n",
        "\n",
        "print('Уровни значимости нулевой гипотезы критерия Хи-квадрат в выборках-признаках:')\n",
        "ser"
      ],
      "execution_count": null,
      "outputs": [
        {
          "output_type": "stream",
          "text": [
            "Уровни значимости нулевой гипотезы критерия Хи-квадрат в выборках-признаках:\n"
          ],
          "name": "stdout"
        },
        {
          "output_type": "execute_result",
          "data": {
            "text/plain": [
              "array([0.99905318, 0.99907317, 1.        , 1.        , 1.        ,\n",
              "       1.        , 1.        , 1.        , 1.        , 1.        ])"
            ]
          },
          "metadata": {
            "tags": []
          },
          "execution_count": 10
        }
      ]
    },
    {
      "cell_type": "markdown",
      "metadata": {
        "id": "RDMPqAPqvTez"
      },
      "source": [
        "Как видно у всеx признаков гипотезу о согласованности нельзя отвергать, это говорит в сторону предположения о рандомизированности эксперимента. Оценим АТЕ через модель линейной регресии."
      ]
    },
    {
      "cell_type": "code",
      "metadata": {
        "colab": {
          "base_uri": "https://localhost:8080/",
          "height": 194
        },
        "id": "NNk9O3Nsoxhg",
        "outputId": "25a1d5a6-7098-4330-872f-1c91640c12f8"
      },
      "source": [
        "data1['bias'] = np.ones(data1.shape[0])\n",
        "data1.head()"
      ],
      "execution_count": null,
      "outputs": [
        {
          "output_type": "execute_result",
          "data": {
            "text/html": [
              "<div>\n",
              "<style scoped>\n",
              "    .dataframe tbody tr th:only-of-type {\n",
              "        vertical-align: middle;\n",
              "    }\n",
              "\n",
              "    .dataframe tbody tr th {\n",
              "        vertical-align: top;\n",
              "    }\n",
              "\n",
              "    .dataframe thead th {\n",
              "        text-align: right;\n",
              "    }\n",
              "</style>\n",
              "<table border=\"1\" class=\"dataframe\">\n",
              "  <thead>\n",
              "    <tr style=\"text-align: right;\">\n",
              "      <th></th>\n",
              "      <th>y</th>\n",
              "      <th>W</th>\n",
              "      <th>X_1</th>\n",
              "      <th>X_2</th>\n",
              "      <th>X_3</th>\n",
              "      <th>X_4</th>\n",
              "      <th>X_5</th>\n",
              "      <th>X_6</th>\n",
              "      <th>X_7</th>\n",
              "      <th>X_8</th>\n",
              "      <th>X_9</th>\n",
              "      <th>X_10</th>\n",
              "      <th>bias</th>\n",
              "    </tr>\n",
              "  </thead>\n",
              "  <tbody>\n",
              "    <tr>\n",
              "      <th>0</th>\n",
              "      <td>-1.459404</td>\n",
              "      <td>0.0</td>\n",
              "      <td>0.986277</td>\n",
              "      <td>0.873392</td>\n",
              "      <td>0.509746</td>\n",
              "      <td>0.271836</td>\n",
              "      <td>0.336919</td>\n",
              "      <td>0.216954</td>\n",
              "      <td>0.276477</td>\n",
              "      <td>0.343316</td>\n",
              "      <td>0.862159</td>\n",
              "      <td>0.156700</td>\n",
              "      <td>1.0</td>\n",
              "    </tr>\n",
              "    <tr>\n",
              "      <th>1</th>\n",
              "      <td>-1.694174</td>\n",
              "      <td>0.0</td>\n",
              "      <td>0.140887</td>\n",
              "      <td>0.757080</td>\n",
              "      <td>0.736325</td>\n",
              "      <td>0.355663</td>\n",
              "      <td>0.341093</td>\n",
              "      <td>0.666803</td>\n",
              "      <td>0.217101</td>\n",
              "      <td>0.561427</td>\n",
              "      <td>0.124179</td>\n",
              "      <td>0.319736</td>\n",
              "      <td>1.0</td>\n",
              "    </tr>\n",
              "    <tr>\n",
              "      <th>2</th>\n",
              "      <td>5.378374</td>\n",
              "      <td>0.0</td>\n",
              "      <td>0.953214</td>\n",
              "      <td>0.137357</td>\n",
              "      <td>0.569413</td>\n",
              "      <td>0.975665</td>\n",
              "      <td>0.503367</td>\n",
              "      <td>0.667664</td>\n",
              "      <td>0.034191</td>\n",
              "      <td>0.456119</td>\n",
              "      <td>0.155851</td>\n",
              "      <td>0.476049</td>\n",
              "      <td>1.0</td>\n",
              "    </tr>\n",
              "    <tr>\n",
              "      <th>3</th>\n",
              "      <td>2.188189</td>\n",
              "      <td>1.0</td>\n",
              "      <td>0.169702</td>\n",
              "      <td>0.896258</td>\n",
              "      <td>0.373394</td>\n",
              "      <td>0.379693</td>\n",
              "      <td>0.858317</td>\n",
              "      <td>0.646061</td>\n",
              "      <td>0.583462</td>\n",
              "      <td>0.668350</td>\n",
              "      <td>0.177793</td>\n",
              "      <td>0.849248</td>\n",
              "      <td>1.0</td>\n",
              "    </tr>\n",
              "    <tr>\n",
              "      <th>4</th>\n",
              "      <td>2.862696</td>\n",
              "      <td>1.0</td>\n",
              "      <td>0.442373</td>\n",
              "      <td>0.831468</td>\n",
              "      <td>0.763921</td>\n",
              "      <td>0.919691</td>\n",
              "      <td>0.070573</td>\n",
              "      <td>0.156165</td>\n",
              "      <td>0.636894</td>\n",
              "      <td>0.555696</td>\n",
              "      <td>0.191929</td>\n",
              "      <td>0.425656</td>\n",
              "      <td>1.0</td>\n",
              "    </tr>\n",
              "  </tbody>\n",
              "</table>\n",
              "</div>"
            ],
            "text/plain": [
              "          y    W       X_1       X_2  ...       X_8       X_9      X_10  bias\n",
              "0 -1.459404  0.0  0.986277  0.873392  ...  0.343316  0.862159  0.156700   1.0\n",
              "1 -1.694174  0.0  0.140887  0.757080  ...  0.561427  0.124179  0.319736   1.0\n",
              "2  5.378374  0.0  0.953214  0.137357  ...  0.456119  0.155851  0.476049   1.0\n",
              "3  2.188189  1.0  0.169702  0.896258  ...  0.668350  0.177793  0.849248   1.0\n",
              "4  2.862696  1.0  0.442373  0.831468  ...  0.555696  0.191929  0.425656   1.0\n",
              "\n",
              "[5 rows x 13 columns]"
            ]
          },
          "metadata": {
            "tags": []
          },
          "execution_count": 11
        }
      ]
    },
    {
      "cell_type": "code",
      "metadata": {
        "id": "7b6oJhFPwwRq",
        "colab": {
          "base_uri": "https://localhost:8080/"
        },
        "outputId": "189bbf3c-3d64-4fd4-8aef-3a37173c8bfa"
      },
      "source": [
        "# воздействие на целевую переменную\n",
        "lin_reg = LinearRegression()\n",
        "lin_reg.fit(data1.drop('y', axis = 1), data1.y)"
      ],
      "execution_count": null,
      "outputs": [
        {
          "output_type": "execute_result",
          "data": {
            "text/plain": [
              "LinearRegression(copy_X=True, fit_intercept=True, n_jobs=None, normalize=False)"
            ]
          },
          "metadata": {
            "tags": []
          },
          "execution_count": 12
        }
      ]
    },
    {
      "cell_type": "code",
      "metadata": {
        "id": "pAeFS1MrwwJy",
        "colab": {
          "base_uri": "https://localhost:8080/"
        },
        "outputId": "0eb68fd2-cb61-4203-a632-b35deda6ac2b"
      },
      "source": [
        "lin_reg.coef_, lin_reg.score(data1.drop('y', axis = 1), data1.y)"
      ],
      "execution_count": null,
      "outputs": [
        {
          "output_type": "execute_result",
          "data": {
            "text/plain": [
              "(array([ 0.51338549, -0.2254694 , -0.35712379, -0.09795053,  0.93446704,\n",
              "         0.42135781,  0.18572004,  0.08389393, -0.10409036, -0.11725869,\n",
              "         0.04936036,  0.        ]), 0.015674224806845882)"
            ]
          },
          "metadata": {
            "tags": []
          },
          "execution_count": 13
        }
      ]
    },
    {
      "cell_type": "code",
      "metadata": {
        "id": "h04dgLioq4c9"
      },
      "source": [
        "data1.drop('bias', axis = 1, inplace = True)"
      ],
      "execution_count": null,
      "outputs": []
    },
    {
      "cell_type": "markdown",
      "metadata": {
        "id": "-KR14Ongpe89"
      },
      "source": [
        "Нам нужен параметр возле признака *W*, он расположен первым в массиве и равен 0.513\n",
        "\n",
        "Попробуем оценить АТЕ через разность средних по формуле $\\sigma = E(Y_i|W_i = 1) - E(Y_i|W_i = 0)$, однако нам необходимо проверить еще пару предположений."
      ]
    },
    {
      "cell_type": "code",
      "metadata": {
        "colab": {
          "base_uri": "https://localhost:8080/"
        },
        "id": "ODmbGt3ZEBSq",
        "outputId": "af77277b-ad0f-4869-da23-3ad9d095c28f"
      },
      "source": [
        "data1[data1.W == 1].y.mean() - data1[data1.W == 0].y.mean()"
      ],
      "execution_count": null,
      "outputs": [
        {
          "output_type": "execute_result",
          "data": {
            "text/plain": [
              "0.4001031055444413"
            ]
          },
          "metadata": {
            "tags": []
          },
          "execution_count": 15
        }
      ]
    },
    {
      "cell_type": "code",
      "metadata": {
        "colab": {
          "base_uri": "https://localhost:8080/",
          "height": 313
        },
        "id": "qFCe9SOdHRtS",
        "outputId": "7d253ee9-ffdd-420a-f737-893c0427bf5c"
      },
      "source": [
        "sns.distplot(data1[data1.W == 1].y, label = 'W = 1')\n",
        "sns.distplot(data1[data1.W == 0].y, label = 'W = 0')\n",
        "plt.legend()\n",
        "plt.title('Распределение целевой переменной в разных классах')"
      ],
      "execution_count": null,
      "outputs": [
        {
          "output_type": "execute_result",
          "data": {
            "text/plain": [
              "Text(0.5, 1.0, 'Распределение целевой переменной в разных классах')"
            ]
          },
          "metadata": {
            "tags": []
          },
          "execution_count": 20
        },
        {
          "output_type": "display_data",
          "data": {
            "image/png": "[encoded data removed]",
            "text/plain": [
              "<Figure size 432x288 with 1 Axes>"
            ]
          },
          "metadata": {
            "tags": [],
            "needs_background": "light"
          }
        }
      ]
    },
    {
      "cell_type": "markdown",
      "metadata": {
        "id": "ka9tCGnaEicJ"
      },
      "source": [
        "Надо проверить несмещенность этой оценки (selection bias). Однако исходя из преположений выше(относительно равномерного распределения по группам) можно предполагать, что распределение объектов в treatment и control группы не зависят от характеристик объектов(хактеристики = фичи, в данном случае). Из этого предположения следует и предполагать несмещенность оценки через разность средних.(P.S. однако, как заметно, некоторое смещение есть, оно равно ~ 0.1)"
      ]
    },
    {
      "cell_type": "markdown",
      "metadata": {
        "id": "rOOSah2pxCgw"
      },
      "source": [
        "**4-5 задача**. Результаты и выводы"
      ]
    },
    {
      "cell_type": "markdown",
      "metadata": {
        "id": "xLmnd7M4xJD8"
      },
      "source": [
        "* Для первого пункта все расписано. Кратко, для целевой переменной и для первых двух признаков можно отклонить гипотезу о равенсте средних(третий признак под подозрением, там p-value ~ 0.05)\n",
        "* С помощью критерия Хи-квадрат можно предположить, что экперимент рандомизирован. При оценки АТЕ через регрессию получили значение 0.513, а через разность средних целевой переменной по группам - значение 0.4 (является смещенной оценкой).\n",
        "* Касаемо целевой переменной, после воздействия есть значимые различия в распределении классов(Хотя все еще неясно, были ли отличия между этими группами до воздейтсвия)"
      ]
    },
    {
      "cell_type": "markdown",
      "metadata": {
        "id": "txaH89oJu1AF"
      },
      "source": [
        "### 2. Оценка результатов AB теста с показателями до начала эксперимента"
      ]
    },
    {
      "cell_type": "markdown",
      "metadata": {
        "id": "8rgcA-r4u1AG"
      },
      "source": [
        "Необходимо как и ранее оценить результаты AB теста, а именно ATE. Вы располагаете результатами до и после проведения теста (y_0 и y_1), а также вам дан treatment assignment (W). \n",
        "\n",
        "Необходимо: \n",
        "1. Проверить все требуемые гипотезы\n",
        "2. Оценить ATE подходящим для этого случая методом (примените несколько методов)\n",
        "3. Сравнить и проанализировать результаты оценок\n",
        "4. Явно выписать выводы.\n",
        "\n",
        "Как и прежде, все предположения должны быть указаны. Визуализация результатов приветствуется.\n",
        "\n",
        "dataset_part2_students.csv"
      ]
    },
    {
      "cell_type": "code",
      "metadata": {
        "colab": {
          "base_uri": "https://localhost:8080/",
          "height": 135
        },
        "id": "LRAPHlbh3fiw",
        "outputId": "7cef7a9b-b7c7-4069-f0b3-47363d66a070"
      },
      "source": [
        "data2 = pd.read_csv('dataset_part2_students.csv', sep = '\\t')\n",
        "data2.head(3)"
      ],
      "execution_count": null,
      "outputs": [
        {
          "output_type": "execute_result",
          "data": {
            "text/html": [
              "<div>\n",
              "<style scoped>\n",
              "    .dataframe tbody tr th:only-of-type {\n",
              "        vertical-align: middle;\n",
              "    }\n",
              "\n",
              "    .dataframe tbody tr th {\n",
              "        vertical-align: top;\n",
              "    }\n",
              "\n",
              "    .dataframe thead th {\n",
              "        text-align: right;\n",
              "    }\n",
              "</style>\n",
              "<table border=\"1\" class=\"dataframe\">\n",
              "  <thead>\n",
              "    <tr style=\"text-align: right;\">\n",
              "      <th></th>\n",
              "      <th>y_1</th>\n",
              "      <th>y_0</th>\n",
              "      <th>W</th>\n",
              "      <th>X_1</th>\n",
              "      <th>X_2</th>\n",
              "      <th>X_3</th>\n",
              "      <th>X_4</th>\n",
              "      <th>X_5</th>\n",
              "      <th>X_6</th>\n",
              "      <th>X_7</th>\n",
              "      <th>X_8</th>\n",
              "      <th>X_9</th>\n",
              "      <th>X_10</th>\n",
              "    </tr>\n",
              "  </thead>\n",
              "  <tbody>\n",
              "    <tr>\n",
              "      <th>0</th>\n",
              "      <td>5.887156</td>\n",
              "      <td>2.785060</td>\n",
              "      <td>1.0</td>\n",
              "      <td>0.605978</td>\n",
              "      <td>0.733369</td>\n",
              "      <td>0.138947</td>\n",
              "      <td>0.312673</td>\n",
              "      <td>0.997243</td>\n",
              "      <td>0.128162</td>\n",
              "      <td>0.178993</td>\n",
              "      <td>0.752925</td>\n",
              "      <td>0.662161</td>\n",
              "      <td>0.784310</td>\n",
              "    </tr>\n",
              "    <tr>\n",
              "      <th>1</th>\n",
              "      <td>2.232601</td>\n",
              "      <td>5.533515</td>\n",
              "      <td>0.0</td>\n",
              "      <td>0.096894</td>\n",
              "      <td>0.058571</td>\n",
              "      <td>0.962396</td>\n",
              "      <td>0.616557</td>\n",
              "      <td>0.086630</td>\n",
              "      <td>0.561272</td>\n",
              "      <td>0.616525</td>\n",
              "      <td>0.963843</td>\n",
              "      <td>0.574304</td>\n",
              "      <td>0.371161</td>\n",
              "    </tr>\n",
              "    <tr>\n",
              "      <th>2</th>\n",
              "      <td>0.144419</td>\n",
              "      <td>0.095546</td>\n",
              "      <td>1.0</td>\n",
              "      <td>0.452145</td>\n",
              "      <td>0.201850</td>\n",
              "      <td>0.569305</td>\n",
              "      <td>0.195096</td>\n",
              "      <td>0.583704</td>\n",
              "      <td>0.476313</td>\n",
              "      <td>0.517814</td>\n",
              "      <td>0.823099</td>\n",
              "      <td>0.732225</td>\n",
              "      <td>0.069056</td>\n",
              "    </tr>\n",
              "  </tbody>\n",
              "</table>\n",
              "</div>"
            ],
            "text/plain": [
              "        y_1       y_0    W       X_1  ...       X_7       X_8       X_9      X_10\n",
              "0  5.887156  2.785060  1.0  0.605978  ...  0.178993  0.752925  0.662161  0.784310\n",
              "1  2.232601  5.533515  0.0  0.096894  ...  0.616525  0.963843  0.574304  0.371161\n",
              "2  0.144419  0.095546  1.0  0.452145  ...  0.517814  0.823099  0.732225  0.069056\n",
              "\n",
              "[3 rows x 13 columns]"
            ]
          },
          "metadata": {
            "tags": []
          },
          "execution_count": 3
        }
      ]
    },
    {
      "cell_type": "code",
      "metadata": {
        "id": "nR96T8Ii52FH"
      },
      "source": [
        "list_feats = list(data2.drop('W', axis = 1).columns)"
      ],
      "execution_count": null,
      "outputs": []
    },
    {
      "cell_type": "code",
      "metadata": {
        "colab": {
          "base_uri": "https://localhost:8080/"
        },
        "id": "UVmwFdp4_Fxs",
        "outputId": "78ba234d-d203-480d-b87f-619b4b2e1a40"
      },
      "source": [
        "data2[data2.W == 1][list_feats[1]]"
      ],
      "execution_count": null,
      "outputs": [
        {
          "output_type": "execute_result",
          "data": {
            "text/plain": [
              "0       2.785060\n",
              "2       0.095546\n",
              "3       3.590472\n",
              "8       3.985938\n",
              "9       2.688234\n",
              "          ...   \n",
              "9994   -0.615888\n",
              "9995    1.207956\n",
              "9996    1.636214\n",
              "9998    0.777716\n",
              "9999   -3.467385\n",
              "Name: y_0, Length: 5240, dtype: float64"
            ]
          },
          "metadata": {
            "tags": []
          },
          "execution_count": 5
        }
      ]
    },
    {
      "cell_type": "code",
      "metadata": {
        "colab": {
          "base_uri": "https://localhost:8080/",
          "height": 1000
        },
        "id": "ceQwY6IX81dh",
        "outputId": "d1cdc53f-6a4a-47b7-b5af-3d6535934689"
      },
      "source": [
        "fig, ax = plt.subplots(6, 2, figsize = (18, 36))\n",
        "for i in range(len(list_feats)):\n",
        "  plt.figure(figsize = (10, 6))\n",
        "  sns.distplot(data2[data2.W == 1][list_feats[i]].values, label = 'W = 1', ax = ax[i//2, i%2])\n",
        "  sns.distplot(data2[data2.W == 0][list_feats[i]].values, label = 'W = 0', ax = ax[i//2, i%2])\n",
        "  ax[i//2, i%2].set_title(list_feats[i])"
      ],
      "execution_count": null,
      "outputs": [
        {
          "output_type": "display_data",
          "data": {
            "image/png": "[encoded data removed]",
            "text/plain": [
              "<Figure size 1296x2592 with 12 Axes>"
            ]
          },
          "metadata": {
            "tags": [],
            "needs_background": "light"
          }
        },
        {
          "output_type": "display_data",
          "data": {
            "text/plain": [
              "<Figure size 720x432 with 0 Axes>"
            ]
          },
          "metadata": {
            "tags": []
          }
        },
        {
          "output_type": "display_data",
          "data": {
            "text/plain": [
              "<Figure size 720x432 with 0 Axes>"
            ]
          },
          "metadata": {
            "tags": []
          }
        },
        {
          "output_type": "display_data",
          "data": {
            "text/plain": [
              "<Figure size 720x432 with 0 Axes>"
            ]
          },
          "metadata": {
            "tags": []
          }
        },
        {
          "output_type": "display_data",
          "data": {
            "text/plain": [
              "<Figure size 720x432 with 0 Axes>"
            ]
          },
          "metadata": {
            "tags": []
          }
        },
        {
          "output_type": "display_data",
          "data": {
            "text/plain": [
              "<Figure size 720x432 with 0 Axes>"
            ]
          },
          "metadata": {
            "tags": []
          }
        },
        {
          "output_type": "display_data",
          "data": {
            "text/plain": [
              "<Figure size 720x432 with 0 Axes>"
            ]
          },
          "metadata": {
            "tags": []
          }
        },
        {
          "output_type": "display_data",
          "data": {
            "text/plain": [
              "<Figure size 720x432 with 0 Axes>"
            ]
          },
          "metadata": {
            "tags": []
          }
        },
        {
          "output_type": "display_data",
          "data": {
            "text/plain": [
              "<Figure size 720x432 with 0 Axes>"
            ]
          },
          "metadata": {
            "tags": []
          }
        },
        {
          "output_type": "display_data",
          "data": {
            "text/plain": [
              "<Figure size 720x432 with 0 Axes>"
            ]
          },
          "metadata": {
            "tags": []
          }
        },
        {
          "output_type": "display_data",
          "data": {
            "text/plain": [
              "<Figure size 720x432 with 0 Axes>"
            ]
          },
          "metadata": {
            "tags": []
          }
        },
        {
          "output_type": "display_data",
          "data": {
            "text/plain": [
              "<Figure size 720x432 with 0 Axes>"
            ]
          },
          "metadata": {
            "tags": []
          }
        },
        {
          "output_type": "display_data",
          "data": {
            "text/plain": [
              "<Figure size 720x432 with 0 Axes>"
            ]
          },
          "metadata": {
            "tags": []
          }
        }
      ]
    },
    {
      "cell_type": "markdown",
      "metadata": {
        "id": "pYMwtC6GAYDi"
      },
      "source": [
        "На графиках распределений значимые отличия видны только  в первых двух признаках."
      ]
    },
    {
      "cell_type": "markdown",
      "metadata": {
        "id": "MmhK8Zqx51qM"
      },
      "source": [
        "**1 задача**. Проверка гипотез. \n",
        "\n",
        "Проверять снова будем равенство средних по Стьюденту, а также однородность выборок в разных классах через Хи-квадрат. \n",
        "\n",
        "Но прежде всего проверим выборки до и после воздействия на однородность."
      ]
    },
    {
      "cell_type": "code",
      "metadata": {
        "colab": {
          "base_uri": "https://localhost:8080/"
        },
        "id": "VjjbwXddsi96",
        "outputId": "8bedf0b4-e7cc-4c26-ddfc-1f480a79fe01"
      },
      "source": [
        "a = -5\n",
        "b = 10\n",
        "n = 11\n",
        "\n",
        "ar_1 = np.zeros(n)\n",
        "ar_0 = np.zeros(n)\n",
        "for i in range(n):\n",
        "  left_bound, right_bound = a + i*(b-a)/n, a + (i+1)*(b-a)/n\n",
        "  ar_1[i] = np.where((data2['y_0'] > left_bound) & \n",
        "                    (data2['y_0'] < right_bound), 1, 0).sum()/data2['y_0'].shape[0]\n",
        "  ar_0[i] = np.where((data2['y_1'] > left_bound) & \n",
        "                    (data2['y_1'] < right_bound), 1, 0).sum()/data2['y_1'].shape[0]\n",
        "\n",
        "print('Уровни значимости нулевой гипотезы критерия Хи-квадрат:')\n",
        "stats.chisquare(ar_0, ar_1)"
      ],
      "execution_count": null,
      "outputs": [
        {
          "output_type": "stream",
          "text": [
            "Уровни значимости нулевой гипотезы критерия Хи-квадрат:\n"
          ],
          "name": "stdout"
        },
        {
          "output_type": "execute_result",
          "data": {
            "text/plain": [
              "Power_divergenceResult(statistic=0.34791082328240763, pvalue=0.9999988513610073)"
            ]
          },
          "metadata": {
            "tags": []
          },
          "execution_count": 7
        }
      ]
    },
    {
      "cell_type": "markdown",
      "metadata": {
        "id": "iEhws5RKvMk4"
      },
      "source": [
        "Гипотезу об однородности выборок отвергнуть пока нельзя."
      ]
    },
    {
      "cell_type": "code",
      "metadata": {
        "colab": {
          "base_uri": "https://localhost:8080/"
        },
        "id": "98_R0V3N3fdW",
        "outputId": "2b469921-486f-46e9-c407-8b43f1760972"
      },
      "source": [
        "# равенство средних в разных классах по стьюденту во всех признаках \n",
        "ser = {}\n",
        "for i in list_feats:\n",
        "  ser[i] = stats.ttest_ind(data2[data2.W == 0][i].values, \n",
        "                                data2[data2.W == 1][i].values)\n",
        "ser"
      ],
      "execution_count": null,
      "outputs": [
        {
          "output_type": "execute_result",
          "data": {
            "text/plain": [
              "{'X_1': Ttest_indResult(statistic=-38.08914057305451, pvalue=1.5073414961315105e-296),\n",
              " 'X_10': Ttest_indResult(statistic=0.19856726275287878, pvalue=0.8426053015622622),\n",
              " 'X_2': Ttest_indResult(statistic=-36.327132513102676, pvalue=1.6013109351613642e-271),\n",
              " 'X_3': Ttest_indResult(statistic=-1.1388882181764262, pvalue=0.2547770672996611),\n",
              " 'X_4': Ttest_indResult(statistic=0.819423988390126, pvalue=0.41256408565418534),\n",
              " 'X_5': Ttest_indResult(statistic=-0.6969420909932433, pvalue=0.4858552389595523),\n",
              " 'X_6': Ttest_indResult(statistic=0.714019273818174, pvalue=0.4752319296070401),\n",
              " 'X_7': Ttest_indResult(statistic=0.5272606528423389, pvalue=0.5980242933251709),\n",
              " 'X_8': Ttest_indResult(statistic=0.9836302299851056, pvalue=0.32532115789451477),\n",
              " 'X_9': Ttest_indResult(statistic=-0.4039182722210444, pvalue=0.6862814582307828),\n",
              " 'y_0': Ttest_indResult(statistic=2.6947405425339337, pvalue=0.007056118548053932),\n",
              " 'y_1': Ttest_indResult(statistic=-10.434076818229196, pvalue=2.3383131389683154e-25)}"
            ]
          },
          "metadata": {
            "tags": []
          },
          "execution_count": 8
        }
      ]
    },
    {
      "cell_type": "markdown",
      "metadata": {
        "id": "XQ6IptaxAxm_"
      },
      "source": [
        "Те самые два признака, выделяющиеся на графиках своим распределением в классах, выделяются своей огромной отрицательной степенью, что ожидаемо. На уровне значимости в 0.95 можно также отклонить гипотезу о равенстве и в двух целевых признаках."
      ]
    },
    {
      "cell_type": "code",
      "metadata": {
        "colab": {
          "base_uri": "https://localhost:8080/"
        },
        "id": "UQli-e7a3fZ-",
        "outputId": "3600d4ab-73fe-403c-c299-96fc03e62a48"
      },
      "source": [
        "# для фичей и целевых признаков\n",
        "ser = {}\n",
        "for j in list_feats:\n",
        "\n",
        "  if j == 'y_0' or j == 'y_1':\n",
        "    a = -5\n",
        "    b = 10\n",
        "  else:\n",
        "    a = 0\n",
        "    b = 1\n",
        "  \n",
        "  n = 6\n",
        "\n",
        "  ar_1 = np.zeros(n)\n",
        "  ar_0 = np.zeros(n)\n",
        "  for i in range(n):\n",
        "    left_bound, right_bound = a + i*(b-a)/n, a + (i+1)*(b-a)/n\n",
        "    ar_1[i] = np.where((data2[data2.W == 1][j] > left_bound) & \n",
        "                      (data2[data2.W == 1][j] < right_bound), 1, 0).sum()/data2[data2.W == 1][j].shape[0]\n",
        "    ar_0[i] = np.where((data2[data2.W == 0][j] > left_bound) & \n",
        "                      (data2[data2.W == 0][j] < right_bound), 1, 0).sum()/data2[data2.W == 0][j].shape[0]\n",
        "\n",
        "  ser[j] = stats.chisquare(ar_0, ar_1)\n",
        "print('Уровни значимости нулевой гипотезы критерия Хи-квадрат:')\n",
        "ser"
      ],
      "execution_count": null,
      "outputs": [
        {
          "output_type": "stream",
          "text": [
            "Уровни значимости нулевой гипотезы критерия Хи-квадрат:\n"
          ],
          "name": "stdout"
        },
        {
          "output_type": "execute_result",
          "data": {
            "text/plain": [
              "{'X_1': Power_divergenceResult(statistic=1.3824563829619958, pvalue=0.9262226937642687),\n",
              " 'X_10': Power_divergenceResult(statistic=0.0018598955921136189, pvalue=0.9999999920698438),\n",
              " 'X_2': Power_divergenceResult(statistic=1.2843207071298548, pvalue=0.9365367668859078),\n",
              " 'X_3': Power_divergenceResult(statistic=0.002583267278624562, pvalue=0.9999999819751567),\n",
              " 'X_4': Power_divergenceResult(statistic=0.0011455257140500737, pvalue=0.9999999976385257),\n",
              " 'X_5': Power_divergenceResult(statistic=0.0010209210919022436, pvalue=0.9999999982291944),\n",
              " 'X_6': Power_divergenceResult(statistic=0.0007295194499884019, pvalue=0.9999999992355874),\n",
              " 'X_7': Power_divergenceResult(statistic=0.0017049791453343883, pvalue=0.9999999936190985),\n",
              " 'X_8': Power_divergenceResult(statistic=0.001492536519717493, pvalue=0.9999999954245931),\n",
              " 'X_9': Power_divergenceResult(statistic=0.004092116922511513, pvalue=0.9999999431036743),\n",
              " 'y_0': Power_divergenceResult(statistic=0.0058284555502015065, pvalue=0.9999998623334008),\n",
              " 'y_1': Power_divergenceResult(statistic=0.04367236111494325, pvalue=0.9999791264471763)}"
            ]
          },
          "metadata": {
            "tags": []
          },
          "execution_count": 9
        }
      ]
    },
    {
      "cell_type": "markdown",
      "metadata": {
        "id": "Ici041nSOGSx"
      },
      "source": [
        "Рассматривая уровни значимости всех признаков, нигде нельзя отвергнуть гипотезу о несогласованности выборок($H_0$), то есть снова можно предположить, что эксперимент рандомизирован. Это видно и на графиках распределений(для признаков *X_1, X_2*, у которых на графиках видны значимые разлличия в распределениях классов статистика больше, чем в других признках вследствие чего наблюдается снижение уровня значимости нулевой гипотезы)"
      ]
    },
    {
      "cell_type": "markdown",
      "metadata": {
        "id": "5Ly3DEDDQbWC"
      },
      "source": [
        "**2 задача**. Оценки АТЕ"
      ]
    },
    {
      "cell_type": "markdown",
      "metadata": {
        "id": "Nn1nhI4SZ1OM"
      },
      "source": [
        "$ATE = E[Y_i(1)|W_i = 1] - E[Y_i(0)|W_i = 0]$, где $Y_i(W_i) = y_{i,1} - y_{i,0}$, так как было предположено, что эксперимент рандомизирован(может являться смещенной оценкой)."
      ]
    },
    {
      "cell_type": "code",
      "metadata": {
        "colab": {
          "base_uri": "https://localhost:8080/"
        },
        "id": "4BaWqFfr3fWb",
        "outputId": "3b991909-d35c-41d9-8c40-adc4ac4d745c"
      },
      "source": [
        "data2['y_diff'] = data2.y_1 - data2.y_0\n",
        "data2[data2.W == 1]['y_diff'].mean() - data2[data2.W == 0]['y_diff'].mean()"
      ],
      "execution_count": null,
      "outputs": [
        {
          "output_type": "execute_result",
          "data": {
            "text/plain": [
              "0.5549047702971162"
            ]
          },
          "metadata": {
            "tags": []
          },
          "execution_count": 14
        }
      ]
    },
    {
      "cell_type": "markdown",
      "metadata": {
        "id": "jVK6bFPZcdQB"
      },
      "source": [
        "Через модель регрессии: $ATE = \\tau$, где $Y_i = \\alpha_i + \\tau W_i$; $\\alpha_i = Y_{i,0}$"
      ]
    },
    {
      "cell_type": "code",
      "metadata": {
        "colab": {
          "base_uri": "https://localhost:8080/",
          "height": 194
        },
        "id": "XXeELQXZqy_Q",
        "outputId": "39596faf-5837-4fbc-f82c-c246c9b9f14f"
      },
      "source": [
        "data2['bias'] = np.ones(data2.shape[0])\n",
        "data2.head()"
      ],
      "execution_count": null,
      "outputs": [
        {
          "output_type": "execute_result",
          "data": {
            "text/html": [
              "<div>\n",
              "<style scoped>\n",
              "    .dataframe tbody tr th:only-of-type {\n",
              "        vertical-align: middle;\n",
              "    }\n",
              "\n",
              "    .dataframe tbody tr th {\n",
              "        vertical-align: top;\n",
              "    }\n",
              "\n",
              "    .dataframe thead th {\n",
              "        text-align: right;\n",
              "    }\n",
              "</style>\n",
              "<table border=\"1\" class=\"dataframe\">\n",
              "  <thead>\n",
              "    <tr style=\"text-align: right;\">\n",
              "      <th></th>\n",
              "      <th>y_1</th>\n",
              "      <th>y_0</th>\n",
              "      <th>W</th>\n",
              "      <th>X_1</th>\n",
              "      <th>X_2</th>\n",
              "      <th>X_3</th>\n",
              "      <th>X_4</th>\n",
              "      <th>X_5</th>\n",
              "      <th>X_6</th>\n",
              "      <th>X_7</th>\n",
              "      <th>X_8</th>\n",
              "      <th>X_9</th>\n",
              "      <th>X_10</th>\n",
              "      <th>y_diff</th>\n",
              "      <th>bias</th>\n",
              "    </tr>\n",
              "  </thead>\n",
              "  <tbody>\n",
              "    <tr>\n",
              "      <th>0</th>\n",
              "      <td>5.887156</td>\n",
              "      <td>2.785060</td>\n",
              "      <td>1.0</td>\n",
              "      <td>0.605978</td>\n",
              "      <td>0.733369</td>\n",
              "      <td>0.138947</td>\n",
              "      <td>0.312673</td>\n",
              "      <td>0.997243</td>\n",
              "      <td>0.128162</td>\n",
              "      <td>0.178993</td>\n",
              "      <td>0.752925</td>\n",
              "      <td>0.662161</td>\n",
              "      <td>0.784310</td>\n",
              "      <td>3.102097</td>\n",
              "      <td>1.0</td>\n",
              "    </tr>\n",
              "    <tr>\n",
              "      <th>1</th>\n",
              "      <td>2.232601</td>\n",
              "      <td>5.533515</td>\n",
              "      <td>0.0</td>\n",
              "      <td>0.096894</td>\n",
              "      <td>0.058571</td>\n",
              "      <td>0.962396</td>\n",
              "      <td>0.616557</td>\n",
              "      <td>0.086630</td>\n",
              "      <td>0.561272</td>\n",
              "      <td>0.616525</td>\n",
              "      <td>0.963843</td>\n",
              "      <td>0.574304</td>\n",
              "      <td>0.371161</td>\n",
              "      <td>-3.300914</td>\n",
              "      <td>1.0</td>\n",
              "    </tr>\n",
              "    <tr>\n",
              "      <th>2</th>\n",
              "      <td>0.144419</td>\n",
              "      <td>0.095546</td>\n",
              "      <td>1.0</td>\n",
              "      <td>0.452145</td>\n",
              "      <td>0.201850</td>\n",
              "      <td>0.569305</td>\n",
              "      <td>0.195096</td>\n",
              "      <td>0.583704</td>\n",
              "      <td>0.476313</td>\n",
              "      <td>0.517814</td>\n",
              "      <td>0.823099</td>\n",
              "      <td>0.732225</td>\n",
              "      <td>0.069056</td>\n",
              "      <td>0.048874</td>\n",
              "      <td>1.0</td>\n",
              "    </tr>\n",
              "    <tr>\n",
              "      <th>3</th>\n",
              "      <td>-2.446425</td>\n",
              "      <td>3.590472</td>\n",
              "      <td>1.0</td>\n",
              "      <td>0.672129</td>\n",
              "      <td>0.643485</td>\n",
              "      <td>0.828014</td>\n",
              "      <td>0.204469</td>\n",
              "      <td>0.617489</td>\n",
              "      <td>0.617701</td>\n",
              "      <td>0.301069</td>\n",
              "      <td>0.871741</td>\n",
              "      <td>0.589654</td>\n",
              "      <td>0.981770</td>\n",
              "      <td>-6.036897</td>\n",
              "      <td>1.0</td>\n",
              "    </tr>\n",
              "    <tr>\n",
              "      <th>4</th>\n",
              "      <td>2.163090</td>\n",
              "      <td>1.365405</td>\n",
              "      <td>0.0</td>\n",
              "      <td>0.442232</td>\n",
              "      <td>0.126318</td>\n",
              "      <td>0.508831</td>\n",
              "      <td>0.431786</td>\n",
              "      <td>0.915940</td>\n",
              "      <td>0.709016</td>\n",
              "      <td>0.890655</td>\n",
              "      <td>0.588886</td>\n",
              "      <td>0.636830</td>\n",
              "      <td>0.342209</td>\n",
              "      <td>0.797684</td>\n",
              "      <td>1.0</td>\n",
              "    </tr>\n",
              "  </tbody>\n",
              "</table>\n",
              "</div>"
            ],
            "text/plain": [
              "        y_1       y_0    W       X_1  ...       X_9      X_10    y_diff  bias\n",
              "0  5.887156  2.785060  1.0  0.605978  ...  0.662161  0.784310  3.102097   1.0\n",
              "1  2.232601  5.533515  0.0  0.096894  ...  0.574304  0.371161 -3.300914   1.0\n",
              "2  0.144419  0.095546  1.0  0.452145  ...  0.732225  0.069056  0.048874   1.0\n",
              "3 -2.446425  3.590472  1.0  0.672129  ...  0.589654  0.981770 -6.036897   1.0\n",
              "4  2.163090  1.365405  0.0  0.442232  ...  0.636830  0.342209  0.797684   1.0\n",
              "\n",
              "[5 rows x 15 columns]"
            ]
          },
          "metadata": {
            "tags": []
          },
          "execution_count": 15
        }
      ]
    },
    {
      "cell_type": "code",
      "metadata": {
        "colab": {
          "base_uri": "https://localhost:8080/"
        },
        "id": "oiu-wWhJ3fSv",
        "outputId": "add62323-a253-4410-e473-df8d9798297c"
      },
      "source": [
        "lin_reg = LinearRegression()\n",
        "lin_reg.fit(data2.drop(['y_0', 'y_1', 'y_diff'], axis = 1), data2['y_diff'])\n",
        "\n",
        "lin_reg.coef_, lin_reg.score(data2.drop(['y_0', 'y_1', 'y_diff'], axis = 1), data2['y_diff'])"
      ],
      "execution_count": null,
      "outputs": [
        {
          "output_type": "execute_result",
          "data": {
            "text/plain": [
              "(array([ 0.54250715,  0.08350872, -0.02728065,  0.29757501,  0.0447983 ,\n",
              "         0.1117733 ,  0.09828827,  0.0718624 ,  0.15933881, -0.06269531,\n",
              "        -0.08583998,  0.        ]), 0.009684251774472963)"
            ]
          },
          "metadata": {
            "tags": []
          },
          "execution_count": 17
        }
      ]
    },
    {
      "cell_type": "markdown",
      "metadata": {
        "id": "N2azZotrrbsl"
      },
      "source": [
        "Из данного массива нам потребуется лишь первый коэффициент, он равен 0.543"
      ]
    },
    {
      "cell_type": "code",
      "metadata": {
        "id": "UG_o25iZ3fMZ"
      },
      "source": [
        "data2.drop('bias', axis=1, inplace = True)"
      ],
      "execution_count": null,
      "outputs": []
    },
    {
      "cell_type": "markdown",
      "metadata": {
        "id": "HYlIgWTf2JEM"
      },
      "source": [
        "ANCOVA ATE"
      ]
    },
    {
      "cell_type": "code",
      "metadata": {
        "colab": {
          "base_uri": "https://localhost:8080/"
        },
        "id": "dxyoPcXs2IlN",
        "outputId": "1a045c29-44ad-4073-9062-a31b3abadfe3"
      },
      "source": [
        "lin_reg = LinearRegression()\n",
        "lin_reg.fit(data2.drop(['y_1', 'y_diff'], axis = 1), data2['y_1'])\n",
        "\n",
        "lin_reg.coef_, lin_reg.score(data2.drop(['y_1', 'y_diff'], axis = 1), data2['y_1'])"
      ],
      "execution_count": null,
      "outputs": [
        {
          "output_type": "execute_result",
          "data": {
            "text/plain": [
              "(array([ 0.0025517 ,  0.54817902, -0.26361705, -0.29451817, -0.13828213,\n",
              "         0.97884494,  0.62914046,  0.07872574,  0.20004789,  0.11316678,\n",
              "        -0.04212069, -0.02273621,  0.        ]), 0.041673162345950754)"
            ]
          },
          "metadata": {
            "tags": []
          },
          "execution_count": 18
        }
      ]
    },
    {
      "cell_type": "markdown",
      "metadata": {
        "id": "G3H6O75h2-RG"
      },
      "source": [
        "Отсюда нужен второй элемент из массива, это коэффициент при $W_i$, он равен 0.548"
      ]
    },
    {
      "cell_type": "markdown",
      "metadata": {
        "id": "UNLdP3QnvZ3E"
      },
      "source": [
        "**3 задача** Анализ полученных значений.\n",
        "\n",
        "* Из оценки с помощью регресии получено значение АТЕ = 0.542\n",
        "* Из оценки АТЕ по формуле для рандомизированного эксперимента АТЕ = 0.555\n",
        "* Из оценки по ANCOVA ATE = 0.548"
      ]
    },
    {
      "cell_type": "markdown",
      "metadata": {
        "id": "whYnk5HSwYnF"
      },
      "source": [
        "Эти значения довольно близки, каждое из них может свидетельствовать о разнице в различных классах после воздействия на группы.  "
      ]
    },
    {
      "cell_type": "markdown",
      "metadata": {
        "id": "Eg5bYXQqmpWi"
      },
      "source": [
        "**4 задача**. Итоги"
      ]
    },
    {
      "cell_type": "markdown",
      "metadata": {
        "id": "BPlo5fLPmvd5"
      },
      "source": [
        "* Графики\n",
        "\n",
        "На графиках распределения переменных в разных группах видны значимые отличия только в признаках *Х_1, Х_2*, про другие признаки по графикам особых закономерностей не видно.\n",
        "\n",
        "* Критерии\n",
        "\n",
        "По критериям Хи-квадрат можно утверждать, что отклонять гипотезу о том, что выборки как-то отличаются в разных никак нельзя(p-valuе ~ 1), логично преждположить, что эксперимент рандомизирован. Также, судя по критериям Стьюдента, можно отклонить гипотезу о равенстве средних распределений разных классов в целевых переменных *у_0, у_1*.\n",
        "\n",
        "* АТЕ\n",
        "\n",
        "Подситав АТЕ разными способами(что первый, что второй методы дали примерно одинаковое значение), было получено число значимо отличное от нуля. Можно предпоплагать, что воздействие на целевой признак дало эффект."
      ]
    },
    {
      "cell_type": "markdown",
      "metadata": {
        "id": "oWeumY-4u1AH"
      },
      "source": [
        "### 3. Построение uplift модели по результатам AB теста."
      ]
    },
    {
      "cell_type": "markdown",
      "metadata": {
        "id": "4Xv6w2uRu1AH"
      },
      "source": [
        "Вам даны результаты AB теста для модели конверсии клиента в продукте (conversion). Конверсия может принимать значения 1 или 0, что значит - клиент подключил услугу, либо не подключил соответственно.\n",
        "\n",
        "Задача:\n",
        "1. Оцените ATE по данным.\n",
        "2. Оцените CATE для каждого наблюдения.\n",
        "3. Проставьте рекомендации к воздействию на каждый объект.\n",
        "4. Какая ожидаемая конверсия при оптимальном воздействии?\n",
        "5. Все выводы, предпосылки и методы представляйте в явном виде в ноутбуке.\n",
        "\n",
        "Визуализация результатов также будет приветствоваться.\n",
        "\n",
        "dataset_part3_students.csv"
      ]
    },
    {
      "cell_type": "code",
      "metadata": {
        "id": "NNQvxXCLu1AI",
        "colab": {
          "base_uri": "https://localhost:8080/",
          "height": 214
        },
        "outputId": "68afb747-1a09-46d3-c995-9a025f8654f1"
      },
      "source": [
        "data3 = pd.read_csv('dataset_part3_students.csv', sep = '\\t')\n",
        "data3.head()"
      ],
      "execution_count": null,
      "outputs": [
        {
          "output_type": "execute_result",
          "data": {
            "text/html": [
              "<div>\n",
              "<style scoped>\n",
              "    .dataframe tbody tr th:only-of-type {\n",
              "        vertical-align: middle;\n",
              "    }\n",
              "\n",
              "    .dataframe tbody tr th {\n",
              "        vertical-align: top;\n",
              "    }\n",
              "\n",
              "    .dataframe thead th {\n",
              "        text-align: right;\n",
              "    }\n",
              "</style>\n",
              "<table border=\"1\" class=\"dataframe\">\n",
              "  <thead>\n",
              "    <tr style=\"text-align: right;\">\n",
              "      <th></th>\n",
              "      <th>treatment</th>\n",
              "      <th>X_1</th>\n",
              "      <th>X_2</th>\n",
              "      <th>X_3</th>\n",
              "      <th>X_4</th>\n",
              "      <th>X_5</th>\n",
              "      <th>X_6</th>\n",
              "      <th>X_7</th>\n",
              "      <th>X_8</th>\n",
              "      <th>X_9</th>\n",
              "      <th>X_10</th>\n",
              "      <th>X_11</th>\n",
              "      <th>X_12</th>\n",
              "      <th>X_13</th>\n",
              "      <th>X_14</th>\n",
              "      <th>X_15</th>\n",
              "      <th>X_16</th>\n",
              "      <th>X_17</th>\n",
              "      <th>X_18</th>\n",
              "      <th>X_19</th>\n",
              "      <th>X_20</th>\n",
              "      <th>X_21</th>\n",
              "      <th>X_22</th>\n",
              "      <th>conversion</th>\n",
              "    </tr>\n",
              "  </thead>\n",
              "  <tbody>\n",
              "    <tr>\n",
              "      <th>0</th>\n",
              "      <td>control</td>\n",
              "      <td>0.034351</td>\n",
              "      <td>0.550725</td>\n",
              "      <td>-1.348524</td>\n",
              "      <td>-0.029591</td>\n",
              "      <td>0.499535</td>\n",
              "      <td>-0.412464</td>\n",
              "      <td>0.933588</td>\n",
              "      <td>-0.522954</td>\n",
              "      <td>-0.029591</td>\n",
              "      <td>-0.807218</td>\n",
              "      <td>1.318646</td>\n",
              "      <td>-0.065262</td>\n",
              "      <td>-0.956947</td>\n",
              "      <td>-0.314573</td>\n",
              "      <td>-0.879456</td>\n",
              "      <td>0.640264</td>\n",
              "      <td>1.165722</td>\n",
              "      <td>0.570495</td>\n",
              "      <td>0.529443</td>\n",
              "      <td>0.227962</td>\n",
              "      <td>1.929914</td>\n",
              "      <td>0.798664</td>\n",
              "      <td>0</td>\n",
              "    </tr>\n",
              "    <tr>\n",
              "      <th>1</th>\n",
              "      <td>control</td>\n",
              "      <td>-1.059404</td>\n",
              "      <td>0.299404</td>\n",
              "      <td>0.220273</td>\n",
              "      <td>-1.569660</td>\n",
              "      <td>1.084204</td>\n",
              "      <td>-2.167118</td>\n",
              "      <td>1.216469</td>\n",
              "      <td>-0.744547</td>\n",
              "      <td>-1.569660</td>\n",
              "      <td>-0.460971</td>\n",
              "      <td>-1.396720</td>\n",
              "      <td>0.600044</td>\n",
              "      <td>1.000000</td>\n",
              "      <td>0.303664</td>\n",
              "      <td>1.080643</td>\n",
              "      <td>2.646483</td>\n",
              "      <td>-0.329690</td>\n",
              "      <td>1.725636</td>\n",
              "      <td>1.434649</td>\n",
              "      <td>-2.064893</td>\n",
              "      <td>0.188000</td>\n",
              "      <td>-1.134651</td>\n",
              "      <td>0</td>\n",
              "    </tr>\n",
              "    <tr>\n",
              "      <th>2</th>\n",
              "      <td>control</td>\n",
              "      <td>0.051934</td>\n",
              "      <td>2.338729</td>\n",
              "      <td>-0.341017</td>\n",
              "      <td>-1.099362</td>\n",
              "      <td>0.693090</td>\n",
              "      <td>-2.424267</td>\n",
              "      <td>1.572066</td>\n",
              "      <td>-0.212798</td>\n",
              "      <td>-1.099362</td>\n",
              "      <td>-1.430502</td>\n",
              "      <td>0.469694</td>\n",
              "      <td>1.251940</td>\n",
              "      <td>0.943003</td>\n",
              "      <td>-0.083721</td>\n",
              "      <td>-1.981712</td>\n",
              "      <td>0.224777</td>\n",
              "      <td>2.038004</td>\n",
              "      <td>2.516398</td>\n",
              "      <td>2.324280</td>\n",
              "      <td>-3.182196</td>\n",
              "      <td>-0.888490</td>\n",
              "      <td>-1.402561</td>\n",
              "      <td>0</td>\n",
              "    </tr>\n",
              "    <tr>\n",
              "      <th>3</th>\n",
              "      <td>treatment</td>\n",
              "      <td>0.667770</td>\n",
              "      <td>0.539316</td>\n",
              "      <td>0.468719</td>\n",
              "      <td>-0.840885</td>\n",
              "      <td>-0.708331</td>\n",
              "      <td>0.126634</td>\n",
              "      <td>1.275854</td>\n",
              "      <td>-0.954919</td>\n",
              "      <td>-0.840885</td>\n",
              "      <td>0.408691</td>\n",
              "      <td>-0.422736</td>\n",
              "      <td>-1.593407</td>\n",
              "      <td>0.247038</td>\n",
              "      <td>-0.752011</td>\n",
              "      <td>-0.347319</td>\n",
              "      <td>-1.659402</td>\n",
              "      <td>-0.871980</td>\n",
              "      <td>-0.893513</td>\n",
              "      <td>-0.658078</td>\n",
              "      <td>-2.704997</td>\n",
              "      <td>-0.390745</td>\n",
              "      <td>-1.578004</td>\n",
              "      <td>1</td>\n",
              "    </tr>\n",
              "    <tr>\n",
              "      <th>4</th>\n",
              "      <td>control</td>\n",
              "      <td>-1.416158</td>\n",
              "      <td>2.486628</td>\n",
              "      <td>0.496402</td>\n",
              "      <td>-1.174618</td>\n",
              "      <td>2.738267</td>\n",
              "      <td>-4.756755</td>\n",
              "      <td>-0.180918</td>\n",
              "      <td>-1.281432</td>\n",
              "      <td>-1.174618</td>\n",
              "      <td>-0.243256</td>\n",
              "      <td>0.598662</td>\n",
              "      <td>0.750706</td>\n",
              "      <td>0.554053</td>\n",
              "      <td>-1.198151</td>\n",
              "      <td>-0.232961</td>\n",
              "      <td>0.948875</td>\n",
              "      <td>1.210523</td>\n",
              "      <td>1.536723</td>\n",
              "      <td>1.548610</td>\n",
              "      <td>-0.926435</td>\n",
              "      <td>0.972459</td>\n",
              "      <td>-0.711251</td>\n",
              "      <td>0</td>\n",
              "    </tr>\n",
              "  </tbody>\n",
              "</table>\n",
              "</div>"
            ],
            "text/plain": [
              "   treatment       X_1       X_2  ...      X_21      X_22  conversion\n",
              "0    control  0.034351  0.550725  ...  1.929914  0.798664           0\n",
              "1    control -1.059404  0.299404  ...  0.188000 -1.134651           0\n",
              "2    control  0.051934  2.338729  ... -0.888490 -1.402561           0\n",
              "3  treatment  0.667770  0.539316  ... -0.390745 -1.578004           1\n",
              "4    control -1.416158  2.486628  ...  0.972459 -0.711251           0\n",
              "\n",
              "[5 rows x 24 columns]"
            ]
          },
          "metadata": {
            "tags": []
          },
          "execution_count": 42
        }
      ]
    },
    {
      "cell_type": "code",
      "metadata": {
        "id": "nJgiyB4k8zkG",
        "colab": {
          "base_uri": "https://localhost:8080/",
          "height": 399
        },
        "outputId": "e1a65d97-508b-402a-db57-7c45a5b07d76"
      },
      "source": [
        "data3[['treatment', 'conversion']]"
      ],
      "execution_count": null,
      "outputs": [
        {
          "output_type": "execute_result",
          "data": {
            "text/html": [
              "<div>\n",
              "<style scoped>\n",
              "    .dataframe tbody tr th:only-of-type {\n",
              "        vertical-align: middle;\n",
              "    }\n",
              "\n",
              "    .dataframe tbody tr th {\n",
              "        vertical-align: top;\n",
              "    }\n",
              "\n",
              "    .dataframe thead th {\n",
              "        text-align: right;\n",
              "    }\n",
              "</style>\n",
              "<table border=\"1\" class=\"dataframe\">\n",
              "  <thead>\n",
              "    <tr style=\"text-align: right;\">\n",
              "      <th></th>\n",
              "      <th>treatment</th>\n",
              "      <th>conversion</th>\n",
              "    </tr>\n",
              "  </thead>\n",
              "  <tbody>\n",
              "    <tr>\n",
              "      <th>0</th>\n",
              "      <td>control</td>\n",
              "      <td>0</td>\n",
              "    </tr>\n",
              "    <tr>\n",
              "      <th>1</th>\n",
              "      <td>control</td>\n",
              "      <td>0</td>\n",
              "    </tr>\n",
              "    <tr>\n",
              "      <th>2</th>\n",
              "      <td>control</td>\n",
              "      <td>0</td>\n",
              "    </tr>\n",
              "    <tr>\n",
              "      <th>3</th>\n",
              "      <td>treatment</td>\n",
              "      <td>1</td>\n",
              "    </tr>\n",
              "    <tr>\n",
              "      <th>4</th>\n",
              "      <td>control</td>\n",
              "      <td>0</td>\n",
              "    </tr>\n",
              "    <tr>\n",
              "      <th>...</th>\n",
              "      <td>...</td>\n",
              "      <td>...</td>\n",
              "    </tr>\n",
              "    <tr>\n",
              "      <th>199995</th>\n",
              "      <td>control</td>\n",
              "      <td>0</td>\n",
              "    </tr>\n",
              "    <tr>\n",
              "      <th>199996</th>\n",
              "      <td>control</td>\n",
              "      <td>0</td>\n",
              "    </tr>\n",
              "    <tr>\n",
              "      <th>199997</th>\n",
              "      <td>control</td>\n",
              "      <td>0</td>\n",
              "    </tr>\n",
              "    <tr>\n",
              "      <th>199998</th>\n",
              "      <td>treatment</td>\n",
              "      <td>0</td>\n",
              "    </tr>\n",
              "    <tr>\n",
              "      <th>199999</th>\n",
              "      <td>control</td>\n",
              "      <td>0</td>\n",
              "    </tr>\n",
              "  </tbody>\n",
              "</table>\n",
              "<p>200000 rows × 2 columns</p>\n",
              "</div>"
            ],
            "text/plain": [
              "        treatment  conversion\n",
              "0         control           0\n",
              "1         control           0\n",
              "2         control           0\n",
              "3       treatment           1\n",
              "4         control           0\n",
              "...           ...         ...\n",
              "199995    control           0\n",
              "199996    control           0\n",
              "199997    control           0\n",
              "199998  treatment           0\n",
              "199999    control           0\n",
              "\n",
              "[200000 rows x 2 columns]"
            ]
          },
          "metadata": {
            "tags": []
          },
          "execution_count": 43
        }
      ]
    },
    {
      "cell_type": "markdown",
      "metadata": {
        "id": "QkMJh-AvWGeD"
      },
      "source": [
        "**1 пункт** Оценка АТЕ"
      ]
    },
    {
      "cell_type": "code",
      "metadata": {
        "colab": {
          "base_uri": "https://localhost:8080/"
        },
        "id": "lPVc7nrpVRsh",
        "outputId": "9f8d35bd-b761-462a-98b0-f4ca4a65b1ca"
      },
      "source": [
        "# ANCOVA\n",
        "data3['W'] = (data3['treatment'] == 'treatment')\n",
        "\n",
        "lin_mod = LinearRegression()\n",
        "\n",
        "lin_mod.fit(data3.drop(['treatment', 'conversion'], axis = 1), data3['conversion'])\n",
        "\n",
        "pd.Series(index = data3.drop(['treatment', 'conversion'], axis = 1).columns, data = lin_mod.coef_)['W']"
      ],
      "execution_count": null,
      "outputs": [
        {
          "output_type": "execute_result",
          "data": {
            "text/plain": [
              "0.06021320907166228"
            ]
          },
          "metadata": {
            "tags": []
          },
          "execution_count": 44
        }
      ]
    },
    {
      "cell_type": "markdown",
      "metadata": {
        "id": "9j8fODhSMZ97"
      },
      "source": [
        "Как видно, здесь оценка АТЕ дала малое значение, что говорит о низком влиянии эффекта, через регрессию методом ANCOVA/"
      ]
    },
    {
      "cell_type": "markdown",
      "metadata": {
        "id": "WprP6528bMGp"
      },
      "source": [
        "**2 пункт** Оценка САТЕ"
      ]
    },
    {
      "cell_type": "code",
      "metadata": {
        "colab": {
          "base_uri": "https://localhost:8080/"
        },
        "id": "ATzrJiMGWDJs",
        "outputId": "4dc04736-eb24-4668-bd4c-c2633b93dc44"
      },
      "source": [
        "# S-learner Log-regression\n",
        "\n",
        "log = LogisticRegression()\n",
        "\n",
        "log.fit(data3.drop(['treatment', 'conversion'], axis = 1), data3['conversion'])"
      ],
      "execution_count": null,
      "outputs": [
        {
          "output_type": "execute_result",
          "data": {
            "text/plain": [
              "LogisticRegression(C=1.0, class_weight=None, dual=False, fit_intercept=True,\n",
              "                   intercept_scaling=1, l1_ratio=None, max_iter=100,\n",
              "                   multi_class='auto', n_jobs=None, penalty='l2',\n",
              "                   random_state=None, solver='lbfgs', tol=0.0001, verbose=0,\n",
              "                   warm_start=False)"
            ]
          },
          "metadata": {
            "tags": []
          },
          "execution_count": 45
        }
      ]
    },
    {
      "cell_type": "code",
      "metadata": {
        "id": "4f9wB6badcoc"
      },
      "source": [
        "preds = log.predict(data3.drop(['treatment', 'conversion'], axis = 1))"
      ],
      "execution_count": null,
      "outputs": []
    },
    {
      "cell_type": "code",
      "metadata": {
        "id": "0b476ysxeTB5"
      },
      "source": [
        "data3['W_reverse'] = 1 - data3['W']\n",
        "preds_reverse = log.predict(data3.drop(['treatment', 'W', 'conversion'], axis = 1))"
      ],
      "execution_count": null,
      "outputs": []
    },
    {
      "cell_type": "code",
      "metadata": {
        "id": "fM0iJ8JreYmm"
      },
      "source": [
        "data3['CATE'] = abs(preds - preds_reverse)"
      ],
      "execution_count": null,
      "outputs": []
    },
    {
      "cell_type": "code",
      "metadata": {
        "colab": {
          "base_uri": "https://localhost:8080/"
        },
        "id": "PrKe1tbxedb6",
        "outputId": "5faa839f-7572-4df6-d33f-82ad31ec72c8"
      },
      "source": [
        "data3['CATE'].describe()"
      ],
      "execution_count": null,
      "outputs": [
        {
          "output_type": "execute_result",
          "data": {
            "text/plain": [
              "count    200000.000000\n",
              "mean          0.050255\n",
              "std           0.218471\n",
              "min           0.000000\n",
              "25%           0.000000\n",
              "50%           0.000000\n",
              "75%           0.000000\n",
              "max           1.000000\n",
              "Name: CATE, dtype: float64"
            ]
          },
          "metadata": {
            "tags": []
          },
          "execution_count": 49
        }
      ]
    },
    {
      "cell_type": "code",
      "metadata": {
        "colab": {
          "base_uri": "https://localhost:8080/",
          "height": 419
        },
        "id": "-UnrtQG6e8Ua",
        "outputId": "c0aa2e62-4782-4dfc-c52f-9fdd4e4a43a6"
      },
      "source": [
        "data3.drop(['W_reverse'], axis = 1, inplace = True)\n",
        "data3[data3['CATE'] > 0]"
      ],
      "execution_count": null,
      "outputs": [
        {
          "output_type": "execute_result",
          "data": {
            "text/html": [
              "<div>\n",
              "<style scoped>\n",
              "    .dataframe tbody tr th:only-of-type {\n",
              "        vertical-align: middle;\n",
              "    }\n",
              "\n",
              "    .dataframe tbody tr th {\n",
              "        vertical-align: top;\n",
              "    }\n",
              "\n",
              "    .dataframe thead th {\n",
              "        text-align: right;\n",
              "    }\n",
              "</style>\n",
              "<table border=\"1\" class=\"dataframe\">\n",
              "  <thead>\n",
              "    <tr style=\"text-align: right;\">\n",
              "      <th></th>\n",
              "      <th>treatment</th>\n",
              "      <th>X_1</th>\n",
              "      <th>X_2</th>\n",
              "      <th>X_3</th>\n",
              "      <th>X_4</th>\n",
              "      <th>X_5</th>\n",
              "      <th>X_6</th>\n",
              "      <th>X_7</th>\n",
              "      <th>X_8</th>\n",
              "      <th>X_9</th>\n",
              "      <th>X_10</th>\n",
              "      <th>X_11</th>\n",
              "      <th>X_12</th>\n",
              "      <th>X_13</th>\n",
              "      <th>X_14</th>\n",
              "      <th>X_15</th>\n",
              "      <th>X_16</th>\n",
              "      <th>X_17</th>\n",
              "      <th>X_18</th>\n",
              "      <th>X_19</th>\n",
              "      <th>X_20</th>\n",
              "      <th>X_21</th>\n",
              "      <th>X_22</th>\n",
              "      <th>conversion</th>\n",
              "      <th>W</th>\n",
              "      <th>CATE</th>\n",
              "    </tr>\n",
              "  </thead>\n",
              "  <tbody>\n",
              "    <tr>\n",
              "      <th>61</th>\n",
              "      <td>treatment</td>\n",
              "      <td>-0.610373</td>\n",
              "      <td>-0.308647</td>\n",
              "      <td>-0.237840</td>\n",
              "      <td>0.120394</td>\n",
              "      <td>1.052224</td>\n",
              "      <td>-0.317636</td>\n",
              "      <td>1.246088</td>\n",
              "      <td>0.919782</td>\n",
              "      <td>0.120394</td>\n",
              "      <td>0.047684</td>\n",
              "      <td>0.325346</td>\n",
              "      <td>-0.473962</td>\n",
              "      <td>1.331890</td>\n",
              "      <td>1.226932</td>\n",
              "      <td>0.211140</td>\n",
              "      <td>0.488760</td>\n",
              "      <td>0.985664</td>\n",
              "      <td>-0.930406</td>\n",
              "      <td>-0.791488</td>\n",
              "      <td>-2.744115</td>\n",
              "      <td>-0.422957</td>\n",
              "      <td>-1.238070</td>\n",
              "      <td>0</td>\n",
              "      <td>True</td>\n",
              "      <td>1</td>\n",
              "    </tr>\n",
              "    <tr>\n",
              "      <th>64</th>\n",
              "      <td>treatment</td>\n",
              "      <td>0.225266</td>\n",
              "      <td>1.866995</td>\n",
              "      <td>-1.810772</td>\n",
              "      <td>2.313687</td>\n",
              "      <td>1.499071</td>\n",
              "      <td>-0.520162</td>\n",
              "      <td>-0.047561</td>\n",
              "      <td>0.666013</td>\n",
              "      <td>2.313687</td>\n",
              "      <td>0.438317</td>\n",
              "      <td>0.021688</td>\n",
              "      <td>0.330910</td>\n",
              "      <td>1.267161</td>\n",
              "      <td>0.654121</td>\n",
              "      <td>0.170246</td>\n",
              "      <td>-0.586087</td>\n",
              "      <td>2.144802</td>\n",
              "      <td>-0.328851</td>\n",
              "      <td>-0.038509</td>\n",
              "      <td>-1.618549</td>\n",
              "      <td>0.526942</td>\n",
              "      <td>0.119248</td>\n",
              "      <td>1</td>\n",
              "      <td>True</td>\n",
              "      <td>1</td>\n",
              "    </tr>\n",
              "    <tr>\n",
              "      <th>71</th>\n",
              "      <td>treatment</td>\n",
              "      <td>-1.589058</td>\n",
              "      <td>1.600086</td>\n",
              "      <td>-0.102487</td>\n",
              "      <td>-0.203783</td>\n",
              "      <td>2.280610</td>\n",
              "      <td>-3.553484</td>\n",
              "      <td>0.112979</td>\n",
              "      <td>1.485081</td>\n",
              "      <td>-0.203783</td>\n",
              "      <td>0.370620</td>\n",
              "      <td>1.402116</td>\n",
              "      <td>-1.173238</td>\n",
              "      <td>-0.055089</td>\n",
              "      <td>0.436930</td>\n",
              "      <td>-0.007728</td>\n",
              "      <td>2.092004</td>\n",
              "      <td>0.372389</td>\n",
              "      <td>2.456058</td>\n",
              "      <td>2.185219</td>\n",
              "      <td>-0.733725</td>\n",
              "      <td>1.195737</td>\n",
              "      <td>-0.311258</td>\n",
              "      <td>0</td>\n",
              "      <td>True</td>\n",
              "      <td>1</td>\n",
              "    </tr>\n",
              "    <tr>\n",
              "      <th>96</th>\n",
              "      <td>treatment</td>\n",
              "      <td>0.531269</td>\n",
              "      <td>2.586262</td>\n",
              "      <td>1.147006</td>\n",
              "      <td>2.681065</td>\n",
              "      <td>1.169534</td>\n",
              "      <td>-0.375777</td>\n",
              "      <td>1.354496</td>\n",
              "      <td>0.840933</td>\n",
              "      <td>2.681065</td>\n",
              "      <td>-0.883640</td>\n",
              "      <td>1.531179</td>\n",
              "      <td>1.058642</td>\n",
              "      <td>1.037474</td>\n",
              "      <td>1.479558</td>\n",
              "      <td>0.506364</td>\n",
              "      <td>0.884710</td>\n",
              "      <td>1.266842</td>\n",
              "      <td>1.455592</td>\n",
              "      <td>1.495042</td>\n",
              "      <td>-1.359134</td>\n",
              "      <td>0.801101</td>\n",
              "      <td>-1.256396</td>\n",
              "      <td>1</td>\n",
              "      <td>True</td>\n",
              "      <td>1</td>\n",
              "    </tr>\n",
              "    <tr>\n",
              "      <th>120</th>\n",
              "      <td>control</td>\n",
              "      <td>-1.469638</td>\n",
              "      <td>2.336132</td>\n",
              "      <td>0.450287</td>\n",
              "      <td>0.341199</td>\n",
              "      <td>2.829890</td>\n",
              "      <td>-4.002050</td>\n",
              "      <td>-0.582505</td>\n",
              "      <td>0.725294</td>\n",
              "      <td>0.341199</td>\n",
              "      <td>-1.952663</td>\n",
              "      <td>-0.129815</td>\n",
              "      <td>-1.181808</td>\n",
              "      <td>-0.270466</td>\n",
              "      <td>0.473038</td>\n",
              "      <td>0.646938</td>\n",
              "      <td>3.217458</td>\n",
              "      <td>-0.726883</td>\n",
              "      <td>2.902371</td>\n",
              "      <td>2.636675</td>\n",
              "      <td>-1.706852</td>\n",
              "      <td>0.290161</td>\n",
              "      <td>-1.074301</td>\n",
              "      <td>0</td>\n",
              "      <td>False</td>\n",
              "      <td>1</td>\n",
              "    </tr>\n",
              "    <tr>\n",
              "      <th>...</th>\n",
              "      <td>...</td>\n",
              "      <td>...</td>\n",
              "      <td>...</td>\n",
              "      <td>...</td>\n",
              "      <td>...</td>\n",
              "      <td>...</td>\n",
              "      <td>...</td>\n",
              "      <td>...</td>\n",
              "      <td>...</td>\n",
              "      <td>...</td>\n",
              "      <td>...</td>\n",
              "      <td>...</td>\n",
              "      <td>...</td>\n",
              "      <td>...</td>\n",
              "      <td>...</td>\n",
              "      <td>...</td>\n",
              "      <td>...</td>\n",
              "      <td>...</td>\n",
              "      <td>...</td>\n",
              "      <td>...</td>\n",
              "      <td>...</td>\n",
              "      <td>...</td>\n",
              "      <td>...</td>\n",
              "      <td>...</td>\n",
              "      <td>...</td>\n",
              "      <td>...</td>\n",
              "    </tr>\n",
              "    <tr>\n",
              "      <th>199864</th>\n",
              "      <td>control</td>\n",
              "      <td>-0.806263</td>\n",
              "      <td>1.255607</td>\n",
              "      <td>-0.978384</td>\n",
              "      <td>1.659797</td>\n",
              "      <td>2.986155</td>\n",
              "      <td>-1.770437</td>\n",
              "      <td>-0.769514</td>\n",
              "      <td>1.717997</td>\n",
              "      <td>1.659797</td>\n",
              "      <td>0.764483</td>\n",
              "      <td>-0.735556</td>\n",
              "      <td>1.259265</td>\n",
              "      <td>-1.634714</td>\n",
              "      <td>0.004427</td>\n",
              "      <td>-0.839384</td>\n",
              "      <td>0.947836</td>\n",
              "      <td>1.052869</td>\n",
              "      <td>0.596977</td>\n",
              "      <td>0.636952</td>\n",
              "      <td>-0.366053</td>\n",
              "      <td>1.389036</td>\n",
              "      <td>0.316250</td>\n",
              "      <td>0</td>\n",
              "      <td>False</td>\n",
              "      <td>1</td>\n",
              "    </tr>\n",
              "    <tr>\n",
              "      <th>199880</th>\n",
              "      <td>treatment</td>\n",
              "      <td>-1.714522</td>\n",
              "      <td>2.606462</td>\n",
              "      <td>-0.929439</td>\n",
              "      <td>-1.944212</td>\n",
              "      <td>2.456356</td>\n",
              "      <td>-5.406497</td>\n",
              "      <td>0.473810</td>\n",
              "      <td>-0.913330</td>\n",
              "      <td>-1.944212</td>\n",
              "      <td>0.640774</td>\n",
              "      <td>0.897207</td>\n",
              "      <td>1.396955</td>\n",
              "      <td>-0.390451</td>\n",
              "      <td>0.505808</td>\n",
              "      <td>-0.379954</td>\n",
              "      <td>-1.246878</td>\n",
              "      <td>-0.869221</td>\n",
              "      <td>-0.818538</td>\n",
              "      <td>-0.344976</td>\n",
              "      <td>-0.170926</td>\n",
              "      <td>1.701051</td>\n",
              "      <td>0.387997</td>\n",
              "      <td>1</td>\n",
              "      <td>True</td>\n",
              "      <td>1</td>\n",
              "    </tr>\n",
              "    <tr>\n",
              "      <th>199890</th>\n",
              "      <td>control</td>\n",
              "      <td>-0.443619</td>\n",
              "      <td>2.556140</td>\n",
              "      <td>-0.376256</td>\n",
              "      <td>0.072080</td>\n",
              "      <td>1.826305</td>\n",
              "      <td>-3.030125</td>\n",
              "      <td>-0.289345</td>\n",
              "      <td>0.908622</td>\n",
              "      <td>0.072080</td>\n",
              "      <td>0.434511</td>\n",
              "      <td>-0.417365</td>\n",
              "      <td>-0.099745</td>\n",
              "      <td>-1.395902</td>\n",
              "      <td>1.027294</td>\n",
              "      <td>-0.043141</td>\n",
              "      <td>-0.728158</td>\n",
              "      <td>-1.769034</td>\n",
              "      <td>-2.122948</td>\n",
              "      <td>-1.407942</td>\n",
              "      <td>-0.393922</td>\n",
              "      <td>1.440480</td>\n",
              "      <td>-0.003752</td>\n",
              "      <td>0</td>\n",
              "      <td>False</td>\n",
              "      <td>1</td>\n",
              "    </tr>\n",
              "    <tr>\n",
              "      <th>199933</th>\n",
              "      <td>treatment</td>\n",
              "      <td>0.146755</td>\n",
              "      <td>2.712056</td>\n",
              "      <td>0.133350</td>\n",
              "      <td>3.158502</td>\n",
              "      <td>2.530837</td>\n",
              "      <td>-0.629692</td>\n",
              "      <td>3.179561</td>\n",
              "      <td>0.595427</td>\n",
              "      <td>3.158502</td>\n",
              "      <td>0.520665</td>\n",
              "      <td>0.255114</td>\n",
              "      <td>-0.088595</td>\n",
              "      <td>1.140088</td>\n",
              "      <td>-1.319979</td>\n",
              "      <td>-0.160052</td>\n",
              "      <td>2.786912</td>\n",
              "      <td>-0.405274</td>\n",
              "      <td>2.336759</td>\n",
              "      <td>2.224314</td>\n",
              "      <td>-3.885938</td>\n",
              "      <td>-1.363210</td>\n",
              "      <td>-1.992318</td>\n",
              "      <td>1</td>\n",
              "      <td>True</td>\n",
              "      <td>1</td>\n",
              "    </tr>\n",
              "    <tr>\n",
              "      <th>199967</th>\n",
              "      <td>control</td>\n",
              "      <td>0.670436</td>\n",
              "      <td>0.564545</td>\n",
              "      <td>-0.799633</td>\n",
              "      <td>2.649791</td>\n",
              "      <td>0.897615</td>\n",
              "      <td>1.558663</td>\n",
              "      <td>1.329001</td>\n",
              "      <td>0.945007</td>\n",
              "      <td>2.649791</td>\n",
              "      <td>0.324593</td>\n",
              "      <td>-1.208978</td>\n",
              "      <td>1.087446</td>\n",
              "      <td>-0.838672</td>\n",
              "      <td>0.548429</td>\n",
              "      <td>-0.028976</td>\n",
              "      <td>0.986414</td>\n",
              "      <td>1.214107</td>\n",
              "      <td>1.544481</td>\n",
              "      <td>1.320247</td>\n",
              "      <td>-1.128834</td>\n",
              "      <td>0.909104</td>\n",
              "      <td>-0.152416</td>\n",
              "      <td>1</td>\n",
              "      <td>False</td>\n",
              "      <td>1</td>\n",
              "    </tr>\n",
              "  </tbody>\n",
              "</table>\n",
              "<p>10051 rows × 26 columns</p>\n",
              "</div>"
            ],
            "text/plain": [
              "        treatment       X_1       X_2  ...  conversion      W  CATE\n",
              "61      treatment -0.610373 -0.308647  ...           0   True     1\n",
              "64      treatment  0.225266  1.866995  ...           1   True     1\n",
              "71      treatment -1.589058  1.600086  ...           0   True     1\n",
              "96      treatment  0.531269  2.586262  ...           1   True     1\n",
              "120       control -1.469638  2.336132  ...           0  False     1\n",
              "...           ...       ...       ...  ...         ...    ...   ...\n",
              "199864    control -0.806263  1.255607  ...           0  False     1\n",
              "199880  treatment -1.714522  2.606462  ...           1   True     1\n",
              "199890    control -0.443619  2.556140  ...           0  False     1\n",
              "199933  treatment  0.146755  2.712056  ...           1   True     1\n",
              "199967    control  0.670436  0.564545  ...           1  False     1\n",
              "\n",
              "[10051 rows x 26 columns]"
            ]
          },
          "metadata": {
            "tags": []
          },
          "execution_count": 50
        }
      ]
    },
    {
      "cell_type": "code",
      "metadata": {
        "id": "-T1iSfvSfG7u"
      },
      "source": [
        "# T-learner\n",
        "log_reg0 = LogisticRegression()\n",
        "log_reg0.fit(data3[data3.W == 0].drop(['treatment', 'conversion', 'CATE'], axis = 1), data3[data3.W == 0]['conversion'])\n",
        "\n",
        "preds0 = log_reg0.predict(data3.drop(['treatment', 'conversion', 'CATE'], axis = 1))\n",
        "\n",
        "log_reg1 = LogisticRegression()\n",
        "log_reg1.fit(data3[data3.W == 1].drop(['treatment', 'conversion', 'CATE'], axis = 1), data3[data3.W == 1]['conversion'])\n",
        "\n",
        "preds1 = log_reg1.predict(data3.drop(['treatment', 'conversion', 'CATE'], axis = 1))\n",
        "\n",
        "data3['CATE_T'] = preds1 - preds0"
      ],
      "execution_count": null,
      "outputs": []
    },
    {
      "cell_type": "code",
      "metadata": {
        "colab": {
          "base_uri": "https://localhost:8080/",
          "height": 214
        },
        "id": "oLYcVFBthNp5",
        "outputId": "753a587a-c461-49f1-8294-b688e51974fe"
      },
      "source": [
        "data3.head()"
      ],
      "execution_count": null,
      "outputs": [
        {
          "output_type": "execute_result",
          "data": {
            "text/html": [
              "<div>\n",
              "<style scoped>\n",
              "    .dataframe tbody tr th:only-of-type {\n",
              "        vertical-align: middle;\n",
              "    }\n",
              "\n",
              "    .dataframe tbody tr th {\n",
              "        vertical-align: top;\n",
              "    }\n",
              "\n",
              "    .dataframe thead th {\n",
              "        text-align: right;\n",
              "    }\n",
              "</style>\n",
              "<table border=\"1\" class=\"dataframe\">\n",
              "  <thead>\n",
              "    <tr style=\"text-align: right;\">\n",
              "      <th></th>\n",
              "      <th>treatment</th>\n",
              "      <th>X_1</th>\n",
              "      <th>X_2</th>\n",
              "      <th>X_3</th>\n",
              "      <th>X_4</th>\n",
              "      <th>X_5</th>\n",
              "      <th>X_6</th>\n",
              "      <th>X_7</th>\n",
              "      <th>X_8</th>\n",
              "      <th>X_9</th>\n",
              "      <th>X_10</th>\n",
              "      <th>X_11</th>\n",
              "      <th>X_12</th>\n",
              "      <th>X_13</th>\n",
              "      <th>X_14</th>\n",
              "      <th>X_15</th>\n",
              "      <th>X_16</th>\n",
              "      <th>X_17</th>\n",
              "      <th>X_18</th>\n",
              "      <th>X_19</th>\n",
              "      <th>X_20</th>\n",
              "      <th>X_21</th>\n",
              "      <th>X_22</th>\n",
              "      <th>conversion</th>\n",
              "      <th>W</th>\n",
              "      <th>CATE</th>\n",
              "      <th>CATE_T</th>\n",
              "    </tr>\n",
              "  </thead>\n",
              "  <tbody>\n",
              "    <tr>\n",
              "      <th>0</th>\n",
              "      <td>control</td>\n",
              "      <td>0.034351</td>\n",
              "      <td>0.550725</td>\n",
              "      <td>-1.348524</td>\n",
              "      <td>-0.029591</td>\n",
              "      <td>0.499535</td>\n",
              "      <td>-0.412464</td>\n",
              "      <td>0.933588</td>\n",
              "      <td>-0.522954</td>\n",
              "      <td>-0.029591</td>\n",
              "      <td>-0.807218</td>\n",
              "      <td>1.318646</td>\n",
              "      <td>-0.065262</td>\n",
              "      <td>-0.956947</td>\n",
              "      <td>-0.314573</td>\n",
              "      <td>-0.879456</td>\n",
              "      <td>0.640264</td>\n",
              "      <td>1.165722</td>\n",
              "      <td>0.570495</td>\n",
              "      <td>0.529443</td>\n",
              "      <td>0.227962</td>\n",
              "      <td>1.929914</td>\n",
              "      <td>0.798664</td>\n",
              "      <td>0</td>\n",
              "      <td>False</td>\n",
              "      <td>0</td>\n",
              "      <td>0</td>\n",
              "    </tr>\n",
              "    <tr>\n",
              "      <th>1</th>\n",
              "      <td>control</td>\n",
              "      <td>-1.059404</td>\n",
              "      <td>0.299404</td>\n",
              "      <td>0.220273</td>\n",
              "      <td>-1.569660</td>\n",
              "      <td>1.084204</td>\n",
              "      <td>-2.167118</td>\n",
              "      <td>1.216469</td>\n",
              "      <td>-0.744547</td>\n",
              "      <td>-1.569660</td>\n",
              "      <td>-0.460971</td>\n",
              "      <td>-1.396720</td>\n",
              "      <td>0.600044</td>\n",
              "      <td>1.000000</td>\n",
              "      <td>0.303664</td>\n",
              "      <td>1.080643</td>\n",
              "      <td>2.646483</td>\n",
              "      <td>-0.329690</td>\n",
              "      <td>1.725636</td>\n",
              "      <td>1.434649</td>\n",
              "      <td>-2.064893</td>\n",
              "      <td>0.188000</td>\n",
              "      <td>-1.134651</td>\n",
              "      <td>0</td>\n",
              "      <td>False</td>\n",
              "      <td>0</td>\n",
              "      <td>0</td>\n",
              "    </tr>\n",
              "    <tr>\n",
              "      <th>2</th>\n",
              "      <td>control</td>\n",
              "      <td>0.051934</td>\n",
              "      <td>2.338729</td>\n",
              "      <td>-0.341017</td>\n",
              "      <td>-1.099362</td>\n",
              "      <td>0.693090</td>\n",
              "      <td>-2.424267</td>\n",
              "      <td>1.572066</td>\n",
              "      <td>-0.212798</td>\n",
              "      <td>-1.099362</td>\n",
              "      <td>-1.430502</td>\n",
              "      <td>0.469694</td>\n",
              "      <td>1.251940</td>\n",
              "      <td>0.943003</td>\n",
              "      <td>-0.083721</td>\n",
              "      <td>-1.981712</td>\n",
              "      <td>0.224777</td>\n",
              "      <td>2.038004</td>\n",
              "      <td>2.516398</td>\n",
              "      <td>2.324280</td>\n",
              "      <td>-3.182196</td>\n",
              "      <td>-0.888490</td>\n",
              "      <td>-1.402561</td>\n",
              "      <td>0</td>\n",
              "      <td>False</td>\n",
              "      <td>0</td>\n",
              "      <td>0</td>\n",
              "    </tr>\n",
              "    <tr>\n",
              "      <th>3</th>\n",
              "      <td>treatment</td>\n",
              "      <td>0.667770</td>\n",
              "      <td>0.539316</td>\n",
              "      <td>0.468719</td>\n",
              "      <td>-0.840885</td>\n",
              "      <td>-0.708331</td>\n",
              "      <td>0.126634</td>\n",
              "      <td>1.275854</td>\n",
              "      <td>-0.954919</td>\n",
              "      <td>-0.840885</td>\n",
              "      <td>0.408691</td>\n",
              "      <td>-0.422736</td>\n",
              "      <td>-1.593407</td>\n",
              "      <td>0.247038</td>\n",
              "      <td>-0.752011</td>\n",
              "      <td>-0.347319</td>\n",
              "      <td>-1.659402</td>\n",
              "      <td>-0.871980</td>\n",
              "      <td>-0.893513</td>\n",
              "      <td>-0.658078</td>\n",
              "      <td>-2.704997</td>\n",
              "      <td>-0.390745</td>\n",
              "      <td>-1.578004</td>\n",
              "      <td>1</td>\n",
              "      <td>True</td>\n",
              "      <td>0</td>\n",
              "      <td>1</td>\n",
              "    </tr>\n",
              "    <tr>\n",
              "      <th>4</th>\n",
              "      <td>control</td>\n",
              "      <td>-1.416158</td>\n",
              "      <td>2.486628</td>\n",
              "      <td>0.496402</td>\n",
              "      <td>-1.174618</td>\n",
              "      <td>2.738267</td>\n",
              "      <td>-4.756755</td>\n",
              "      <td>-0.180918</td>\n",
              "      <td>-1.281432</td>\n",
              "      <td>-1.174618</td>\n",
              "      <td>-0.243256</td>\n",
              "      <td>0.598662</td>\n",
              "      <td>0.750706</td>\n",
              "      <td>0.554053</td>\n",
              "      <td>-1.198151</td>\n",
              "      <td>-0.232961</td>\n",
              "      <td>0.948875</td>\n",
              "      <td>1.210523</td>\n",
              "      <td>1.536723</td>\n",
              "      <td>1.548610</td>\n",
              "      <td>-0.926435</td>\n",
              "      <td>0.972459</td>\n",
              "      <td>-0.711251</td>\n",
              "      <td>0</td>\n",
              "      <td>False</td>\n",
              "      <td>0</td>\n",
              "      <td>0</td>\n",
              "    </tr>\n",
              "  </tbody>\n",
              "</table>\n",
              "</div>"
            ],
            "text/plain": [
              "   treatment       X_1       X_2       X_3  ...  conversion      W  CATE  CATE_T\n",
              "0    control  0.034351  0.550725 -1.348524  ...           0  False     0       0\n",
              "1    control -1.059404  0.299404  0.220273  ...           0  False     0       0\n",
              "2    control  0.051934  2.338729 -0.341017  ...           0  False     0       0\n",
              "3  treatment  0.667770  0.539316  0.468719  ...           1   True     0       1\n",
              "4    control -1.416158  2.486628  0.496402  ...           0  False     0       0\n",
              "\n",
              "[5 rows x 27 columns]"
            ]
          },
          "metadata": {
            "tags": []
          },
          "execution_count": 52
        }
      ]
    },
    {
      "cell_type": "code",
      "metadata": {
        "id": "SLKZFieihqtg"
      },
      "source": [
        "# X-learner\n",
        "D1 = preds1 - data3['conversion']\n",
        "D0 = data3['conversion'] - preds0\n",
        "\n",
        "\n",
        "log_mod = LogisticRegression()\n",
        "log_mod.fit(data3.drop(['treatment', 'conversion', 'CATE', 'CATE_T'], axis = 1), D1)\n",
        "tau1 = log_mod.predict(data3.drop(['treatment', 'conversion', 'CATE', 'CATE_T'], axis = 1))\n",
        "log_mod.fit(data3.drop(['treatment', 'conversion', 'CATE', 'CATE_T'], axis = 1), D0)\n",
        "tau0 = log_mod.predict(data3.drop(['treatment', 'conversion', 'CATE', 'CATE_T'], axis = 1))\n",
        "\n",
        "e = log.predict_proba(data3.drop(['treatment', 'conversion', 'CATE', 'CATE_T'], axis = 1))[:, 1]"
      ],
      "execution_count": null,
      "outputs": []
    },
    {
      "cell_type": "code",
      "metadata": {
        "id": "JarrZKmqnwmj"
      },
      "source": [
        "cate_X = e*tau0 + (1-e)*tau1"
      ],
      "execution_count": null,
      "outputs": []
    },
    {
      "cell_type": "code",
      "metadata": {
        "id": "QoQoUeV8qx1i"
      },
      "source": [
        "data3['CATE_X']= cate_X"
      ],
      "execution_count": null,
      "outputs": []
    },
    {
      "cell_type": "markdown",
      "metadata": {
        "id": "X_PyEGSfrGHJ"
      },
      "source": [
        "**3 пункт**. Рекомендации для обьектов"
      ]
    },
    {
      "cell_type": "code",
      "metadata": {
        "id": "Xf8biUbUqy_b"
      },
      "source": [
        "dat = data3.iloc[:, -5:]"
      ],
      "execution_count": null,
      "outputs": []
    },
    {
      "cell_type": "code",
      "metadata": {
        "id": "TXNPc-RNrMLS"
      },
      "source": [
        "dat['sum_cate'] = dat['CATE']+dat['CATE_T']+dat['CATE_X']"
      ],
      "execution_count": null,
      "outputs": []
    },
    {
      "cell_type": "markdown",
      "metadata": {
        "id": "nwvBuVy-r6e0"
      },
      "source": [
        "Рекомендуем товар или услугу, если 2 из 3 найденных коэффициентов САТЕ > 0 (=1)"
      ]
    },
    {
      "cell_type": "code",
      "metadata": {
        "id": "fBJeDL38rmKh"
      },
      "source": [
        "dat['recome'] = (dat['sum_cate'] > 1)"
      ],
      "execution_count": null,
      "outputs": []
    },
    {
      "cell_type": "markdown",
      "metadata": {
        "id": "8Zb-GBZPOXnS"
      },
      "source": [
        "**4 пункт** Ожидаемая конверсия"
      ]
    },
    {
      "cell_type": "code",
      "metadata": {
        "colab": {
          "base_uri": "https://localhost:8080/"
        },
        "id": "6fldtqIOOYC1",
        "outputId": "6c832778-34f8-44eb-dbba-500ad4b29702"
      },
      "source": [
        "dat.conversion.mean()"
      ],
      "execution_count": null,
      "outputs": [
        {
          "output_type": "execute_result",
          "data": {
            "text/plain": [
              "0.152935"
            ]
          },
          "metadata": {
            "tags": []
          },
          "execution_count": 59
        }
      ]
    },
    {
      "cell_type": "markdown",
      "metadata": {
        "id": "NzrxtgWlZBgu"
      },
      "source": [
        "Значение конверсии довольно высокое."
      ]
    },
    {
      "cell_type": "markdown",
      "metadata": {
        "id": "iTM90oH9sbuh"
      },
      "source": [
        "**5 пункт** Выводы."
      ]
    },
    {
      "cell_type": "code",
      "metadata": {
        "colab": {
          "base_uri": "https://localhost:8080/"
        },
        "id": "hF_eLPR5rq2Y",
        "outputId": "7e44c9f9-8aec-4ae4-fcf3-b40054427a11"
      },
      "source": [
        "# Доля рекомендаций ко всем объектам\n",
        "dat.recome.mean()"
      ],
      "execution_count": null,
      "outputs": [
        {
          "output_type": "execute_result",
          "data": {
            "text/plain": [
              "0.062105"
            ]
          },
          "metadata": {
            "tags": []
          },
          "execution_count": 60
        }
      ]
    },
    {
      "cell_type": "markdown",
      "metadata": {
        "id": "K8OJWYnftG-H"
      },
      "source": [
        "Если вспомним про оценку АТЕ из первого пункта, то она равна 0.0602, что примерно и соотвествует доле рекомендаций к всей выборке. СТоит отметить, что число рекомендаций значительно меньше количества всех объектов. Откуда можно предположить, что теперь признаки объектов влияют на распределение объектов в различных группах."
      ]
    },
    {
      "cell_type": "code",
      "metadata": {
        "id": "zjfTIY2NZpSA"
      },
      "source": [
        ""
      ],
      "execution_count": null,
      "outputs": []
    }
  ]
}